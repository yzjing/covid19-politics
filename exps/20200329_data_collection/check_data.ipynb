{
 "cells": [
  {
   "cell_type": "code",
   "execution_count": 2,
   "metadata": {},
   "outputs": [],
   "source": [
    "import pandas as pd\n",
    "import pickle"
   ]
  },
  {
   "cell_type": "code",
   "execution_count": 2,
   "metadata": {},
   "outputs": [],
   "source": [
    "df = pd.read_csv('realDonaldTrump_tweets.csv')"
   ]
  },
  {
   "cell_type": "code",
   "execution_count": 3,
   "metadata": {},
   "outputs": [
    {
     "data": {
      "text/html": [
       "<div>\n",
       "<style scoped>\n",
       "    .dataframe tbody tr th:only-of-type {\n",
       "        vertical-align: middle;\n",
       "    }\n",
       "\n",
       "    .dataframe tbody tr th {\n",
       "        vertical-align: top;\n",
       "    }\n",
       "\n",
       "    .dataframe thead th {\n",
       "        text-align: right;\n",
       "    }\n",
       "</style>\n",
       "<table border=\"1\" class=\"dataframe\">\n",
       "  <thead>\n",
       "    <tr style=\"text-align: right;\">\n",
       "      <th></th>\n",
       "      <th>id</th>\n",
       "      <th>created_at</th>\n",
       "      <th>text</th>\n",
       "      <th>likes</th>\n",
       "      <th>in reply to</th>\n",
       "      <th>retweeted</th>\n",
       "    </tr>\n",
       "  </thead>\n",
       "  <tbody>\n",
       "    <tr>\n",
       "      <td>0</td>\n",
       "      <td>1247986878307078150</td>\n",
       "      <td>2020-04-08 20:37:12</td>\n",
       "      <td>White House news conference at 5:30 P.M. Easte...</td>\n",
       "      <td>5718</td>\n",
       "      <td>NaN</td>\n",
       "      <td>False</td>\n",
       "    </tr>\n",
       "    <tr>\n",
       "      <td>1</td>\n",
       "      <td>1247950299408498693</td>\n",
       "      <td>2020-04-08 18:11:51</td>\n",
       "      <td>Extraordinary times require even closer cooper...</td>\n",
       "      <td>155842</td>\n",
       "      <td>NaN</td>\n",
       "      <td>False</td>\n",
       "    </tr>\n",
       "    <tr>\n",
       "      <td>2</td>\n",
       "      <td>1247920239045681159</td>\n",
       "      <td>2020-04-08 16:12:24</td>\n",
       "      <td>Can’t see AOC plus 3 supporting Sleepy Joe!</td>\n",
       "      <td>79973</td>\n",
       "      <td>NaN</td>\n",
       "      <td>False</td>\n",
       "    </tr>\n",
       "    <tr>\n",
       "      <td>3</td>\n",
       "      <td>1247919539809128451</td>\n",
       "      <td>2020-04-08 16:09:38</td>\n",
       "      <td>Wow, Bernie is unwilling to give up his delega...</td>\n",
       "      <td>85393</td>\n",
       "      <td>NaN</td>\n",
       "      <td>False</td>\n",
       "    </tr>\n",
       "    <tr>\n",
       "      <td>4</td>\n",
       "      <td>1247914464319504385</td>\n",
       "      <td>2020-04-08 15:49:28</td>\n",
       "      <td>Bernie Sanders is OUT! Thank you to Elizabeth ...</td>\n",
       "      <td>183837</td>\n",
       "      <td>NaN</td>\n",
       "      <td>False</td>\n",
       "    </tr>\n",
       "  </tbody>\n",
       "</table>\n",
       "</div>"
      ],
      "text/plain": [
       "                    id           created_at  \\\n",
       "0  1247986878307078150  2020-04-08 20:37:12   \n",
       "1  1247950299408498693  2020-04-08 18:11:51   \n",
       "2  1247920239045681159  2020-04-08 16:12:24   \n",
       "3  1247919539809128451  2020-04-08 16:09:38   \n",
       "4  1247914464319504385  2020-04-08 15:49:28   \n",
       "\n",
       "                                                text   likes in reply to  \\\n",
       "0  White House news conference at 5:30 P.M. Easte...    5718         NaN   \n",
       "1  Extraordinary times require even closer cooper...  155842         NaN   \n",
       "2        Can’t see AOC plus 3 supporting Sleepy Joe!   79973         NaN   \n",
       "3  Wow, Bernie is unwilling to give up his delega...   85393         NaN   \n",
       "4  Bernie Sanders is OUT! Thank you to Elizabeth ...  183837         NaN   \n",
       "\n",
       "   retweeted  \n",
       "0      False  \n",
       "1      False  \n",
       "2      False  \n",
       "3      False  \n",
       "4      False  "
      ]
     },
     "execution_count": 3,
     "metadata": {},
     "output_type": "execute_result"
    }
   ],
   "source": [
    "df.head()"
   ]
  },
  {
   "cell_type": "code",
   "execution_count": 3,
   "metadata": {},
   "outputs": [],
   "source": [
    "data = pickle.load(open(\"POTUS_tweets.p\", 'rb'))"
   ]
  },
  {
   "cell_type": "code",
   "execution_count": 8,
   "metadata": {},
   "outputs": [
    {
     "data": {
      "text/plain": [
       "'RT @realDonaldTrump: The Wall Street Journal always “forgets” to mention that the ratings for the White House Press Briefings are “through…'"
      ]
     },
     "execution_count": 8,
     "metadata": {},
     "output_type": "execute_result"
    }
   ],
   "source": [
    "data[0].text"
   ]
  },
  {
   "cell_type": "code",
   "execution_count": null,
   "metadata": {},
   "outputs": [],
   "source": []
  }
 ],
 "metadata": {
  "kernelspec": {
   "display_name": "Python 3 (ipykernel)",
   "language": "python",
   "name": "python3"
  },
  "language_info": {
   "codemirror_mode": {
    "name": "ipython",
    "version": 3
   },
   "file_extension": ".py",
   "mimetype": "text/x-python",
   "name": "python",
   "nbconvert_exporter": "python",
   "pygments_lexer": "ipython3",
   "version": "3.7.7"
  }
 },
 "nbformat": 4,
 "nbformat_minor": 2
}
