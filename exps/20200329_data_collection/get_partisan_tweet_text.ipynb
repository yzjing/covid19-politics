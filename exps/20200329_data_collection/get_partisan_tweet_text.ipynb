{
 "cells": [
  {
   "cell_type": "code",
   "execution_count": 1,
   "metadata": {},
   "outputs": [],
   "source": [
    "import pickle\n",
    "import os\n",
    "import datetime\n",
    "import numpy as np\n",
    "import re\n",
    "import pandas as pd\n",
    "import random"
   ]
  },
  {
   "cell_type": "code",
   "execution_count": 2,
   "metadata": {},
   "outputs": [],
   "source": [
    "data_path = '../../data/'"
   ]
  },
  {
   "cell_type": "code",
   "execution_count": 3,
   "metadata": {},
   "outputs": [],
   "source": [
    "govenor_path = '../../data/govenors_tweets/'"
   ]
  },
  {
   "cell_type": "code",
   "execution_count": 4,
   "metadata": {},
   "outputs": [],
   "source": [
    "senate_path = '../../data/senators_tweets/'"
   ]
  },
  {
   "cell_type": "code",
   "execution_count": 5,
   "metadata": {},
   "outputs": [],
   "source": [
    "house_path = '../../data/us_representatives_tweets/'"
   ]
  },
  {
   "cell_type": "code",
   "execution_count": 6,
   "metadata": {},
   "outputs": [],
   "source": [
    "potus_path = '../../data/POTUS_tweets/'"
   ]
  },
  {
   "cell_type": "code",
   "execution_count": 7,
   "metadata": {},
   "outputs": [
    {
     "data": {
      "text/plain": [
       "['2020-05-21', '2020-04-14', '2020-07-22', '2020-09-07', '2020-10-26']"
      ]
     },
     "execution_count": 7,
     "metadata": {},
     "output_type": "execute_result"
    }
   ],
   "source": [
    "os.listdir(potus_path)"
   ]
  },
  {
   "cell_type": "code",
   "execution_count": 8,
   "metadata": {},
   "outputs": [],
   "source": [
    "house_rep_screennames = pickle.load(open(data_path+'house_rep_screennames.p', 'rb'))"
   ]
  },
  {
   "cell_type": "code",
   "execution_count": 9,
   "metadata": {},
   "outputs": [],
   "source": [
    "house_dem_screennames = pickle.load(open(data_path+'house_dem_screennames.p', 'rb'))"
   ]
  },
  {
   "cell_type": "code",
   "execution_count": 10,
   "metadata": {},
   "outputs": [],
   "source": [
    "senate_dem_screennames = pickle.load(open(data_path+'senate_dem_screennames.p', 'rb'))"
   ]
  },
  {
   "cell_type": "code",
   "execution_count": 11,
   "metadata": {},
   "outputs": [],
   "source": [
    "senate_rep_screennames = pickle.load(open(data_path+'senate_rep_screennames.p', 'rb'))"
   ]
  },
  {
   "cell_type": "code",
   "execution_count": 12,
   "metadata": {},
   "outputs": [],
   "source": [
    "govenor_rep_screennames = pickle.load(open(data_path+'govenor_rep_screennames.p', 'rb'))"
   ]
  },
  {
   "cell_type": "code",
   "execution_count": 13,
   "metadata": {},
   "outputs": [],
   "source": [
    "govenor_dem_screennames = pickle.load(open(data_path+'govenor_dem_screennames.p', 'rb'))"
   ]
  },
  {
   "cell_type": "code",
   "execution_count": 14,
   "metadata": {},
   "outputs": [],
   "source": [
    "def preprocess_text(text):\n",
    "    # remove links\n",
    "    text = re.sub(r'https?:\\/\\/.*[\\r\\n]*', '', text, flags=re.MULTILINE)\n",
    "    return text"
   ]
  },
  {
   "cell_type": "code",
   "execution_count": 15,
   "metadata": {},
   "outputs": [],
   "source": [
    "def collect_tweet_text(file_path, screenname_list):\n",
    "    all_texts = []\n",
    "    for name in screenname_list:\n",
    "        try:\n",
    "            file_name = os.path.join(file_path, '2020-07-22', '{}_tweets.p'.format(name))\n",
    "            tweets = pickle.load(open(file_name, 'rb'))\n",
    "            tweet_cnt = 0\n",
    "            no_full_cnt = 0\n",
    "            for tweet in tweets:\n",
    "                if tweet.created_at > datetime.datetime(2020, 2, 1):\n",
    "                    tweet_cnt += 1\n",
    "                    try:\n",
    "                        text = tweet.full_text\n",
    "                    except Exception as e:\n",
    "                        text = tweet.text\n",
    "                        no_full_cnt += 1\n",
    "                        if random.random() < 0.1:\n",
    "                            print('no full text, {} percent without full text so far'.format(no_full_cnt/tweet_cnt))\n",
    "                    time = tweet.created_at\n",
    "                    text = preprocess_text(text)\n",
    "                    all_texts.append([text, time])\n",
    "        except Exception as ex:\n",
    "            print(ex)\n",
    "    return all_texts"
   ]
  },
  {
   "cell_type": "code",
   "execution_count": 16,
   "metadata": {},
   "outputs": [],
   "source": [
    "# collect_tweet_text(rep_screennames)"
   ]
  },
  {
   "cell_type": "code",
   "execution_count": 17,
   "metadata": {},
   "outputs": [],
   "source": [
    "# sp_tokens = ['de', 'la', 's', 'm', 'las', 'los', 'p', 've', 'en', 're', 'del', 't', 'que' ]"
   ]
  },
  {
   "cell_type": "code",
   "execution_count": 18,
   "metadata": {},
   "outputs": [
    {
     "name": "stdout",
     "output_type": "stream",
     "text": [
      "[Errno 2] No such file or directory: '../../data/us_representatives_tweets/2020-07-22/RepRatcliffe_tweets.p'\n"
     ]
    }
   ],
   "source": [
    "rep_texts = collect_tweet_text(potus_path, ['realDonaldTrump']) +\\\n",
    "            collect_tweet_text(senate_path, senate_rep_screennames) +\\\n",
    "            collect_tweet_text(house_path, house_rep_screennames) +\\\n",
    "            collect_tweet_text(govenor_path, govenor_rep_screennames)\n",
    "            "
   ]
  },
  {
   "cell_type": "code",
   "execution_count": 19,
   "metadata": {},
   "outputs": [],
   "source": [
    "rep_texts = pd.DataFrame(rep_texts, columns = ['Text', 'Time'])"
   ]
  },
  {
   "cell_type": "code",
   "execution_count": 20,
   "metadata": {},
   "outputs": [
    {
     "data": {
      "text/html": [
       "<div>\n",
       "<style scoped>\n",
       "    .dataframe tbody tr th:only-of-type {\n",
       "        vertical-align: middle;\n",
       "    }\n",
       "\n",
       "    .dataframe tbody tr th {\n",
       "        vertical-align: top;\n",
       "    }\n",
       "\n",
       "    .dataframe thead th {\n",
       "        text-align: right;\n",
       "    }\n",
       "</style>\n",
       "<table border=\"1\" class=\"dataframe\">\n",
       "  <thead>\n",
       "    <tr style=\"text-align: right;\">\n",
       "      <th></th>\n",
       "      <th>Text</th>\n",
       "      <th>Time</th>\n",
       "    </tr>\n",
       "  </thead>\n",
       "  <tbody>\n",
       "    <tr>\n",
       "      <th>0</th>\n",
       "      <td>RT @WhiteHouse: LIVE: President @realDonaldTru...</td>\n",
       "      <td>2020-07-22 21:51:18</td>\n",
       "    </tr>\n",
       "    <tr>\n",
       "      <th>1</th>\n",
       "      <td>RT @TeamTrump: President @realDonaldTrump on O...</td>\n",
       "      <td>2020-07-22 20:45:37</td>\n",
       "    </tr>\n",
       "  </tbody>\n",
       "</table>\n",
       "</div>"
      ],
      "text/plain": [
       "                                                Text                Time\n",
       "0  RT @WhiteHouse: LIVE: President @realDonaldTru... 2020-07-22 21:51:18\n",
       "1  RT @TeamTrump: President @realDonaldTrump on O... 2020-07-22 20:45:37"
      ]
     },
     "execution_count": 20,
     "metadata": {},
     "output_type": "execute_result"
    }
   ],
   "source": [
    "rep_texts.head(2)"
   ]
  },
  {
   "cell_type": "code",
   "execution_count": 21,
   "metadata": {},
   "outputs": [
    {
     "data": {
      "text/plain": [
       "['RT @WhiteHouse: LIVE: President @realDonaldTrump holds a news conference ',\n",
       " 'RT @TeamTrump: President @realDonaldTrump on Operation Legend: We will soon send federal law enforcement to other cities that need help sto…']"
      ]
     },
     "execution_count": 21,
     "metadata": {},
     "output_type": "execute_result"
    }
   ],
   "source": [
    "rep_texts.head(2).Text.tolist()"
   ]
  },
  {
   "cell_type": "code",
   "execution_count": 29,
   "metadata": {},
   "outputs": [
    {
     "name": "stdout",
     "output_type": "stream",
     "text": [
      "[Errno 2] No such file or directory: '../../data/us_representatives_tweets/2020-07-22/RepCummings_tweets.p'\n"
     ]
    }
   ],
   "source": [
    "dem_texts = collect_tweet_text(senate_path, senate_dem_screennames) +\\\n",
    "            collect_tweet_text(house_path, house_dem_screennames) +\\\n",
    "            collect_tweet_text(govenor_path, govenor_dem_screennames)"
   ]
  },
  {
   "cell_type": "code",
   "execution_count": 30,
   "metadata": {},
   "outputs": [],
   "source": [
    "dem_texts = pd.DataFrame(dem_texts, columns = ['Text', 'Time'])"
   ]
  },
  {
   "cell_type": "code",
   "execution_count": 31,
   "metadata": {},
   "outputs": [
    {
     "data": {
      "text/html": [
       "<div>\n",
       "<style scoped>\n",
       "    .dataframe tbody tr th:only-of-type {\n",
       "        vertical-align: middle;\n",
       "    }\n",
       "\n",
       "    .dataframe tbody tr th {\n",
       "        vertical-align: top;\n",
       "    }\n",
       "\n",
       "    .dataframe thead th {\n",
       "        text-align: right;\n",
       "    }\n",
       "</style>\n",
       "<table border=\"1\" class=\"dataframe\">\n",
       "  <thead>\n",
       "    <tr style=\"text-align: right;\">\n",
       "      <th></th>\n",
       "      <th>Text</th>\n",
       "      <th>Time</th>\n",
       "    </tr>\n",
       "  </thead>\n",
       "  <tbody>\n",
       "    <tr>\n",
       "      <th>0</th>\n",
       "      <td>Trump Admin’s disturbing use of unidentified f...</td>\n",
       "      <td>2020-07-22 20:34:49</td>\n",
       "    </tr>\n",
       "    <tr>\n",
       "      <th>1</th>\n",
       "      <td>The health of American people &amp;amp; U.S. econo...</td>\n",
       "      <td>2020-07-22 20:15:22</td>\n",
       "    </tr>\n",
       "  </tbody>\n",
       "</table>\n",
       "</div>"
      ],
      "text/plain": [
       "                                                Text                Time\n",
       "0  Trump Admin’s disturbing use of unidentified f... 2020-07-22 20:34:49\n",
       "1  The health of American people &amp; U.S. econo... 2020-07-22 20:15:22"
      ]
     },
     "execution_count": 31,
     "metadata": {},
     "output_type": "execute_result"
    }
   ],
   "source": [
    "dem_texts.head(2)"
   ]
  },
  {
   "cell_type": "code",
   "execution_count": 33,
   "metadata": {},
   "outputs": [
    {
     "data": {
      "text/plain": [
       "(274683, 165821)"
      ]
     },
     "execution_count": 33,
     "metadata": {},
     "output_type": "execute_result"
    }
   ],
   "source": [
    "len(dem_texts), len(rep_texts)"
   ]
  },
  {
   "cell_type": "code",
   "execution_count": 22,
   "metadata": {},
   "outputs": [],
   "source": [
    "trump_texts = collect_tweet_text(potus_path, ['realDonaldTrump'])"
   ]
  },
  {
   "cell_type": "code",
   "execution_count": 25,
   "metadata": {},
   "outputs": [],
   "source": [
    "trump_texts = pd.DataFrame(trump_texts, columns = ['Text', 'Time'])"
   ]
  },
  {
   "cell_type": "code",
   "execution_count": 24,
   "metadata": {},
   "outputs": [],
   "source": [
    "pickle.dump(rep_texts, open('../../data/all_tweet_texts_rep.p', 'wb'))\n",
    "# pickle.dump(dem_texts, open('../../data/all_tweet_texts_dem.p', 'wb'))"
   ]
  },
  {
   "cell_type": "code",
   "execution_count": 26,
   "metadata": {},
   "outputs": [],
   "source": [
    "pickle.dump(trump_texts, open('../../data/all_tweet_texts_trump.p', 'wb'))"
   ]
  },
  {
   "cell_type": "code",
   "execution_count": null,
   "metadata": {},
   "outputs": [],
   "source": []
  }
 ],
 "metadata": {
  "kernelspec": {
   "display_name": "Python 3 (ipykernel)",
   "language": "python",
   "name": "python3"
  },
  "language_info": {
   "codemirror_mode": {
    "name": "ipython",
    "version": 3
   },
   "file_extension": ".py",
   "mimetype": "text/x-python",
   "name": "python",
   "nbconvert_exporter": "python",
   "pygments_lexer": "ipython3",
   "version": "3.7.7"
  }
 },
 "nbformat": 4,
 "nbformat_minor": 4
}
