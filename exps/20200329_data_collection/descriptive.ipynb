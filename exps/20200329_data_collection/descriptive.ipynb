{
 "cells": [
  {
   "cell_type": "code",
   "execution_count": 1,
   "metadata": {},
   "outputs": [],
   "source": [
    "import pickle\n",
    "import os\n",
    "import datetime\n",
    "import numpy as np\n",
    "import re\n",
    "import matplotlib.pyplot as plt\n",
    "%matplotlib inline"
   ]
  },
  {
   "cell_type": "code",
   "execution_count": 2,
   "metadata": {},
   "outputs": [],
   "source": [
    "data_path = '../../data/'"
   ]
  },
  {
   "cell_type": "code",
   "execution_count": 3,
   "metadata": {},
   "outputs": [],
   "source": [
    "govenor_path = '../../data/govenors_tweets/'"
   ]
  },
  {
   "cell_type": "code",
   "execution_count": 4,
   "metadata": {},
   "outputs": [],
   "source": [
    "senate_path = '../../data/senators_tweets/'"
   ]
  },
  {
   "cell_type": "code",
   "execution_count": 5,
   "metadata": {},
   "outputs": [],
   "source": [
    "house_path = '../../data/us_representatives_tweets/'"
   ]
  },
  {
   "cell_type": "code",
   "execution_count": 6,
   "metadata": {},
   "outputs": [],
   "source": [
    "potus_path = '../../data/POTUS_tweets/'"
   ]
  },
  {
   "cell_type": "code",
   "execution_count": 7,
   "metadata": {},
   "outputs": [
    {
     "ename": "FileNotFoundError",
     "evalue": "[Errno 2] No such file or directory: '../../data/POTUS_tweets/'",
     "output_type": "error",
     "traceback": [
      "\u001b[0;31m---------------------------------------------------------------------------\u001b[0m",
      "\u001b[0;31mFileNotFoundError\u001b[0m                         Traceback (most recent call last)",
      "\u001b[0;32m/var/folders/9t/lplpnk8j495cb3drsnvfhsfw0000gn/T/ipykernel_33505/3684845158.py\u001b[0m in \u001b[0;36m<module>\u001b[0;34m\u001b[0m\n\u001b[0;32m----> 1\u001b[0;31m \u001b[0mos\u001b[0m\u001b[0;34m.\u001b[0m\u001b[0mlistdir\u001b[0m\u001b[0;34m(\u001b[0m\u001b[0mpotus_path\u001b[0m\u001b[0;34m)\u001b[0m\u001b[0;34m\u001b[0m\u001b[0;34m\u001b[0m\u001b[0m\n\u001b[0m",
      "\u001b[0;31mFileNotFoundError\u001b[0m: [Errno 2] No such file or directory: '../../data/POTUS_tweets/'"
     ]
    }
   ],
   "source": [
    "os.listdir(potus_path)"
   ]
  },
  {
   "cell_type": "code",
   "execution_count": 8,
   "metadata": {},
   "outputs": [],
   "source": [
    "house_rep_screennames = pickle.load(open(data_path+'house_rep_screennames.p', 'rb'))"
   ]
  },
  {
   "cell_type": "code",
   "execution_count": 9,
   "metadata": {},
   "outputs": [],
   "source": [
    "house_dem_screennames = pickle.load(open(data_path+'house_dem_screennames.p', 'rb'))"
   ]
  },
  {
   "cell_type": "code",
   "execution_count": 10,
   "metadata": {},
   "outputs": [],
   "source": [
    "senate_dem_screennames = pickle.load(open(data_path+'senate_dem_screennames.p', 'rb'))"
   ]
  },
  {
   "cell_type": "code",
   "execution_count": 11,
   "metadata": {},
   "outputs": [],
   "source": [
    "senate_rep_screennames = pickle.load(open(data_path+'senate_rep_screennames.p', 'rb'))"
   ]
  },
  {
   "cell_type": "code",
   "execution_count": 12,
   "metadata": {},
   "outputs": [],
   "source": [
    "govenor_rep_screennames = pickle.load(open(data_path+'govenor_rep_screennames.p', 'rb'))"
   ]
  },
  {
   "cell_type": "code",
   "execution_count": 13,
   "metadata": {},
   "outputs": [],
   "source": [
    "govenor_dem_screennames = pickle.load(open(data_path+'govenor_dem_screennames.p', 'rb'))"
   ]
  },
  {
   "cell_type": "code",
   "execution_count": 14,
   "metadata": {},
   "outputs": [],
   "source": [
    "potus_screennames = ['realDonaldTrump']"
   ]
  },
  {
   "cell_type": "code",
   "execution_count": 15,
   "metadata": {},
   "outputs": [],
   "source": [
    "def preprocess_text(text):\n",
    "    # remove links\n",
    "    text = re.sub(r'https?:\\/\\/.*[\\r\\n]*', '', text, flags=re.MULTILINE)\n",
    "    return text"
   ]
  },
  {
   "cell_type": "markdown",
   "metadata": {},
   "source": [
    "## How many does each chamber post"
   ]
  },
  {
   "cell_type": "code",
   "execution_count": 16,
   "metadata": {},
   "outputs": [],
   "source": [
    "def count_chamber_post(file_path, screenname_list):\n",
    "    tweet_cnt = 0\n",
    "    for name in screenname_list:\n",
    "        try:\n",
    "            file_name = os.path.join(file_path, '2020-07-22','{}_tweets.p'.format(name))\n",
    "            tweets = pickle.load(open(file_name, 'rb'))\n",
    "            for tweet in tweets:\n",
    "                if tweet.created_at > datetime.datetime(2020, 2, 1):\n",
    "                    tweet_cnt += 1\n",
    "        except Exception as ex:\n",
    "            print(ex)\n",
    "    return tweet_cnt"
   ]
  },
  {
   "cell_type": "code",
   "execution_count": 17,
   "metadata": {},
   "outputs": [
    {
     "name": "stdout",
     "output_type": "stream",
     "text": [
      "[Errno 2] No such file or directory: '../../data/senators_tweets/2020-07-22/ChuckGrassley_tweets.p'\n",
      "[Errno 2] No such file or directory: '../../data/senators_tweets/2020-07-22/SenSasse_tweets.p'\n",
      "[Errno 2] No such file or directory: '../../data/senators_tweets/2020-07-22/lisamurkowski_tweets.p'\n",
      "[Errno 2] No such file or directory: '../../data/senators_tweets/2020-07-22/SenToomey_tweets.p'\n",
      "[Errno 2] No such file or directory: '../../data/senators_tweets/2020-07-22/SteveDaines_tweets.p'\n",
      "[Errno 2] No such file or directory: '../../data/senators_tweets/2020-07-22/marcorubio_tweets.p'\n",
      "[Errno 2] No such file or directory: '../../data/senators_tweets/2020-07-22/MikeCrapo_tweets.p'\n",
      "[Errno 2] No such file or directory: '../../data/senators_tweets/2020-07-22/JimInhofe_tweets.p'\n",
      "[Errno 2] No such file or directory: '../../data/senators_tweets/2020-07-22/RoyBlunt_tweets.p'\n",
      "[Errno 2] No such file or directory: '../../data/senators_tweets/2020-07-22/SenJohnHoeven_tweets.p'\n",
      "[Errno 2] No such file or directory: '../../data/senators_tweets/2020-07-22/SenMcSallyAZ_tweets.p'\n",
      "[Errno 2] No such file or directory: '../../data/senators_tweets/2020-07-22/SenDanSullivan_tweets.p'\n",
      "[Errno 2] No such file or directory: '../../data/senators_tweets/2020-07-22/SenTedCruz_tweets.p'\n",
      "[Errno 2] No such file or directory: '../../data/senators_tweets/2020-07-22/MarshaBlackburn_tweets.p'\n",
      "[Errno 2] No such file or directory: '../../data/senators_tweets/2020-07-22/SenJoniErnst_tweets.p'\n",
      "[Errno 2] No such file or directory: '../../data/senators_tweets/2020-07-22/SenPatRoberts_tweets.p'\n",
      "[Errno 2] No such file or directory: '../../data/senators_tweets/2020-07-22/SenJohnBarrasso_tweets.p'\n",
      "[Errno 2] No such file or directory: '../../data/senators_tweets/2020-07-22/RandPaul_tweets.p'\n",
      "[Errno 2] No such file or directory: '../../data/senators_tweets/2020-07-22/SenatorBurr_tweets.p'\n",
      "[Errno 2] No such file or directory: '../../data/senators_tweets/2020-07-22/SenMikeLee_tweets.p'\n",
      "[Errno 2] No such file or directory: '../../data/senators_tweets/2020-07-22/SenatorWicker_tweets.p'\n",
      "[Errno 2] No such file or directory: '../../data/senators_tweets/2020-07-22/SenatorRomney_tweets.p'\n",
      "[Errno 2] No such file or directory: '../../data/senators_tweets/2020-07-22/SenShelby_tweets.p'\n",
      "[Errno 2] No such file or directory: '../../data/senators_tweets/2020-07-22/SenatorTimScott_tweets.p'\n",
      "[Errno 2] No such file or directory: '../../data/senators_tweets/2020-07-22/JohnBoozman_tweets.p'\n",
      "[Errno 2] No such file or directory: '../../data/senators_tweets/2020-07-22/LindseyGrahamSC_tweets.p'\n",
      "[Errno 2] No such file or directory: '../../data/senators_tweets/2020-07-22/SenHydeSmith_tweets.p'\n",
      "[Errno 2] No such file or directory: '../../data/senators_tweets/2020-07-22/JohnCornyn_tweets.p'\n",
      "[Errno 2] No such file or directory: '../../data/senators_tweets/2020-07-22/SenatorLankford_tweets.p'\n",
      "[Errno 2] No such file or directory: '../../data/senators_tweets/2020-07-22/SenCoryGardner_tweets.p'\n",
      "[Errno 2] No such file or directory: '../../data/senators_tweets/2020-07-22/SenRonJohnson_tweets.p'\n",
      "[Errno 2] No such file or directory: '../../data/senators_tweets/2020-07-22/SenatorCollins_tweets.p'\n",
      "[Errno 2] No such file or directory: '../../data/senators_tweets/2020-07-22/SenBillCassidy_tweets.p'\n",
      "[Errno 2] No such file or directory: '../../data/senators_tweets/2020-07-22/SenatorLoeffler_tweets.p'\n",
      "[Errno 2] No such file or directory: '../../data/senators_tweets/2020-07-22/SenToddYoung_tweets.p'\n",
      "[Errno 2] No such file or directory: '../../data/senators_tweets/2020-07-22/SenatorEnzi_tweets.p'\n",
      "[Errno 2] No such file or directory: '../../data/senators_tweets/2020-07-22/sendavidperdue_tweets.p'\n",
      "[Errno 2] No such file or directory: '../../data/senators_tweets/2020-07-22/SenKevinCramer_tweets.p'\n",
      "[Errno 2] No such file or directory: '../../data/senators_tweets/2020-07-22/SenRickScott_tweets.p'\n",
      "[Errno 2] No such file or directory: '../../data/senators_tweets/2020-07-22/SenatorFischer_tweets.p'\n",
      "[Errno 2] No such file or directory: '../../data/senators_tweets/2020-07-22/SenCapito_tweets.p'\n",
      "[Errno 2] No such file or directory: '../../data/senators_tweets/2020-07-22/SenTomCotton_tweets.p'\n",
      "[Errno 2] No such file or directory: '../../data/senators_tweets/2020-07-22/SenAlexander_tweets.p'\n",
      "[Errno 2] No such file or directory: '../../data/senators_tweets/2020-07-22/JerryMoran_tweets.p'\n",
      "[Errno 2] No such file or directory: '../../data/senators_tweets/2020-07-22/SenatorRounds_tweets.p'\n",
      "[Errno 2] No such file or directory: '../../data/senators_tweets/2020-07-22/senrobportman_tweets.p'\n",
      "[Errno 2] No such file or directory: '../../data/senators_tweets/2020-07-22/SenJohnThune_tweets.p'\n",
      "[Errno 2] No such file or directory: '../../data/senators_tweets/2020-07-22/SenJohnKennedy_tweets.p'\n",
      "[Errno 2] No such file or directory: '../../data/senators_tweets/2020-07-22/senatemajldr_tweets.p'\n",
      "[Errno 2] No such file or directory: '../../data/senators_tweets/2020-07-22/SenHawleyPress_tweets.p'\n",
      "[Errno 2] No such file or directory: '../../data/senators_tweets/2020-07-22/SenatorRisch_tweets.p'\n",
      "[Errno 2] No such file or directory: '../../data/senators_tweets/2020-07-22/GrahamBlog_tweets.p'\n",
      "[Errno 2] No such file or directory: '../../data/senators_tweets/2020-07-22/SenatorBraun_tweets.p'\n",
      "[Errno 2] No such file or directory: '../../data/senators_tweets/2020-07-22/SenThomTillis_tweets.p'\n",
      "0 0.0\n"
     ]
    }
   ],
   "source": [
    "senate_rep_cnt = count_chamber_post(senate_path, senate_rep_screennames)\n",
    "print(senate_rep_cnt, senate_rep_cnt/len(senate_rep_screennames))"
   ]
  },
  {
   "cell_type": "code",
   "execution_count": 20,
   "metadata": {},
   "outputs": [
    {
     "name": "stdout",
     "output_type": "stream",
     "text": [
      "38539 819.9787234042553\n"
     ]
    }
   ],
   "source": [
    "senate_dem_cnt = count_chamber_post(senate_path, senate_dem_screennames)\n",
    "print(senate_dem_cnt, senate_dem_cnt/len(senate_dem_screennames))"
   ]
  },
  {
   "cell_type": "code",
   "execution_count": 21,
   "metadata": {},
   "outputs": [
    {
     "name": "stdout",
     "output_type": "stream",
     "text": [
      "[Errno 2] No such file or directory: '../../data/us_representatives_tweets/2020-07-22/RepRatcliffe_tweets.p'\n",
      "108095 420.6031128404669\n"
     ]
    }
   ],
   "source": [
    "house_rep_cnt = count_chamber_post(house_path, house_rep_screennames)\n",
    "print(house_rep_cnt, house_rep_cnt/len(house_rep_screennames))"
   ]
  },
  {
   "cell_type": "code",
   "execution_count": 22,
   "metadata": {},
   "outputs": [
    {
     "name": "stdout",
     "output_type": "stream",
     "text": [
      "[Errno 2] No such file or directory: '../../data/us_representatives_tweets/2020-07-22/RepCummings_tweets.p'\n",
      "205746 653.1619047619048\n"
     ]
    }
   ],
   "source": [
    "house_dem_cnt = count_chamber_post(house_path, house_dem_screennames)\n",
    "print(house_dem_cnt, house_dem_cnt/len(house_dem_screennames))"
   ]
  },
  {
   "cell_type": "code",
   "execution_count": 23,
   "metadata": {},
   "outputs": [
    {
     "name": "stdout",
     "output_type": "stream",
     "text": [
      "23397 899.8846153846154\n"
     ]
    }
   ],
   "source": [
    "govenor_rep_cnt = count_chamber_post(govenor_path, govenor_rep_screennames)\n",
    "print(govenor_rep_cnt, govenor_rep_cnt/len(govenor_rep_screennames))"
   ]
  },
  {
   "cell_type": "code",
   "execution_count": 24,
   "metadata": {},
   "outputs": [
    {
     "name": "stdout",
     "output_type": "stream",
     "text": [
      "30398 1085.642857142857\n"
     ]
    }
   ],
   "source": [
    "govenor_dem_cnt = count_chamber_post(govenor_path, govenor_dem_screennames)\n",
    "print(govenor_dem_cnt, govenor_dem_cnt/len(govenor_dem_screennames))"
   ]
  },
  {
   "cell_type": "code",
   "execution_count": 29,
   "metadata": {},
   "outputs": [
    {
     "data": {
      "text/plain": [
       "489.99703264094956"
      ]
     },
     "execution_count": 29,
     "metadata": {},
     "output_type": "execute_result"
    }
   ],
   "source": [
    "165129/(len(senate_rep_screennames)+len(house_rep_screennames)+len(govenor_rep_screennames))"
   ]
  },
  {
   "cell_type": "code",
   "execution_count": 28,
   "metadata": {},
   "outputs": [
    {
     "data": {
      "text/plain": [
       "704.3153846153846"
      ]
     },
     "execution_count": 28,
     "metadata": {},
     "output_type": "execute_result"
    }
   ],
   "source": [
    "274683/(len(senate_dem_screennames)+len(house_dem_screennames)+len(govenor_dem_screennames))"
   ]
  },
  {
   "cell_type": "markdown",
   "metadata": {},
   "source": [
    "### How many does each politician post"
   ]
  },
  {
   "cell_type": "code",
   "execution_count": 33,
   "metadata": {},
   "outputs": [],
   "source": [
    "def count_politician_post(file_path, screenname_list):\n",
    "    cnt_dict = {}\n",
    "    for name in screenname_list:\n",
    "        cnt = 0\n",
    "        try:\n",
    "            file_name = os.path.join(file_path, '2020-07-22','{}_tweets.p'.format(name))\n",
    "            tweets = pickle.load(open(file_name, 'rb'))\n",
    "            for tweet in tweets:\n",
    "                if tweet.created_at > datetime.datetime(2020, 2, 1):\n",
    "                    cnt += 1\n",
    "        except Exception as ex:\n",
    "            print(ex)\n",
    "        cnt_dict[name] = cnt\n",
    "    return cnt_dict"
   ]
  },
  {
   "cell_type": "code",
   "execution_count": 72,
   "metadata": {},
   "outputs": [],
   "source": [
    "trump_tweets = []\n",
    "file_name = os.path.join(potus_path, '2020-07-22','realDonaldTrump_tweets.p')\n",
    "tweets = pickle.load(open(file_name, 'rb'))\n",
    "for tweet in tweets:\n",
    "    if tweet.created_at > datetime.datetime(2020, 2, 1):\n",
    "        text = tweet.full_text\n",
    "        trump_tweets.append(text)"
   ]
  },
  {
   "cell_type": "code",
   "execution_count": 75,
   "metadata": {},
   "outputs": [],
   "source": [
    "trump_len = [len(item.split()) for item in trump_tweets]"
   ]
  },
  {
   "cell_type": "code",
   "execution_count": 78,
   "metadata": {},
   "outputs": [
    {
     "data": {
      "text/plain": [
       "21.690635451505017"
      ]
     },
     "execution_count": 78,
     "metadata": {},
     "output_type": "execute_result"
    }
   ],
   "source": [
    "sum(trump_len)/len(trump_len)"
   ]
  },
  {
   "cell_type": "code",
   "execution_count": 63,
   "metadata": {},
   "outputs": [
    {
     "data": {
      "text/plain": [
       "{'realDonaldTrump': 1196}"
      ]
     },
     "execution_count": 63,
     "metadata": {},
     "output_type": "execute_result"
    }
   ],
   "source": [
    "trump"
   ]
  },
  {
   "cell_type": "code",
   "execution_count": 18,
   "metadata": {},
   "outputs": [],
   "source": [
    "# collect_tweet_text(rep_screennames)"
   ]
  },
  {
   "cell_type": "code",
   "execution_count": 19,
   "metadata": {},
   "outputs": [],
   "source": [
    "# sp_tokens = ['de', 'la', 's', 'm', 'las', 'los', 'p', 've', 'en', 're', 'del', 't', 'que' ]"
   ]
  },
  {
   "cell_type": "code",
   "execution_count": 97,
   "metadata": {},
   "outputs": [
    {
     "data": {
      "text/plain": [
       "54"
      ]
     },
     "execution_count": 97,
     "metadata": {},
     "output_type": "execute_result"
    }
   ],
   "source": [
    "len(collect_tweet_text(senate_path, senate_rep_screennames))"
   ]
  },
  {
   "cell_type": "code",
   "execution_count": 64,
   "metadata": {},
   "outputs": [
    {
     "name": "stdout",
     "output_type": "stream",
     "text": [
      "[Errno 2] No such file or directory: '../../data/us_representatives_tweets/2020-07-22/RepRatcliffe_tweets.p'\n"
     ]
    }
   ],
   "source": [
    "rep_count_dic = {}\n",
    "rep_count_dic.update(count_politician_post(senate_path, senate_rep_screennames))\n",
    "rep_count_dic.update(count_politician_post(house_path, house_rep_screennames))\n",
    "rep_count_dic.update(count_politician_post(govenor_path, govenor_rep_screennames))\n",
    "rep_count_dic.update(count_politician_post(potus_path, potus_screennames))"
   ]
  },
  {
   "cell_type": "code",
   "execution_count": 66,
   "metadata": {},
   "outputs": [],
   "source": [
    "pickle.dump(rep_count_dic, open('rep_count_dic.p','wb'))"
   ]
  },
  {
   "cell_type": "code",
   "execution_count": 36,
   "metadata": {},
   "outputs": [],
   "source": [
    "# dem_count_dic = {}\n",
    "# dem_count_dic.update(collect_tweet_text(senate_path, senate_dem_screennames))\n",
    "# dem_count_dic.update(collect_tweet_text(house_path, house_dem_screennames))\n",
    "# dem_count_dic.update(collect_tweet_text(govenor_path, govenor_dem_screennames))"
   ]
  },
  {
   "cell_type": "code",
   "execution_count": 37,
   "metadata": {},
   "outputs": [],
   "source": [
    "# pickle.dump(dem_count_dic, open('dem_count_dic.p','wb'))"
   ]
  },
  {
   "cell_type": "markdown",
   "metadata": {},
   "source": [
    "### Plot"
   ]
  },
  {
   "cell_type": "code",
   "execution_count": 18,
   "metadata": {},
   "outputs": [],
   "source": [
    "rep_count_dic = pickle.load(open('rep_count_dic.p', 'rb'))\n",
    "dem_count_dic = pickle.load(open('dem_count_dic.p', 'rb'))\n"
   ]
  },
  {
   "cell_type": "code",
   "execution_count": 19,
   "metadata": {},
   "outputs": [],
   "source": [
    "rep_text = pickle.load(open('../../data/all_tweet_texts_rep.p', 'rb'))\n",
    "dem_text = pickle.load(open('../../data/all_tweet_texts_dem.p', 'rb'))"
   ]
  },
  {
   "cell_type": "code",
   "execution_count": 20,
   "metadata": {},
   "outputs": [],
   "source": [
    "rep_text_len = [len(line.split()) for line in rep_text.Text.tolist()]\n",
    "dem_text_len = [len(line.split()) for line in dem_text.Text.tolist()]"
   ]
  },
  {
   "cell_type": "code",
   "execution_count": 21,
   "metadata": {},
   "outputs": [
    {
     "data": {
      "text/html": [
       "<div>\n",
       "<style scoped>\n",
       "    .dataframe tbody tr th:only-of-type {\n",
       "        vertical-align: middle;\n",
       "    }\n",
       "\n",
       "    .dataframe tbody tr th {\n",
       "        vertical-align: top;\n",
       "    }\n",
       "\n",
       "    .dataframe thead th {\n",
       "        text-align: right;\n",
       "    }\n",
       "</style>\n",
       "<table border=\"1\" class=\"dataframe\">\n",
       "  <thead>\n",
       "    <tr style=\"text-align: right;\">\n",
       "      <th></th>\n",
       "      <th>Text</th>\n",
       "      <th>Time</th>\n",
       "    </tr>\n",
       "  </thead>\n",
       "  <tbody>\n",
       "    <tr>\n",
       "      <th>0</th>\n",
       "      <td>RT @WhiteHouse: LIVE: President @realDonaldTru...</td>\n",
       "      <td>2020-07-22 21:51:18</td>\n",
       "    </tr>\n",
       "    <tr>\n",
       "      <th>1</th>\n",
       "      <td>RT @TeamTrump: President @realDonaldTrump on O...</td>\n",
       "      <td>2020-07-22 20:45:37</td>\n",
       "    </tr>\n",
       "  </tbody>\n",
       "</table>\n",
       "</div>"
      ],
      "text/plain": [
       "                                                Text                Time\n",
       "0  RT @WhiteHouse: LIVE: President @realDonaldTru... 2020-07-22 21:51:18\n",
       "1  RT @TeamTrump: President @realDonaldTrump on O... 2020-07-22 20:45:37"
      ]
     },
     "execution_count": 21,
     "metadata": {},
     "output_type": "execute_result"
    }
   ],
   "source": [
    "rep_text.head(2)"
   ]
  },
  {
   "cell_type": "code",
   "execution_count": 22,
   "metadata": {},
   "outputs": [
    {
     "data": {
      "text/plain": [
       "(67, 80)"
      ]
     },
     "execution_count": 22,
     "metadata": {},
     "output_type": "execute_result"
    }
   ],
   "source": [
    "max(rep_text_len), max(dem_text_len)"
   ]
  },
  {
   "cell_type": "code",
   "execution_count": 23,
   "metadata": {},
   "outputs": [
    {
     "data": {
      "text/plain": [
       "[0, 1, 2, 3, 4, 5, 6, 7, 8, 9]"
      ]
     },
     "execution_count": 23,
     "metadata": {},
     "output_type": "execute_result"
    }
   ],
   "source": [
    "list(range(0,10))"
   ]
  },
  {
   "cell_type": "code",
   "execution_count": 24,
   "metadata": {},
   "outputs": [
    {
     "data": {
      "text/plain": [
       "dict_values([466, 2, 1041, 151, 423, 1297, 665, 627, 771, 313, 917, 376, 1734, 1254, 960, 330, 335, 434, 64, 281, 655, 295, 214, 834, 632, 738, 340, 3221, 836, 657, 280, 430, 846, 651, 780, 198, 333, 858, 1500, 354, 1056, 534, 648, 375, 501, 1127, 443, 240, 332, 633, 315, 0, 463, 569, 548, 235, 272, 179, 1036, 54, 32, 336, 1025, 59, 178, 257, 122, 131, 811, 751, 208, 470, 211, 582, 151, 319, 305, 225, 317, 370, 911, 1209, 477, 200, 728, 311, 150, 31, 1813, 357, 238, 347, 207, 703, 226, 401, 214, 192, 767, 462, 595, 1116, 418, 447, 292, 135, 267, 597, 789, 331, 252, 27, 98, 154, 97, 473, 29, 329, 181, 484, 238, 198, 335, 661, 187, 44, 331, 1249, 124, 439, 208, 234, 96, 124, 150, 545, 324, 900, 246, 1263, 146, 699, 391, 83, 326, 0, 617, 353, 266, 366, 668, 356, 733, 81, 202, 411, 382, 104, 337, 475, 565, 48, 235, 411, 375, 204, 349, 174, 426, 682, 93, 121, 343, 406, 792, 228, 288, 268, 123, 376, 678, 271, 557, 154, 300, 551, 655, 351, 423, 361, 57, 0, 122, 523, 3194, 116, 396, 690, 158, 1151, 377, 418, 4, 424, 366, 751, 166, 362, 60, 142, 1225, 91, 1827, 308, 0, 200, 300, 800, 706, 599, 1063, 676, 295, 396, 354, 511, 341, 1346, 194, 344, 205, 259, 906, 173, 777, 630, 444, 530, 39, 224, 164, 554, 25, 383, 638, 239, 425, 618, 674, 261, 0, 100, 661, 241, 995, 254, 680, 264, 750, 3234, 420, 361, 1470, 663, 336, 738, 1389, 1170, 237, 2429, 538, 309, 536, 332, 434, 581, 663, 665, 598, 3215, 1131])"
      ]
     },
     "execution_count": 24,
     "metadata": {},
     "output_type": "execute_result"
    }
   ],
   "source": [
    "rep_count_dic.values()"
   ]
  },
  {
   "cell_type": "code",
   "execution_count": 25,
   "metadata": {},
   "outputs": [
    {
     "data": {
      "image/png": "[encoded data removed]",
      "text/plain": [
       "<Figure size 432x288 with 1 Axes>"
      ]
     },
     "metadata": {
      "needs_background": "light"
     },
     "output_type": "display_data"
    }
   ],
   "source": [
    "a,b,c = plt.hist(rep_count_dic.values(), color='red', alpha=0.7, label='Republican', density=True, bins=10,stacked=True)\n"
   ]
  },
  {
   "cell_type": "code",
   "execution_count": 26,
   "metadata": {},
   "outputs": [
    {
     "data": {
      "text/plain": [
       "array([   0. ,  323.4,  646.8,  970.2, 1293.6, 1617. , 1940.4, 2263.8,\n",
       "       2587.2, 2910.6, 3234. ])"
      ]
     },
     "execution_count": 26,
     "metadata": {},
     "output_type": "execute_result"
    }
   ],
   "source": [
    "b"
   ]
  },
  {
   "cell_type": "code",
   "execution_count": 27,
   "metadata": {},
   "outputs": [
    {
     "data": {
      "text/plain": [
       "1.1103202846975089"
      ]
     },
     "execution_count": 27,
     "metadata": {},
     "output_type": "execute_result"
    }
   ],
   "source": [
    "sum([a[i]*b[i] for i in range(10)])"
   ]
  },
  {
   "cell_type": "code",
   "execution_count": 37,
   "metadata": {},
   "outputs": [
    {
     "data": {
      "image/png": "[encoded data removed]",
      "text/plain": [
       "<Figure size 1080x360 with 2 Axes>"
      ]
     },
     "metadata": {
      "needs_background": "light"
     },
     "output_type": "display_data"
    }
   ],
   "source": [
    "fig, (ax1, ax2) = plt.subplots(1,2, figsize=(15,5))\n",
    "\n",
    "ax1.hist(dem_count_dic.values(), label='Democrat', density=True, bins=10)\n",
    "ax1.hist(rep_count_dic.values(), color='red', alpha=0.7, label='Republican', density=True, bins=10)\n",
    "ax1.legend( prop={'size': 15})\n",
    "ax1.set_xlabel('Number of tweets', fontsize=15)\n",
    "# ax1.set_ylabel('Number of politicians', fontsize=15)\n",
    "ax1.tick_params(axis='both', which='major', labelsize=15)\n",
    "ax1.annotate('Ex-POTUS',fontsize=15, xy=(0.36, 0.3), xycoords='axes fraction', xytext=(0.28, 0.5), \n",
    "            arrowprops=dict(arrowstyle=\"->\", color='r'))\n",
    "\n",
    "ax2.hist(dem_text_len, label='Democrats\\' tweets', bins=range(0,80,5), density=True)\n",
    "ax2.hist(rep_text_len, color='red', alpha=0.7, label='Republicans\\' tweets', bins=range(0,80,5), density=True)\n",
    "# ax2.set_yscale('log')\n",
    "ax2.legend( prop={'size': 15})\n",
    "ax2.set_xlabel('Number of words', fontsize=15)\n",
    "ax2.tick_params(axis='both', which='major', labelsize=15)\n",
    "# ax2.set_ylabel('Number of politicians', fontsize=15)\n",
    "ax2.annotate('Ex-POTUS',fontsize=15, xy=(0.32, 0.95), xycoords='axes fraction', xytext=(0.24, 1.1), \n",
    "            arrowprops=dict(arrowstyle=\"->\", color='r'))\n",
    "\n",
    "plt.tight_layout()\n",
    "plt.savefig('dist_figs.pdf', format='pdf')"
   ]
  },
  {
   "cell_type": "code",
   "execution_count": 54,
   "metadata": {},
   "outputs": [
    {
     "data": {
      "text/plain": [
       "(array([1.8971e+04, 9.4996e+04, 6.4842e+04, 9.5790e+04, 7.4000e+01,\n",
       "        2.0000e+00, 1.0000e+00, 0.0000e+00, 3.0000e+00, 4.0000e+00]),\n",
       " array([  0. ,  77.8, 155.6, 233.4, 311.2, 389. , 466.8, 544.6, 622.4,\n",
       "        700.2, 778. ]),\n",
       " <a list of 10 Patch objects>)"
      ]
     },
     "execution_count": 54,
     "metadata": {},
     "output_type": "execute_result"
    },
    {
     "data": {
      "image/png": "[encoded data removed]",
      "text/plain": [
       "<Figure size 432x288 with 1 Axes>"
      ]
     },
     "metadata": {
      "needs_background": "light"
     },
     "output_type": "display_data"
    }
   ],
   "source": [
    "plt.hist(dem_text_len, label='Democrats\\' tweets', bins=10)"
   ]
  },
  {
   "cell_type": "code",
   "execution_count": 50,
   "metadata": {},
   "outputs": [],
   "source": [
    "a,b,c = ax2.hist(dem_text_len, label='Democrats\\' tweets', bins=10)\n"
   ]
  },
  {
   "cell_type": "code",
   "execution_count": 51,
   "metadata": {},
   "outputs": [],
   "source": [
    "d,e,f = ax2.hist(rep_text_len, color='red', alpha=0.7, label='Republicans\\' tweets', bins=10)"
   ]
  },
  {
   "cell_type": "code",
   "execution_count": 52,
   "metadata": {},
   "outputs": [
    {
     "data": {
      "text/plain": [
       "array([1.8971e+04, 9.4996e+04, 6.4842e+04, 9.5790e+04, 7.4000e+01,\n",
       "       2.0000e+00, 1.0000e+00, 0.0000e+00, 3.0000e+00, 4.0000e+00])"
      ]
     },
     "execution_count": 52,
     "metadata": {},
     "output_type": "execute_result"
    }
   ],
   "source": [
    "a"
   ]
  },
  {
   "cell_type": "code",
   "execution_count": null,
   "metadata": {},
   "outputs": [],
   "source": []
  }
 ],
 "metadata": {
  "kernelspec": {
   "display_name": "Python 3 (ipykernel)",
   "language": "python",
   "name": "python3"
  },
  "language_info": {
   "codemirror_mode": {
    "name": "ipython",
    "version": 3
   },
   "file_extension": ".py",
   "mimetype": "text/x-python",
   "name": "python",
   "nbconvert_exporter": "python",
   "pygments_lexer": "ipython3",
   "version": "3.7.7"
  }
 },
 "nbformat": 4,
 "nbformat_minor": 4
}
