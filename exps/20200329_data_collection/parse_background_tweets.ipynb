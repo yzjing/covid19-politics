{
 "cells": [
  {
   "cell_type": "code",
   "execution_count": 3,
   "metadata": {},
   "outputs": [],
   "source": [
    "import paths\n",
    "import os\n",
    "import json\n",
    "import gzip\n",
    "import pandas as pd\n",
    "from langdetect import detect\n",
    "import pickle\n",
    "import random"
   ]
  },
  {
   "cell_type": "code",
   "execution_count": 4,
   "metadata": {},
   "outputs": [],
   "source": [
    "paths = paths.Paths()"
   ]
  },
  {
   "cell_type": "code",
   "execution_count": 5,
   "metadata": {},
   "outputs": [],
   "source": [
    "# temp_path = paths.get_rawfilenames(8)\n",
    "# print(temp_path)"
   ]
  },
  {
   "cell_type": "code",
   "execution_count": 6,
   "metadata": {},
   "outputs": [
    {
     "data": {
      "text/plain": [
       "<paths.Paths at 0x10406f8d0>"
      ]
     },
     "execution_count": 6,
     "metadata": {},
     "output_type": "execute_result"
    }
   ],
   "source": [
    "paths.get_rawfilenames"
   ]
  },
  {
   "cell_type": "code",
   "execution_count": 7,
   "metadata": {},
   "outputs": [
    {
     "name": "stdout",
     "output_type": "stream",
     "text": [
      "['/l/nx/user/jingy/covid19/weekly_feb_01_01/getTweetsWithMeme_11-9863349/tweetContent/part-m-00000.gz', '/l/nx/user/jingy/covid19/weekly_feb_01_01/getTweetsWithMeme_11-9863349/tweetContent/part-m-00001.gz', '/l/nx/user/jingy/covid19/weekly_feb_01_01/getTweetsWithMeme_11-9863349/tweetContent/part-m-00002.gz', '/l/nx/user/jingy/covid19/weekly_feb_01_01/getTweetsWithMeme_11-9863349/tweetContent/part-m-00003.gz', '/l/nx/user/jingy/covid19/weekly_feb_01_01/getTweetsWithMeme_11-9863349/tweetContent/part-m-00004.gz', '/l/nx/user/jingy/covid19/weekly_feb_01_01/getTweetsWithMeme_11-9863349/tweetContent/part-m-00005.gz', '/l/nx/user/jingy/covid19/weekly_feb_01_01/getTweetsWithMeme_11-9863349/tweetContent/part-m-00006.gz', '/l/nx/user/jingy/covid19/weekly_feb_01_01/getTweetsWithMeme_11-9863349/tweetContent/part-m-00007.gz', '/l/nx/user/jingy/covid19/weekly_feb_01_01/getTweetsWithMeme_11-9863349/tweetContent/part-m-00008.gz', '/l/nx/user/jingy/covid19/weekly_feb_01_01/getTweetsWithMeme_11-9863349/tweetContent/part-m-00009.gz', '/l/nx/user/jingy/covid19/weekly_feb_01_01/getTweetsWithMeme_11-9863349/tweetContent/part-m-00010.gz', '/l/nx/user/jingy/covid19/weekly_feb_01_01/getTweetsWithMeme_11-9863349/tweetContent/part-m-00011.gz', '/l/nx/user/jingy/covid19/weekly_feb_01_01/getTweetsWithMeme_11-9863349/tweetContent/part-m-00012.gz', '/l/nx/user/jingy/covid19/weekly_feb_01_01/getTweetsWithMeme_11-9863349/tweetContent/part-m-00013.gz', '/l/nx/user/jingy/covid19/weekly_feb_01_01/getTweetsWithMeme_11-9863349/tweetContent/part-m-00014.gz', '/l/nx/user/jingy/covid19/weekly_feb_01_01/getTweetsWithMeme_11-9863349/tweetContent/part-m-00015.gz', '/l/nx/user/jingy/covid19/weekly_feb_01_01/getTweetsWithMeme_11-9863349/tweetContent/part-m-00016.gz', '/l/nx/user/jingy/covid19/weekly_feb_01_01/getTweetsWithMeme_11-9863349/tweetContent/part-m-00017.gz', '/l/nx/user/jingy/covid19/weekly_feb_01_01/getTweetsWithMeme_11-9863349/tweetContent/part-m-00018.gz', '/l/nx/user/jingy/covid19/weekly_feb_01_01/getTweetsWithMeme_11-9863349/tweetContent/part-m-00019.gz', '/l/nx/user/jingy/covid19/weekly_feb_01_01/getTweetsWithMeme_11-9863349/tweetContent/part-m-00020.gz', '/l/nx/user/jingy/covid19/weekly_feb_01_01/getTweetsWithMeme_11-9863349/tweetContent/part-m-00021.gz', '/l/nx/user/jingy/covid19/weekly_feb_01_01/getTweetsWithMeme_11-9863349/tweetContent/part-m-00022.gz', '/l/nx/user/jingy/covid19/weekly_feb_01_01/getTweetsWithMeme_11-9863349/tweetContent/part-m-00023.gz', '/l/nx/user/jingy/covid19/weekly_feb_01_01/getTweetsWithMeme_11-9863349/tweetContent/part-m-00024.gz', '/l/nx/user/jingy/covid19/weekly_feb_01_01/getTweetsWithMeme_11-9863349/tweetContent/part-m-00025.gz', '/l/nx/user/jingy/covid19/weekly_feb_01_01/getTweetsWithMeme_11-9863349/tweetContent/part-m-00026.gz', '/l/nx/user/jingy/covid19/weekly_feb_01_01/getTweetsWithMeme_11-9863349/tweetContent/part-m-00027.gz', '/l/nx/user/jingy/covid19/weekly_feb_01_01/getTweetsWithMeme_11-9863349/tweetContent/part-m-00028.gz', '/l/nx/user/jingy/covid19/weekly_feb_01_01/getTweetsWithMeme_11-9863349/tweetContent/part-m-00029.gz', '/l/nx/user/jingy/covid19/weekly_feb_01_01/getTweetsWithMeme_11-9863349/tweetContent/part-m-00030.gz', '/l/nx/user/jingy/covid19/weekly_feb_01_01/getTweetsWithMeme_11-9863349/tweetContent/part-m-00031.gz', '/l/nx/user/jingy/covid19/weekly_feb_01_01/getTweetsWithMeme_11-9863349/tweetContent/part-m-00032.gz', '/l/nx/user/jingy/covid19/weekly_feb_01_01/getTweetsWithMeme_11-9863349/tweetContent/part-m-00033.gz', '/l/nx/user/jingy/covid19/weekly_feb_01_01/getTweetsWithMeme_11-9863349/tweetContent/part-m-00034.gz', '/l/nx/user/jingy/covid19/weekly_feb_01_01/getTweetsWithMeme_11-9863349/tweetContent/part-m-00035.gz', '/l/nx/user/jingy/covid19/weekly_feb_01_01/getTweetsWithMeme_11-9863349/tweetContent/part-m-00036.gz', '/l/nx/user/jingy/covid19/weekly_feb_01_01/getTweetsWithMeme_11-9863349/tweetContent/part-m-00037.gz', '/l/nx/user/jingy/covid19/weekly_feb_01_01/getTweetsWithMeme_11-9863349/tweetContent/part-m-00038.gz', '/l/nx/user/jingy/covid19/weekly_feb_01_01/getTweetsWithMeme_11-9863349/tweetContent/part-m-00039.gz', '/l/nx/user/jingy/covid19/weekly_feb_01_01/getTweetsWithMeme_11-9863349/tweetContent/part-m-00040.gz', '/l/nx/user/jingy/covid19/weekly_feb_01_01/getTweetsWithMeme_11-9863349/tweetContent/part-m-00041.gz', '/l/nx/user/jingy/covid19/weekly_feb_01_01/getTweetsWithMeme_11-9863349/tweetContent/part-m-00042.gz', '/l/nx/user/jingy/covid19/weekly_feb_01_01/getTweetsWithMeme_11-9863349/tweetContent/part-m-00043.gz', '/l/nx/user/jingy/covid19/weekly_feb_01_01/getTweetsWithMeme_11-9863349/tweetContent/part-m-00044.gz', '/l/nx/user/jingy/covid19/weekly_feb_01_01/getTweetsWithMeme_11-9863349/tweetContent/part-m-00045.gz', '/l/nx/user/jingy/covid19/weekly_feb_01_01/getTweetsWithMeme_11-9863349/tweetContent/part-m-00046.gz', '/l/nx/user/jingy/covid19/weekly_feb_01_01/getTweetsWithMeme_11-9863349/tweetContent/part-m-00047.gz', '/l/nx/user/jingy/covid19/weekly_feb_01_01/getTweetsWithMeme_11-9863349/tweetContent/part-m-00048.gz', '/l/nx/user/jingy/covid19/weekly_feb_01_01/getTweetsWithMeme_11-9863349/tweetContent/part-m-00049.gz', '/l/nx/user/jingy/covid19/weekly_feb_01_01/getTweetsWithMeme_11-9863349/tweetContent/part-m-00050.gz', '/l/nx/user/jingy/covid19/weekly_feb_01_01/getTweetsWithMeme_11-9863349/tweetContent/part-m-00051.gz', '/l/nx/user/jingy/covid19/weekly_feb_01_01/getTweetsWithMeme_11-9863349/tweetContent/part-m-00052.gz', '/l/nx/user/jingy/covid19/weekly_feb_01_01/getTweetsWithMeme_11-9863349/tweetContent/part-m-00053.gz', '/l/nx/user/jingy/covid19/weekly_feb_01_01/getTweetsWithMeme_11-9863349/tweetContent/part-m-00054.gz', '/l/nx/user/jingy/covid19/weekly_feb_01_01/getTweetsWithMeme_11-9863349/tweetContent/part-m-00055.gz', '/l/nx/user/jingy/covid19/weekly_feb_01_01/getTweetsWithMeme_11-9863349/tweetContent/part-m-00056.gz', '/l/nx/user/jingy/covid19/weekly_feb_01_01/getTweetsWithMeme_11-9863349/tweetContent/part-m-00057.gz', '/l/nx/user/jingy/covid19/weekly_feb_01_01/getTweetsWithMeme_11-9863349/tweetContent/part-m-00058.gz', '/l/nx/user/jingy/covid19/weekly_feb_01_01/getTweetsWithMeme_11-9863349/tweetContent/part-m-00059.gz', '/l/nx/user/jingy/covid19/weekly_feb_01_01/getTweetsWithMeme_11-9863349/tweetContent/part-m-00060.gz', '/l/nx/user/jingy/covid19/weekly_feb_01_01/getTweetsWithMeme_11-9863349/tweetContent/part-m-00061.gz', '/l/nx/user/jingy/covid19/weekly_feb_01_01/getTweetsWithMeme_11-9863349/tweetContent/part-m-00062.gz', '/l/nx/user/jingy/covid19/weekly_feb_01_01/getTweetsWithMeme_11-9863349/tweetContent/part-m-00063.gz', '/l/nx/user/jingy/covid19/weekly_feb_01_01/getTweetsWithMeme_11-9863349/tweetContent/part-m-00064.gz', '/l/nx/user/jingy/covid19/weekly_feb_01_01/getTweetsWithMeme_11-9863349/tweetContent/part-m-00065.gz', '/l/nx/user/jingy/covid19/weekly_feb_01_01/getTweetsWithMeme_11-9863349/tweetContent/part-m-00066.gz', '/l/nx/user/jingy/covid19/weekly_feb_01_01/getTweetsWithMeme_11-9863349/tweetContent/part-m-00067.gz', '/l/nx/user/jingy/covid19/weekly_feb_01_01/getTweetsWithMeme_11-9863349/tweetContent/part-m-00068.gz', '/l/nx/user/jingy/covid19/weekly_feb_01_01/getTweetsWithMeme_11-9863349/tweetContent/part-m-00069.gz', '/l/nx/user/jingy/covid19/weekly_feb_01_01/getTweetsWithMeme_11-9863349/tweetContent/part-m-00070.gz', '/l/nx/user/jingy/covid19/weekly_feb_01_01/getTweetsWithMeme_11-9863349/tweetContent/part-m-00071.gz', '/l/nx/user/jingy/covid19/weekly_feb_01_01/getTweetsWithMeme_11-9863349/tweetContent/part-m-00072.gz', '/l/nx/user/jingy/covid19/weekly_feb_01_01/getTweetsWithMeme_11-9863349/tweetContent/part-m-00073.gz', '/l/nx/user/jingy/covid19/weekly_feb_01_01/getTweetsWithMeme_11-9863349/tweetContent/part-m-00074.gz', '/l/nx/user/jingy/covid19/weekly_feb_01_01/getTweetsWithMeme_11-9863349/tweetContent/part-m-00075.gz', '/l/nx/user/jingy/covid19/weekly_feb_01_01/getTweetsWithMeme_11-9863349/tweetContent/part-m-00076.gz', '/l/nx/user/jingy/covid19/weekly_feb_01_01/getTweetsWithMeme_11-9863349/tweetContent/part-m-00077.gz', '/l/nx/user/jingy/covid19/weekly_feb_01_01/getTweetsWithMeme_11-9863349/tweetContent/part-m-00078.gz', '/l/nx/user/jingy/covid19/weekly_feb_01_01/getTweetsWithMeme_11-9863349/tweetContent/part-m-00079.gz', '/l/nx/user/jingy/covid19/weekly_feb_01_01/getTweetsWithMeme_11-9863349/tweetContent/part-m-00080.gz', '/l/nx/user/jingy/covid19/weekly_feb_01_01/getTweetsWithMeme_11-9863349/tweetContent/part-m-00081.gz', '/l/nx/user/jingy/covid19/weekly_feb_01_01/getTweetsWithMeme_11-9863349/tweetContent/part-m-00082.gz', '/l/nx/user/jingy/covid19/weekly_feb_01_01/getTweetsWithMeme_11-9863349/tweetContent/part-m-00083.gz', '/l/nx/user/jingy/covid19/weekly_feb_01_01/getTweetsWithMeme_11-9863349/tweetContent/part-m-00084.gz', '/l/nx/user/jingy/covid19/weekly_feb_01_01/getTweetsWithMeme_11-9863349/tweetContent/part-m-00085.gz', '/l/nx/user/jingy/covid19/weekly_feb_01_01/getTweetsWithMeme_11-9863349/tweetContent/part-m-00086.gz', '/l/nx/user/jingy/covid19/weekly_feb_01_01/getTweetsWithMeme_11-9863349/tweetContent/part-m-00087.gz', '/l/nx/user/jingy/covid19/weekly_feb_01_01/getTweetsWithMeme_11-9863349/tweetContent/part-m-00088.gz', '/l/nx/user/jingy/covid19/weekly_feb_01_01/getTweetsWithMeme_11-9863349/tweetContent/part-m-00089.gz', '/l/nx/user/jingy/covid19/weekly_feb_01_01/getTweetsWithMeme_11-9863349/tweetContent/part-m-00090.gz', '/l/nx/user/jingy/covid19/weekly_feb_01_01/getTweetsWithMeme_11-9863349/tweetContent/part-m-00091.gz', '/l/nx/user/jingy/covid19/weekly_feb_01_01/getTweetsWithMeme_11-9863349/tweetContent/part-m-00092.gz', '/l/nx/user/jingy/covid19/weekly_feb_01_01/getTweetsWithMeme_11-9863349/tweetContent/part-m-00093.gz', '/l/nx/user/jingy/covid19/weekly_feb_01_01/getTweetsWithMeme_11-9863349/tweetContent/part-m-00094.gz', '/l/nx/user/jingy/covid19/weekly_feb_01_01/getTweetsWithMeme_11-9863349/tweetContent/part-m-00095.gz', '/l/nx/user/jingy/covid19/weekly_feb_01_01/getTweetsWithMeme_11-9863349/tweetContent/part-m-00096.gz', '/l/nx/user/jingy/covid19/weekly_feb_01_01/getTweetsWithMeme_11-9863349/tweetContent/part-m-00097.gz', '/l/nx/user/jingy/covid19/weekly_feb_01_01/getTweetsWithMeme_11-9863349/tweetContent/part-m-00098.gz', '/l/nx/user/jingy/covid19/weekly_feb_01_01/getTweetsWithMeme_11-9863349/tweetContent/part-m-00099.gz', '/l/nx/user/jingy/covid19/weekly_feb_01_01/getTweetsWithMeme_11-9863349/tweetContent/part-m-00100.gz', '/l/nx/user/jingy/covid19/weekly_feb_01_01/getTweetsWithMeme_11-9863349/tweetContent/part-m-00101.gz', '/l/nx/user/jingy/covid19/weekly_feb_01_01/getTweetsWithMeme_11-9863349/tweetContent/part-m-00102.gz', '/l/nx/user/jingy/covid19/weekly_feb_01_01/getTweetsWithMeme_11-9863349/tweetContent/part-m-00103.gz', '/l/nx/user/jingy/covid19/weekly_feb_01_01/getTweetsWithMeme_11-9863349/tweetContent/part-m-00104.gz', '/l/nx/user/jingy/covid19/weekly_feb_01_01/getTweetsWithMeme_11-9863349/tweetContent/part-m-00105.gz', '/l/nx/user/jingy/covid19/weekly_feb_01_01/getTweetsWithMeme_11-9863349/tweetContent/part-m-00106.gz', '/l/nx/user/jingy/covid19/weekly_feb_01_01/getTweetsWithMeme_11-9863349/tweetContent/part-m-00107.gz', '/l/nx/user/jingy/covid19/weekly_feb_01_01/getTweetsWithMeme_11-9863349/tweetContent/part-m-00108.gz', '/l/nx/user/jingy/covid19/weekly_feb_01_01/getTweetsWithMeme_11-9863349/tweetContent/part-m-00109.gz', '/l/nx/user/jingy/covid19/weekly_feb_01_01/getTweetsWithMeme_11-9863349/tweetContent/part-m-00110.gz', '/l/nx/user/jingy/covid19/weekly_feb_01_01/getTweetsWithMeme_11-9863349/tweetContent/part-m-00111.gz', '/l/nx/user/jingy/covid19/weekly_feb_01_01/getTweetsWithMeme_11-9863349/tweetContent/part-m-00112.gz', '/l/nx/user/jingy/covid19/weekly_feb_01_01/getTweetsWithMeme_11-9863349/tweetContent/part-m-00113.gz', '/l/nx/user/jingy/covid19/weekly_feb_01_01/getTweetsWithMeme_11-9863349/tweetContent/part-m-00114.gz', '/l/nx/user/jingy/covid19/weekly_feb_01_01/getTweetsWithMeme_11-9863349/tweetContent/part-m-00115.gz', '/l/nx/user/jingy/covid19/weekly_feb_01_01/getTweetsWithMeme_11-9863349/tweetContent/part-m-00116.gz', '/l/nx/user/jingy/covid19/weekly_feb_01_01/getTweetsWithMeme_11-9863349/tweetContent/part-m-00117.gz', '/l/nx/user/jingy/covid19/weekly_feb_01_01/getTweetsWithMeme_11-9863349/tweetContent/part-m-00118.gz', '/l/nx/user/jingy/covid19/weekly_feb_01_01/getTweetsWithMeme_11-9863349/tweetContent/part-m-00119.gz', '/l/nx/user/jingy/covid19/weekly_feb_01_01/getTweetsWithMeme_11-9863349/tweetContent/part-m-00120.gz', '/l/nx/user/jingy/covid19/weekly_feb_01_01/getTweetsWithMeme_11-9863349/tweetContent/part-m-00121.gz', '/l/nx/user/jingy/covid19/weekly_feb_01_01/getTweetsWithMeme_11-9863349/tweetContent/part-m-00122.gz', '/l/nx/user/jingy/covid19/weekly_feb_01_01/getTweetsWithMeme_11-9863349/tweetContent/part-m-00123.gz', '/l/nx/user/jingy/covid19/weekly_feb_01_01/getTweetsWithMeme_11-9863349/tweetContent/part-m-00124.gz', '/l/nx/user/jingy/covid19/weekly_feb_01_01/getTweetsWithMeme_11-9863349/tweetContent/part-m-00125.gz', '/l/nx/user/jingy/covid19/weekly_feb_01_01/getTweetsWithMeme_11-9863349/tweetContent/part-m-00126.gz', '/l/nx/user/jingy/covid19/weekly_feb_01_01/getTweetsWithMeme_11-9863349/tweetContent/part-m-00127.gz', '/l/nx/user/jingy/covid19/weekly_feb_01_01/getTweetsWithMeme_11-9863349/tweetContent/part-m-00128.gz', '/l/nx/user/jingy/covid19/weekly_feb_01_01/getTweetsWithMeme_11-9863349/tweetContent/part-m-00129.gz', '/l/nx/user/jingy/covid19/weekly_feb_01_01/getTweetsWithMeme_11-9863349/tweetContent/part-m-00130.gz', '/l/nx/user/jingy/covid19/weekly_feb_01_01/getTweetsWithMeme_11-9863349/tweetContent/part-m-00131.gz', '/l/nx/user/jingy/covid19/weekly_feb_01_01/getTweetsWithMeme_11-9863349/tweetContent/part-m-00132.gz', '/l/nx/user/jingy/covid19/weekly_feb_01_01/getTweetsWithMeme_11-9863349/tweetContent/part-m-00133.gz']\n"
     ]
    },
    {
     "ename": "FileNotFoundError",
     "evalue": "[Errno 2] No such file or directory: '/l/nx/user/jingy/covid19/weekly_feb_01_01/getTweetsWithMeme_11-9863349/tweetContent/part-m-00103.gz'",
     "output_type": "error",
     "traceback": [
      "\u001b[0;31m---------------------------------------------------------------------------\u001b[0m",
      "\u001b[0;31mFileNotFoundError\u001b[0m                         Traceback (most recent call last)",
      "\u001b[0;32m<ipython-input-7-854912084e9e>\u001b[0m in \u001b[0;36m<module>\u001b[0;34m\u001b[0m\n\u001b[1;32m      9\u001b[0m             \u001b[0mfiles\u001b[0m \u001b[0;34m=\u001b[0m \u001b[0mrandom\u001b[0m\u001b[0;34m.\u001b[0m\u001b[0msample\u001b[0m\u001b[0;34m(\u001b[0m\u001b[0mtemp_path\u001b[0m\u001b[0;34m,\u001b[0m \u001b[0;36m5\u001b[0m\u001b[0;34m)\u001b[0m\u001b[0;34m\u001b[0m\u001b[0;34m\u001b[0m\u001b[0m\n\u001b[1;32m     10\u001b[0m             \u001b[0;32mfor\u001b[0m \u001b[0mfile\u001b[0m \u001b[0;32min\u001b[0m \u001b[0mfiles\u001b[0m\u001b[0;34m:\u001b[0m\u001b[0;34m\u001b[0m\u001b[0;34m\u001b[0m\u001b[0m\n\u001b[0;32m---> 11\u001b[0;31m                 \u001b[0;32mwith\u001b[0m \u001b[0mgzip\u001b[0m\u001b[0;34m.\u001b[0m\u001b[0mopen\u001b[0m\u001b[0;34m(\u001b[0m\u001b[0mfile\u001b[0m\u001b[0;34m)\u001b[0m \u001b[0;32mas\u001b[0m \u001b[0mf\u001b[0m\u001b[0;34m:\u001b[0m\u001b[0;34m\u001b[0m\u001b[0;34m\u001b[0m\u001b[0m\n\u001b[0m\u001b[1;32m     12\u001b[0m                     \u001b[0;32mfor\u001b[0m \u001b[0mline\u001b[0m \u001b[0;32min\u001b[0m \u001b[0mf\u001b[0m\u001b[0;34m:\u001b[0m\u001b[0;34m\u001b[0m\u001b[0;34m\u001b[0m\u001b[0m\n\u001b[1;32m     13\u001b[0m                         \u001b[0mtweet\u001b[0m \u001b[0;34m=\u001b[0m \u001b[0mjson\u001b[0m\u001b[0;34m.\u001b[0m\u001b[0mloads\u001b[0m\u001b[0;34m(\u001b[0m\u001b[0mline\u001b[0m\u001b[0;34m)\u001b[0m\u001b[0;34m\u001b[0m\u001b[0;34m\u001b[0m\u001b[0m\n",
      "\u001b[0;32m/opt/anaconda3/envs/py37/lib/python3.7/gzip.py\u001b[0m in \u001b[0;36mopen\u001b[0;34m(filename, mode, compresslevel, encoding, errors, newline)\u001b[0m\n\u001b[1;32m     56\u001b[0m     \u001b[0mgz_mode\u001b[0m \u001b[0;34m=\u001b[0m \u001b[0mmode\u001b[0m\u001b[0;34m.\u001b[0m\u001b[0mreplace\u001b[0m\u001b[0;34m(\u001b[0m\u001b[0;34m\"t\"\u001b[0m\u001b[0;34m,\u001b[0m \u001b[0;34m\"\"\u001b[0m\u001b[0;34m)\u001b[0m\u001b[0;34m\u001b[0m\u001b[0;34m\u001b[0m\u001b[0m\n\u001b[1;32m     57\u001b[0m     \u001b[0;32mif\u001b[0m \u001b[0misinstance\u001b[0m\u001b[0;34m(\u001b[0m\u001b[0mfilename\u001b[0m\u001b[0;34m,\u001b[0m \u001b[0;34m(\u001b[0m\u001b[0mstr\u001b[0m\u001b[0;34m,\u001b[0m \u001b[0mbytes\u001b[0m\u001b[0;34m,\u001b[0m \u001b[0mos\u001b[0m\u001b[0;34m.\u001b[0m\u001b[0mPathLike\u001b[0m\u001b[0;34m)\u001b[0m\u001b[0;34m)\u001b[0m\u001b[0;34m:\u001b[0m\u001b[0;34m\u001b[0m\u001b[0;34m\u001b[0m\u001b[0m\n\u001b[0;32m---> 58\u001b[0;31m         \u001b[0mbinary_file\u001b[0m \u001b[0;34m=\u001b[0m \u001b[0mGzipFile\u001b[0m\u001b[0;34m(\u001b[0m\u001b[0mfilename\u001b[0m\u001b[0;34m,\u001b[0m \u001b[0mgz_mode\u001b[0m\u001b[0;34m,\u001b[0m \u001b[0mcompresslevel\u001b[0m\u001b[0;34m)\u001b[0m\u001b[0;34m\u001b[0m\u001b[0;34m\u001b[0m\u001b[0m\n\u001b[0m\u001b[1;32m     59\u001b[0m     \u001b[0;32melif\u001b[0m \u001b[0mhasattr\u001b[0m\u001b[0;34m(\u001b[0m\u001b[0mfilename\u001b[0m\u001b[0;34m,\u001b[0m \u001b[0;34m\"read\"\u001b[0m\u001b[0;34m)\u001b[0m \u001b[0;32mor\u001b[0m \u001b[0mhasattr\u001b[0m\u001b[0;34m(\u001b[0m\u001b[0mfilename\u001b[0m\u001b[0;34m,\u001b[0m \u001b[0;34m\"write\"\u001b[0m\u001b[0;34m)\u001b[0m\u001b[0;34m:\u001b[0m\u001b[0;34m\u001b[0m\u001b[0;34m\u001b[0m\u001b[0m\n\u001b[1;32m     60\u001b[0m         \u001b[0mbinary_file\u001b[0m \u001b[0;34m=\u001b[0m \u001b[0mGzipFile\u001b[0m\u001b[0;34m(\u001b[0m\u001b[0;32mNone\u001b[0m\u001b[0;34m,\u001b[0m \u001b[0mgz_mode\u001b[0m\u001b[0;34m,\u001b[0m \u001b[0mcompresslevel\u001b[0m\u001b[0;34m,\u001b[0m \u001b[0mfilename\u001b[0m\u001b[0;34m)\u001b[0m\u001b[0;34m\u001b[0m\u001b[0;34m\u001b[0m\u001b[0m\n",
      "\u001b[0;32m/opt/anaconda3/envs/py37/lib/python3.7/gzip.py\u001b[0m in \u001b[0;36m__init__\u001b[0;34m(self, filename, mode, compresslevel, fileobj, mtime)\u001b[0m\n\u001b[1;32m    166\u001b[0m             \u001b[0mmode\u001b[0m \u001b[0;34m+=\u001b[0m \u001b[0;34m'b'\u001b[0m\u001b[0;34m\u001b[0m\u001b[0;34m\u001b[0m\u001b[0m\n\u001b[1;32m    167\u001b[0m         \u001b[0;32mif\u001b[0m \u001b[0mfileobj\u001b[0m \u001b[0;32mis\u001b[0m \u001b[0;32mNone\u001b[0m\u001b[0;34m:\u001b[0m\u001b[0;34m\u001b[0m\u001b[0;34m\u001b[0m\u001b[0m\n\u001b[0;32m--> 168\u001b[0;31m             \u001b[0mfileobj\u001b[0m \u001b[0;34m=\u001b[0m \u001b[0mself\u001b[0m\u001b[0;34m.\u001b[0m\u001b[0mmyfileobj\u001b[0m \u001b[0;34m=\u001b[0m \u001b[0mbuiltins\u001b[0m\u001b[0;34m.\u001b[0m\u001b[0mopen\u001b[0m\u001b[0;34m(\u001b[0m\u001b[0mfilename\u001b[0m\u001b[0;34m,\u001b[0m \u001b[0mmode\u001b[0m \u001b[0;32mor\u001b[0m \u001b[0;34m'rb'\u001b[0m\u001b[0;34m)\u001b[0m\u001b[0;34m\u001b[0m\u001b[0;34m\u001b[0m\u001b[0m\n\u001b[0m\u001b[1;32m    169\u001b[0m         \u001b[0;32mif\u001b[0m \u001b[0mfilename\u001b[0m \u001b[0;32mis\u001b[0m \u001b[0;32mNone\u001b[0m\u001b[0;34m:\u001b[0m\u001b[0;34m\u001b[0m\u001b[0;34m\u001b[0m\u001b[0m\n\u001b[1;32m    170\u001b[0m             \u001b[0mfilename\u001b[0m \u001b[0;34m=\u001b[0m \u001b[0mgetattr\u001b[0m\u001b[0;34m(\u001b[0m\u001b[0mfileobj\u001b[0m\u001b[0;34m,\u001b[0m \u001b[0;34m'name'\u001b[0m\u001b[0;34m,\u001b[0m \u001b[0;34m''\u001b[0m\u001b[0;34m)\u001b[0m\u001b[0;34m\u001b[0m\u001b[0;34m\u001b[0m\u001b[0m\n",
      "\u001b[0;31mFileNotFoundError\u001b[0m: [Errno 2] No such file or directory: '/l/nx/user/jingy/covid19/weekly_feb_01_01/getTweetsWithMeme_11-9863349/tweetContent/part-m-00103.gz'"
     ]
    }
   ],
   "source": [
    "months = ['feb', 'mar', 'apr', 'may', 'jun', 'jul']\n",
    "for month in months:\n",
    "    all_tweets = []\n",
    "    for i in range(1,9):\n",
    "        temp_path = paths.get_rawfilenames(i)\n",
    "        print(temp_path)\n",
    "        if month in temp_path[0]:\n",
    "            tweet_cnt = 0\n",
    "            files = random.sample(temp_path, 5)\n",
    "            for file in files:\n",
    "                with gzip.open(file) as f:\n",
    "                    for line in f:\n",
    "                        tweet = json.loads(line)        \n",
    "                        text = tweet['text']\n",
    "                        time = tweet['created_at']\n",
    "                        try:\n",
    "                            if detect(text) == 'en':\n",
    "                                all_tweets.append([text, time])\n",
    "                                tweet_cnt += 1\n",
    "                        except Exception as ex:\n",
    "                            print(ex)\n",
    "                print('completed: ', file, 'number of tweets: ', tweet_cnt)\n",
    "    print('completed: ', month, 'total tweets: ', tweet_cnt)\n",
    "    all_tweets = pd.DataFrame(all_tweets, columns = ['Text', 'Time'])\n",
    "    print(all_tweets.head(2))\n",
    "    pickle.dump(all_tweets, open('../../data/moe_sample_tweets_{}.p'.format(month), 'wb'))\n",
    "\n"
   ]
  },
  {
   "cell_type": "code",
   "execution_count": 18,
   "metadata": {},
   "outputs": [],
   "source": [
    "'../../data/'"
   ]
  },
  {
   "cell_type": "code",
   "execution_count": 19,
   "metadata": {},
   "outputs": [
    {
     "data": {
      "text/html": [
       "<div>\n",
       "<style scoped>\n",
       "    .dataframe tbody tr th:only-of-type {\n",
       "        vertical-align: middle;\n",
       "    }\n",
       "\n",
       "    .dataframe tbody tr th {\n",
       "        vertical-align: top;\n",
       "    }\n",
       "\n",
       "    .dataframe thead th {\n",
       "        text-align: right;\n",
       "    }\n",
       "</style>\n",
       "<table border=\"1\" class=\"dataframe\">\n",
       "  <thead>\n",
       "    <tr style=\"text-align: right;\">\n",
       "      <th></th>\n",
       "      <th>Text</th>\n",
       "      <th>Time</th>\n",
       "    </tr>\n",
       "  </thead>\n",
       "  <tbody>\n",
       "    <tr>\n",
       "      <th>0</th>\n",
       "      <td>RT @CGTNOfficial: Live: A glimpse of Wuhan tra...</td>\n",
       "      <td>Sat Jan 25 01:18:55 -0500 2020</td>\n",
       "    </tr>\n",
       "    <tr>\n",
       "      <th>1</th>\n",
       "      <td>James Vaughn, the creator of Plague Inc., has ...</td>\n",
       "      <td>Sat Jan 25 01:18:55 -0500 2020</td>\n",
       "    </tr>\n",
       "  </tbody>\n",
       "</table>\n",
       "</div>"
      ],
      "text/plain": [
       "                                                Text  \\\n",
       "0  RT @CGTNOfficial: Live: A glimpse of Wuhan tra...   \n",
       "1  James Vaughn, the creator of Plague Inc., has ...   \n",
       "\n",
       "                             Time  \n",
       "0  Sat Jan 25 01:18:55 -0500 2020  \n",
       "1  Sat Jan 25 01:18:55 -0500 2020  "
      ]
     },
     "execution_count": 19,
     "metadata": {},
     "output_type": "execute_result"
    }
   ],
   "source": [
    "all_tweets.head(2)"
   ]
  },
  {
   "cell_type": "code",
   "execution_count": 20,
   "metadata": {},
   "outputs": [],
   "source": [
    "pickle.dump(tweets, open('../../data/moe_sample_tweets.p', 'wb'))"
   ]
  },
  {
   "cell_type": "code",
   "execution_count": 55,
   "metadata": {},
   "outputs": [],
   "source": [
    "df = pickle.load(open('../../data/moe_sample_tweets_feb.p', 'rb'))"
   ]
  },
  {
   "cell_type": "code",
   "execution_count": 56,
   "metadata": {},
   "outputs": [
    {
     "data": {
      "text/html": [
       "<div>\n",
       "<style scoped>\n",
       "    .dataframe tbody tr th:only-of-type {\n",
       "        vertical-align: middle;\n",
       "    }\n",
       "\n",
       "    .dataframe tbody tr th {\n",
       "        vertical-align: top;\n",
       "    }\n",
       "\n",
       "    .dataframe thead th {\n",
       "        text-align: right;\n",
       "    }\n",
       "</style>\n",
       "<table border=\"1\" class=\"dataframe\">\n",
       "  <thead>\n",
       "    <tr style=\"text-align: right;\">\n",
       "      <th></th>\n",
       "      <th>Text</th>\n",
       "      <th>Time</th>\n",
       "    </tr>\n",
       "  </thead>\n",
       "  <tbody>\n",
       "    <tr>\n",
       "      <th>0</th>\n",
       "      <td>RT @buzzman888: China:  #CoronaVirus \\n\\nDo yo...</td>\n",
       "      <td>Tue Feb 04 19:45:02 -0500 2020</td>\n",
       "    </tr>\n",
       "    <tr>\n",
       "      <th>1</th>\n",
       "      <td>RT @COVID19__News: BREAKING NEWS: Iran’s Deput...</td>\n",
       "      <td>Wed Feb 26 02:05:44 -0500 2020</td>\n",
       "    </tr>\n",
       "    <tr>\n",
       "      <th>2</th>\n",
       "      <td>Update on Coronavirus figures - \\n34,394 confi...</td>\n",
       "      <td>Fri Feb 07 21:49:19 -0500 2020</td>\n",
       "    </tr>\n",
       "  </tbody>\n",
       "</table>\n",
       "</div>"
      ],
      "text/plain": [
       "                                                Text  \\\n",
       "0  RT @buzzman888: China:  #CoronaVirus \\n\\nDo yo...   \n",
       "1  RT @COVID19__News: BREAKING NEWS: Iran’s Deput...   \n",
       "2  Update on Coronavirus figures - \\n34,394 confi...   \n",
       "\n",
       "                             Time  \n",
       "0  Tue Feb 04 19:45:02 -0500 2020  \n",
       "1  Wed Feb 26 02:05:44 -0500 2020  \n",
       "2  Fri Feb 07 21:49:19 -0500 2020  "
      ]
     },
     "execution_count": 56,
     "metadata": {},
     "output_type": "execute_result"
    }
   ],
   "source": [
    "df"
   ]
  },
  {
   "cell_type": "code",
   "execution_count": null,
   "metadata": {},
   "outputs": [],
   "source": []
  }
 ],
 "metadata": {
  "kernelspec": {
   "display_name": "Python 3",
   "language": "python",
   "name": "python3"
  },
  "language_info": {
   "codemirror_mode": {
    "name": "ipython",
    "version": 3
   },
   "file_extension": ".py",
   "mimetype": "text/x-python",
   "name": "python",
   "nbconvert_exporter": "python",
   "pygments_lexer": "ipython3",
   "version": "3.7.7"
  }
 },
 "nbformat": 4,
 "nbformat_minor": 4
}
