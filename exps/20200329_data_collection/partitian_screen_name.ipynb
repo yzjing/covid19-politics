{
 "cells": [
  {
   "cell_type": "code",
   "execution_count": 2,
   "metadata": {},
   "outputs": [],
   "source": [
    "import pickle\n",
    "import os\n",
    "import tweepy"
   ]
  },
  {
   "cell_type": "code",
   "execution_count": 15,
   "metadata": {},
   "outputs": [],
   "source": [
    "def init_api():\n",
    "    # load keys from a pickle file\n",
    "    api_keys = pickle.load(open('api_keys.p', 'rb'))\n",
    "    api_key = api_keys['consumer_key']\n",
    "    api_secret_key = api_keys['consumer_secret']\n",
    "    access_token = api_keys['access_key']\n",
    "    access_token_secret = api_keys['access_secret']\n",
    "    # Connect to Twitter API using the secrets\n",
    "    auth = tweepy.OAuthHandler(api_key, api_secret_key)\n",
    "    auth.set_access_token(access_token, access_token_secret)\n",
    "    api = tweepy.API(auth, wait_on_rate_limit=True, wait_on_rate_limit_notify=True)\n",
    "    return api"
   ]
  },
  {
   "cell_type": "code",
   "execution_count": 16,
   "metadata": {},
   "outputs": [],
   "source": [
    "def get_list_members(api, list_id):\n",
    "    members = []\n",
    "    # without this you only get the first 20 list members\n",
    "    for page in tweepy.Cursor(api.list_members, list_id=list_id).items():\n",
    "        members.append(page)\n",
    "    # create a list containing all usernames\n",
    "    return [ m.screen_name for m in members ]"
   ]
  },
  {
   "cell_type": "code",
   "execution_count": 18,
   "metadata": {},
   "outputs": [],
   "source": [
    "govenor_rep_screennames = ['GovernorGordon', 'GovernorKayIvey', 'GovDunleavy', 'GovStitt', 'GovMikeDeWine', 'GovRonDeSantis',\\\n",
    "                  'GovAbbott', 'GovRicketts', 'WVGovernor', 'DougBurgum', 'GovBillLee', 'GovChrisSununu', \\\n",
    "                  'GovLarryHogan', 'henrymcmaster', 'dougducey', 'GovHerbert', 'GovernorCNMI', 'govkristinoem', \\\n",
    "                  'IAGovernor', 'GovPhilScott', 'AsaHutchinson', 'GovernorLittle', 'tatereeves','MassGovernor', \\\n",
    "                  'wandavazquezg', 'GovHolcomb']"
   ]
  },
  {
   "cell_type": "code",
   "execution_count": 19,
   "metadata": {},
   "outputs": [],
   "source": [
    "pickle.dump(govenor_rep_screennames, open('../../data/govenor_rep_screennames.p', 'wb'))"
   ]
  },
  {
   "cell_type": "code",
   "execution_count": 20,
   "metadata": {},
   "outputs": [],
   "source": [
    "govenor_dem_screennames = ['GovPritzker', 'GovLauraKelly', 'JohnCarneyDE', 'GovKemp', 'NC_Governor', 'OregonGovBrown', \\\n",
    "                  'GovMurphy', 'NYGovCuomo', 'GovNedLamont', 'GovHawaii', 'GovWhitmer', 'LouisianaGov', \\\n",
    "                   'GovAndyBeshear', 'GavinNewsom', 'GovernorVA', 'GovRaimondo', 'GovernorBullock', 'GovofCO', \\\n",
    "                  'GovInslee', 'GovEvers', 'GovJanetMills', 'GovernorTomWolf', 'GovTimWalz', 'govbryan', \\\n",
    "                  'louleonguerrero', 'GovMLG', 'MayorBowser', 'GovSisolak'  ]"
   ]
  },
  {
   "cell_type": "code",
   "execution_count": 21,
   "metadata": {},
   "outputs": [],
   "source": [
    "pickle.dump(govenor_dem_screennames, open('../../data/govenor_dem_screennames.p', 'wb'))"
   ]
  },
  {
   "cell_type": "code",
   "execution_count": 23,
   "metadata": {},
   "outputs": [],
   "source": [
    "states = [\"Alabama\",\"Alaska\",\"Arizona\",\"Arkansas\",\"California\",\"Colorado\",\n",
    "  \"Connecticut\",\"Delaware\",\"Florida\",\"Georgia\",\"Hawaii\",\"Idaho\",\"Illinois\",\n",
    "  \"Indiana\",\"Iowa\",\"Kansas\",\"Kentucky\",\"Louisiana\",\"Maine\",\"Maryland\",\n",
    "  \"Massachusetts\",\"Michigan\",\"Minnesota\",\"Mississippi\",\"Missouri\",\"Montana\",\n",
    "  \"Nebraska\",\"Nevada\",\"New Hampshire\",\"New Jersey\",\"New Mexico\",\"New York\",\n",
    "  \"North Carolina\",\"North Dakota\",\"Ohio\",\"Oklahoma\",\"Oregon\",\"Pennsylvania\",\n",
    "  \"Rhode Island\",\"South Carolina\",\"South Dakota\",\"Tennessee\",\"Texas\",\"Utah\",\n",
    "  \"Vermont\",\"Virginia\",\"Washington\",\"West Virginia\",\"Wisconsin\",\"Wyoming\",\n",
    "          \"AL\", \"AK\", \"AZ\", \"AR\", \"CA\", \"CO\", \"CT\", \"DC\", \"DE\", \"FL\", \"GA\", \n",
    "          \"HI\", \"ID\", \"IL\", \"IN\", \"IA\", \"KS\", \"KY\", \"LA\", \"ME\", \"MD\", \n",
    "          \"MA\", \"MI\", \"MN\", \"MS\", \"MO\", \"MT\", \"NE\", \"NV\", \"NH\", \"NJ\", \n",
    "          \"NM\", \"NY\", \"NC\", \"ND\", \"OH\", \"OK\", \"OR\", \"PA\", \"RI\", \"SC\", \n",
    "          \"SD\", \"TN\", \"TX\", \"UT\", \"VT\", \"VA\", \"WA\", \"WV\", \"WI\", \"WY\", \"CNMI\"]"
   ]
  },
  {
   "cell_type": "code",
   "execution_count": 24,
   "metadata": {},
   "outputs": [],
   "source": [
    "pickle.dump(states, open('../../data/us_states.p', 'wb'))"
   ]
  },
  {
   "cell_type": "code",
   "execution_count": 11,
   "metadata": {},
   "outputs": [],
   "source": [
    "data_path = '../../data/us_representatives_tweets/'"
   ]
  },
  {
   "cell_type": "code",
   "execution_count": 49,
   "metadata": {},
   "outputs": [],
   "source": [
    "house_all_screenname = []\n",
    "for item in os.listdir(data_path):\n",
    "    house_all_screenname.append(item.replace('_tweets.p', ''))"
   ]
  },
  {
   "cell_type": "code",
   "execution_count": 51,
   "metadata": {},
   "outputs": [],
   "source": [
    "# house_all_screenname"
   ]
  },
  {
   "cell_type": "code",
   "execution_count": 53,
   "metadata": {},
   "outputs": [],
   "source": [
    "house_dem_screennames = [ 'dinatitus','davidcicilline', 'aguilarpete', 'RobinLynneKelly', 'RoKhanna', 'MarkPocan',\n",
    "                         'LacyClayMO1','DWStweets', 'Call_Me_Dutch',\n",
    "                        'RepSusanWild', 'RepAlGreen', 'RepDelBene', 'RepJimmyPanetta', 'DonaldNorcross', \n",
    "                        'RepGwenMoore', 'RepSchneider', 'RepLindaSanchez','RepKarenBass','NormaJTorres',\n",
    "                        'RepDavids','BobbyScott','RepKimSchrier','RepBera','RepDennyHeck','RepChrisPappas',\n",
    "                         'RepCindyAxne','RepHaleyStevens','RepSpeier','RepAndyLevin','RepDanKildee',\n",
    "                         'repjimcooper','RepCarbajal','CongBoyle','RepMcGovern','RepValDemings','USRepMikeDoyle',\n",
    "                         'RepRoKhanna','repcleaver','USRepKCastor', 'RepCardenas','WhipClyburn','StaceyPlaskett',\n",
    "                         'RepDarrenSoto','RepSylviaGarcia','RepCasten','RepPressley','RepGregoryMeeks',\n",
    "                         'RepSusanDavis','RepDannyDavis','RepCuellar','RepBobbyRush','RepOHalleran',\n",
    "                         'RepLowenthal','RepLipinski','RepFilemonVela','RepLoriTrahan','RepBenMcAdams','RepEdCase',\n",
    "                         'RepMarkTakano','JaredHuffman','RepAnthonyBrown','GKButterfield','RepFinkenauer',\n",
    "                         'RepAlLawsonJr','chelliepingree','repbenraylujan','RepWilson','SpeakerPelosi',\n",
    "                         'OversightDems','RepTorresSmall','RepEBJ','RepHarley','RepGregStanton','RepLipinski', \n",
    "                         'RepRaulGrijalva', 'RepCardenas', 'RepEBJ', 'repjimcooper', 'RepSarbanes', 'RepVeasey', \n",
    "                         'TulsiPress', 'RepCummings', 'RepStephMurphy', 'RepSylviaGarcia', 'RepMaloney',\n",
    "                         'RepSpanberger', 'RepLoriTrahan', 'BennieGThompson', 'repdinatitus', 'RepDianaDeGette', \n",
    "                         'RepBrindisi', 'RepTjCox', 'RepEscobar', 'RepCartwright', 'RepFletcher', 'RepLBR', \n",
    "                         'repdelgado', 'repmarkpocan', 'NydiaVelazquez', 'BradSherman', 'JimLangevin', \n",
    "                         'RepDerekKilmer', 'RepMarcyKaptur', 'USRepKCastor', 'RepRoybalAllard', 'jahimes', \n",
    "                         'RepSchrader', 'RepCicilline', 'RepMcGovern', 'RepHankJohnson', 'RepMaxineWaters', \n",
    "                         'RepKimSchrier', 'RepJerryNadler', 'chelliepingree', 'RepConorLamb', 'RepBeatty', \n",
    "                         'RepSwalwell', 'RepDebDingell', 'RepJuanVargas', 'RepKClark', 'BettyMcCollum04', \n",
    "                         'RepCunningham', 'RepKirkpatrick', 'RepLoisFrankel', 'RepRaskin', 'RepSchneider', \n",
    "                         'RepKatiePorter', 'RepDavidTrone', 'NitaLowey', 'RepBrownley', 'RepEdCase', \n",
    "                         'RepDeanPhillips', 'repcleaver', 'RepLucyMcBath', 'RepJimmyPanetta', 'RepZoeLofgren', \n",
    "                         'RepMarkTakano', 'RepCheri', 'RepHoulahan', 'RepJimCosta', 'repjohnlewis', 'EleanorNorton', \n",
    "                         'RepSherrill', 'RepRichardNeal', 'RepRubenGallego', 'RepPeterDeFazio', 'GKButterfield', \n",
    "                         'RepJohnLarson', 'RepGregoryMeeks', 'RepJohnYarmuth', 'RepRaulRuizMD', 'RepCuellar',\n",
    "                         'RepJoshHarder', 'CongressmanRaja', 'RepWilson', 'RepValDemings', 'RepAdamSmith',\n",
    "                         'RepAnnieKuster', 'RepCohen', 'RepJayapal', 'RepLouCorrea', 'RepCasten', 'DonaldNorcross',\n",
    "                         'RepChrisPappas', 'RepGraceMeng', 'daveloebsack', 'RepKatieHill', 'RepTedLieu', \n",
    "                         'BobbyScott', 'RepJeffries', 'RepFilemonVela', 'repdavidscott', 'RepJoshG', 'RepFinkenauer', \n",
    "                         'RepAngieCraig', 'RepJoeNeguse', 'StaceyPlaskett', 'RepLloydDoggett', 'RepBonnie',\n",
    "                         'RepAndyLevin', 'RepLawrence', 'RepGilCisneros', 'RepDwightEvans', 'WhipClyburn', \n",
    "                         'RepDean', 'rosadelauro', 'HouseDemocrats', 'repbenraylujan', 'RepOHalleran', 'RepSlotkin', \n",
    "                         'RepPerlmutter', 'RepAlGreen', 'RepMalinowski', 'RepLindaSanchez', 'RepGregStanton', \n",
    "                         'RepEspaillat', 'FrankPallone', 'RepDavids', 'GerryConnolly', 'BillPascrell', \n",
    "                         'RepSusanDavis', 'repblumenauer', 'RepDannyDavis', 'gracenapolitano', 'RepPeteAguilar', \n",
    "                         'RepShalala', 'RepKathleenRice', 'RepDebHaaland', 'RepHuffman', 'RepGolden', 'RepRichmond', \n",
    "                         'USRepKeating', 'RepScottPeters', 'LeaderHoyer', 'JoaquinCastrotx', 'RepDanKildee', \n",
    "                         'RepStephenLynch', 'RepAnnaEshoo', 'RepVisclosky', 'RepDonaldPayne', 'RepAndreCarson', \n",
    "                         'sethmoulton', 'RepAdams', 'RepBera', 'RepHaleyStevens', 'RepMikeQuigley', 'RepHarley', \n",
    "                         'RepTomSuozzi', 'RepBarbaraLee', 'RepAdamSchiff', 'RepCharlieCrist', 'RepDarrenSoto', \n",
    "                         'RepLowenthal', 'RepJoeCourtney', 'RepGaramendi', 'RepAOC', 'Ilhan', 'RepTerriSewell',\n",
    "                         'RepSires', 'SpeakerPelosi', 'janschakowsky', 'JacksonLeeTX18', 'RepKarenBass',\n",
    "                         'RepDennyHeck', 'RepTorresSmall', 'RepPressley', 'RepBonamici', 'RepGwenMoore', \n",
    "                         'RepDonBeyer', 'RepThompson', 'RepJoeKennedy', 'RepGonzalez', 'RepSusieLee', 'RepBenMcAdams',\n",
    "                         'RepMGS', 'RepAndyKimNJ', 'RepRoKhanna', 'PeterWelch', 'RepDMP', 'NormaJTorres', \n",
    "                         'RepRobinKelly', 'RepYvetteClarke', 'RepCarbajal', 'RepDavidEPrice', 'RepRickLarsen', \n",
    "                         'RepBillFoster', 'RepChuyGarcia', 'RepRonKind', 'RepMikeLevin', 'RepJimmyGomez', \n",
    "                         'RepHastingsFL', 'RepColinAllred', 'RepSusanWild', 'RepBobbyRush', 'USRepMikeDoyle',\n",
    "                         'CongressmanJVD', 'RepMaxRose', 'RepBarragan', 'SanfordBishop', 'DorisMatsui', \n",
    "                         'RepAlLawsonJr', 'RepKendraHorn', 'RepCindyAxne', 'RepWexton', 'RepUnderwood',\n",
    "                         'RepEliotEngel', 'RepDWStweets', 'RepJoeMorelle', 'RepSeanMaloney', 'RepMarciaFudge', \n",
    "                         'RepHorsford', 'RepJahanaHayes', 'RepMcNerney', 'RepJasonCrow', 'RepTimRyan', \n",
    "                         'RepBrianHiggins', 'RepSpeier', 'RepPaulTonko', 'RepJoseSerrano', 'RepBrendanBoyle', \n",
    "                         'RepElaineLuria', 'RepMcEachin', 'RepDelBene', 'RepJudyChu', 'RepRashida',\n",
    "                         'RepTedDeutch', 'RepDeSaulnier', 'RepDeanPhillips','RepDianaDeGette','RepMarciaFudge',\n",
    "                         'RepScottPeters','RepPeteAguilar','repdinatitus','RepMcNerney','RepRubenGallego',\n",
    "                        \n",
    "                         \n",
    "                        ]"
   ]
  },
  {
   "cell_type": "code",
   "execution_count": 54,
   "metadata": {},
   "outputs": [],
   "source": [
    "house_rep_screennames = ['jdanbishop', 'Rep_Watkins', 'RepRickAllen', 'RepJimBaird', 'RepJenniffer', 'RepAmata',\n",
    "                        'FrankDLucas','RepPaulMitchell', 'RepMattGaetz', 'MarkAmodeiNV2', 'RepRalphNorman',\n",
    "                        'DrNealDunnFL2','RepBobGibbs','RepClayHiggins', 'RepThompson','RepKevinBrady',  \n",
    "                        'PatrickMcHenry', 'RodneyDavis', 'TXRandy14', 'RepBrianMast', 'RepTomRice','RepAGonzalez',\n",
    "                         'RepChrisStewart','RepBost','RepDavidKustoff','EdLaborGOP','RepStefanik','RepThomasMassie',\n",
    "                         'RepHagedorn','RepGregPence','rep_stevewomack','RepWesterman','RepGuthrie','RepDevinNunes',\n",
    "                         'GOPLeader','RepBenCline','RepMeuser','Jim_Jordan','RepGarretGraves','RepLeeZeldin',\n",
    "                         'RepSteveStivers','RepGonzalez','RepScottPerry','RepAbraham','RepFredKeller',\n",
    "                         'RepBillJohnson','GReschenthaler','RepMichaelWaltz','Robert_Aderholt','RepGregSteube',\n",
    "                         'HouseAgGOP','RepMcClintock','RepLoudermilk','RepAlexMooney','RepMikeJohnson','SusanWBrooks',\n",
    "                         'RepMichaelGuest', 'RepMoolenaar','RepWebster','RepAdrianSmith','RepJohnRose','RepWalorski',\n",
    "                         'JimPressOffice','RepPeteStauber','RepLizCheney','RepBrianFitz','RepRussFulcher',\n",
    "                         'RepLarryBucshon', 'RepDavidRouzer', 'RepRickCrawford', 'RepMGriffith', 'RepWalorski', \n",
    "                         'RepLarryBucshon', 'RepAGonzalez', 'RepHolding', 'RepCarolMiller', 'RepJimBanks', \n",
    "                         'JamesComer', 'RepGuthrie', 'RepPaulMitchell', 'RepAndyBarr', 'MarkMeadows', 'HurdOnTheHill', \n",
    "                         'MacTXPress', 'AustinScottGA08', 'SteveKingIA', 'RepDavid', 'RepChrisStewart', \n",
    "                         'cathymcmorris', 'CongPalazzo', 'RepDustyJohnson', 'RepArmstrongND', 'DrPhilRoe', \n",
    "                         'RepHagedorn', 'RepNewhouse', 'JudgeCarter', 'RepMcClintock', 'RepLizCheney', 'RepWesterman',\n",
    "                         'RepMoolenaar', 'RepCloudTX', 'RepFrankLucas', 'PeterRoskam', 'WarrenDavidson', 'TomColeOK04', \n",
    "                         'RodneyDavis', 'RepBrianMast', 'RepTomGraves', 'RepKinzinger', 'RepBalderson', 'RepBenCline', \n",
    "                         'RepTomRice', 'RepFredKeller', 'repgregwalden', 'RepJohnCurtis', 'RepRooney',\n",
    "                         'RepRutherfordFL', 'RepJohnRose', 'DesJarlaisTN04', 'RepRussFulcher', 'RepAlexMooney', \n",
    "                         'RepKenBuck', 'RepPeteKing', 'RepGrothman', 'RepTomEmmer', 'RepBost', 'CongressmanHice', \n",
    "                         'RepLaMalfa', 'RepTimBurchett', 'RepArrington', 'RepTedYoho', 'RepAnnWagner', 'RepTipton',\n",
    "                         'RepGusBilirakis', 'RepDavidKustoff', 'SusanWBrooks', 'RepKayGranger', 'MarioDB',\n",
    "                         'RepRobWoodall', 'RepPeteStauber', 'RepDrewFerguson', 'RepChuck', 'boblatta', 'RepFredUpton', \n",
    "                         'JeffFortenberry', 'RepTomReed', 'RepGarretGraves', 'VernBuchanan', 'RepJackBergman', \n",
    "                         'RepTrentKelly', 'RepMarkWalker', 'RepLoudermilk', 'CongressmanGT', 'RepGallagher', \n",
    "                         'RepJohnKatko', 'GReschenthaler', 'RepRonEstes', 'RepBobGibbs', 'RepBryanSteil', \n",
    "                         'PatrickMcHenry', 'RepDLesko', 'JimPressOffice', 'RepMullin', 'RepRonWright', 'RepDaveJoyce', \n",
    "                         'RepMeuser', 'RepDevinNunes', 'congbillposey', 'RepShimkus', 'RepBrianFitz', 'RepKevinBrady',\n",
    "                         'RepMichaelWaltz', 'RepMikeTurner', 'RepRiggleman', 'RepAndyBiggsAZ', 'RepTrey', 'RepSmucker', \n",
    "                         'RepFrenchHill', 'USRepGaryPalmer', 'SteveScalise', 'RepHuizenga', 'RepBrianBabin', \n",
    "                         'RepKenMarchant', 'RepRichHudson', 'MarkAmodeiNV2', 'RepDLamborn', 'RepChipRoy', \n",
    "                         'RepJasonSmith', 'RepMikeRogersAL', 'ConawayTX11', 'TXRandy14', 'repkevinhern', \n",
    "                         'RepDonBacon', 'RepMikeJohnson', 'RepAndyHarrisMD', 'RepWebster', 'RepGosar', 'RepMarthaRoby',\n",
    "                         'RepMattGaetz', 'GOPLeader', 'RepRatcliffe', 'HerreraBeutler', 'RepSamGraves', \n",
    "                         'virginiafoxx', 'RepJeffDuncan', 'RobWittman', 'USRepLong', 'KenCalvert', 'RepDanCrenshaw', \n",
    "                         'RepLaHood', 'RepWalberg', 'RepDougCollins', 'RepJoeWilson', 'RepPeteOlson', 'MikeKellyPA', \n",
    "                         'RepGregSteube', 'replouiegohmert', 'RepVanTaylor', 'RepHartzler', 'michaelcburgess',\n",
    "                         'RepThomasMassie', 'RepJohnJoyce', 'RepMarkGreen', 'RepRossSpano', 'DrNealDunnFL2', \n",
    "                         'RepByrne', 'RepBradWenstrup', 'RepChrisSmith', 'RepBillJohnson', 'RepScottPerry', \n",
    "                         'repdonyoung', 'RepGregPence', 'RepBlaine', 'RepAdrianSmith', 'RepTedBudd', 'RepClayHiggins', \n",
    "                         'RepPaulCook', 'RepStefanik', 'RepMichaelGuest', 'RepTimmons', 'RepMcCaul', 'RepBuddyCarter',\n",
    "                         'RepRalphNorman', 'RepMoBrooks','RepSteveChabot', 'RepRWilliams', 'CongMikeSimpson', \n",
    "                          'RepSteveStivers', 'RepAbraham','RepLeeZeldin','RepWalterJones', 'RepHalRogers',\n",
    "                          'RepMcKinley','RepGregMurphy','RepBillFlores', 'RepAndyBiggsAZ','RepFredUpton',\n",
    "                        ]"
   ]
  },
  {
   "cell_type": "code",
   "execution_count": 55,
   "metadata": {},
   "outputs": [],
   "source": [
    "house_other_screennames=['justinamash']"
   ]
  },
  {
   "cell_type": "code",
   "execution_count": 66,
   "metadata": {},
   "outputs": [],
   "source": [
    "pickle.dump(house_rep_screennames, open('../../data/house_rep_screennames.p', 'wb'))"
   ]
  },
  {
   "cell_type": "code",
   "execution_count": 67,
   "metadata": {},
   "outputs": [],
   "source": [
    "pickle.dump(house_dem_screennames, open('../../data/house_dem_screennames.p', 'wb'))"
   ]
  },
  {
   "cell_type": "code",
   "execution_count": 57,
   "metadata": {},
   "outputs": [],
   "source": [
    "# unfound ones, probably former\n",
    "# RepCummings_tweets.p\n",
    "# RepWalterJones_tweets.p\n",
    "# PeterRoskam_tweets.p\n",
    "# Tim_Walz_tweets.p\n",
    "# MarkMeadows_tweets.p\n",
    "# RothfusForPA\n",
    "# PatTiberi\n"
   ]
  },
  {
   "cell_type": "code",
   "execution_count": 58,
   "metadata": {},
   "outputs": [],
   "source": [
    "senate_dem_screennames = ['SenJackReed', 'SenMarkey', 'ChrisMurphyCT', 'ChrisVanHollen', 'SenatorHassan', \\\n",
    "                          'SenBrianSchatz', 'SenSherrodBrown', 'SenSchumer', 'timkaine', 'SenFeinstein',  \\\n",
    "                         'SenJeffMerkley', 'SenStabenow', 'ChrisCoons', 'gillibrandny', 'maziehirono', 'SenDougJones',\\\n",
    "                         'SenWarren', 'SenWhitehouse', 'RonWyden', 'SenJackyRosen', 'SenatorCardin', 'SenKamalaHarris',\\\n",
    "                         'SenAmyKlobuchar', 'SenatorCantwell', 'SenatorLeahy', 'SenDuckworth', 'SenGaryPeters',\\\n",
    "                         'SenSanders', 'SenatorSinema', 'PattyMurray', 'MarkWarner', 'SenatorBaldwin', 'brianschatz',\\\n",
    "                         'SenCortezMasto','SenBlumenthal', 'SenatorMenendez', 'SenatorShaheen', 'SenTinaSmith', \n",
    "                         'MartinHeinrich', 'SenatorTomUdall', 'SenatorCarper', 'SenatorDurbin', 'Sen_JoeManchin',\n",
    "                          'SenatorTester', 'SenatorBennet', 'SenBooker', 'SenBobCasey',\n",
    "                         ]"
   ]
  },
  {
   "cell_type": "code",
   "execution_count": 59,
   "metadata": {},
   "outputs": [],
   "source": [
    "senate_rep_screennames = ['ChuckGrassley', 'SenSasse', 'lisamurkowski', 'SenToomey', 'SteveDaines', 'marcorubio', \\\n",
    "                         'MikeCrapo', 'JimInhofe', 'RoyBlunt', 'SenJohnHoeven', 'SenMcSallyAZ', 'SenDanSullivan',\\\n",
    "                         'SenTedCruz', 'MarshaBlackburn', 'SenJoniErnst', 'SenPatRoberts', 'SenJohnBarrasso', \\\n",
    "                         'RandPaul', 'SenatorBurr', 'SenMikeLee', 'SenatorWicker', 'SenatorRomney', 'SenShelby',\\\n",
    "                         'SenatorTimScott','JohnBoozman', 'LindseyGrahamSC','SenHydeSmith','JohnCornyn',\n",
    "                          'SenatorLankford', 'SenCoryGardner', 'SenRonJohnson', 'SenatorCollins', 'SenBillCassidy',\\\n",
    "                          'SenatorLoeffler','SenToddYoung','SenatorEnzi', 'sendavidperdue','SenKevinCramer',\\\n",
    "                          'SenRickScott', 'SenatorFischer', 'SenCapito', 'SenTomCotton', 'SenAlexander', 'JerryMoran',\\\n",
    "                          'SenatorRounds', 'senrobportman', 'SenJohnThune', 'SenJohnKennedy', 'senatemajldr', \\\n",
    "                          'SenHawleyPress', 'SenatorRisch', 'GrahamBlog', 'SenatorBraun','SenThomTillis',\n",
    "                          \n",
    "                         ]"
   ]
  },
  {
   "cell_type": "code",
   "execution_count": 60,
   "metadata": {},
   "outputs": [],
   "source": [
    "pickle.dump(senate_dem_screennames, open('../../data/senate_dem_screennames.p', 'wb'))"
   ]
  },
  {
   "cell_type": "code",
   "execution_count": 61,
   "metadata": {},
   "outputs": [],
   "source": [
    "pickle.dump(senate_rep_screennames, open('../../data/senate_rep_screennames.p', 'wb'))"
   ]
  },
  {
   "cell_type": "code",
   "execution_count": 62,
   "metadata": {},
   "outputs": [],
   "source": [
    "senate_other_screennames = ['SenAngusKing']"
   ]
  },
  {
   "cell_type": "markdown",
   "metadata": {},
   "source": [
    "## Pull old list, manually update"
   ]
  },
  {
   "cell_type": "code",
   "execution_count": 17,
   "metadata": {},
   "outputs": [],
   "source": [
    "# api = init_api()"
   ]
  },
  {
   "cell_type": "code",
   "execution_count": 18,
   "metadata": {},
   "outputs": [],
   "source": [
    "# senate_dem_screennames = get_list_members(api, 7465836)"
   ]
  },
  {
   "cell_type": "code",
   "execution_count": 13,
   "metadata": {},
   "outputs": [],
   "source": [
    "# senate_rep_screennames = get_list_members(api, 7466072)"
   ]
  },
  {
   "cell_type": "code",
   "execution_count": 21,
   "metadata": {},
   "outputs": [],
   "source": [
    "# house_rep_screennames_api = get_list_members(api, 817470159027929089)"
   ]
  },
  {
   "cell_type": "code",
   "execution_count": 64,
   "metadata": {},
   "outputs": [],
   "source": [
    "# set(house_all_screenname) - set(house_dem_screennames) - set(house_rep_screennames)\n"
   ]
  },
  {
   "cell_type": "code",
   "execution_count": 65,
   "metadata": {},
   "outputs": [],
   "source": [
    "# house_dem_screennames_api = get_list_members(api, 6136726)"
   ]
  },
  {
   "cell_type": "code",
   "execution_count": 46,
   "metadata": {},
   "outputs": [],
   "source": [
    "# for item in list(set(house_dem_screennames_api).intersection(set(house_all_screenname))):\n",
    "#     print(\"'\" + item + \"',\",  end =\" \")"
   ]
  },
  {
   "cell_type": "code",
   "execution_count": null,
   "metadata": {},
   "outputs": [],
   "source": []
  }
 ],
 "metadata": {
  "kernelspec": {
   "display_name": "Python 3",
   "language": "python",
   "name": "python3"
  },
  "language_info": {
   "codemirror_mode": {
    "name": "ipython",
    "version": 3
   },
   "file_extension": ".py",
   "mimetype": "text/x-python",
   "name": "python",
   "nbconvert_exporter": "python",
   "pygments_lexer": "ipython3",
   "version": "3.6.7"
  }
 },
 "nbformat": 4,
 "nbformat_minor": 2
}
