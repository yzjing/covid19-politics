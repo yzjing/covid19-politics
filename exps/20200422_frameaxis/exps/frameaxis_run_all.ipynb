{
 "cells": [
  {
   "cell_type": "code",
   "execution_count": 1,
   "metadata": {},
   "outputs": [],
   "source": [
    "%load_ext autoreload\n",
    "%autoreload 2"
   ]
  },
  {
   "cell_type": "code",
   "execution_count": 33,
   "metadata": {},
   "outputs": [],
   "source": [
    "import sys\n",
    "sys.path.insert(0, '../libs/semaxis')\n",
    "from semaxis import CoreUtil\n",
    "from semaxis import SemAxis\n",
    "import pandas as pd\n",
    "import logging\n",
    "from sklearn.preprocessing import MinMaxScaler\n",
    "from sklearn.cluster import KMeans\n",
    "import matplotlib.pyplot as plt\n",
    "%matplotlib inline\n",
    "import pickle\n",
    "import random\n",
    "import numpy as np\n",
    "import re\n",
    "import glob\n",
    "import os\n",
    "import gc"
   ]
  },
  {
   "cell_type": "code",
   "execution_count": 3,
   "metadata": {},
   "outputs": [],
   "source": [
    "logging.basicConfig(level=logging.INFO,\n",
    "                    format='%(asctime)s %(name)-12s %(levelname)-8s %(message)s',\n",
    "                    datefmt=\"%Y-%m-%d %H:%M:%S\")\n",
    "logger = logging.getLogger(__name__)\n",
    "logger.setLevel(logging.INFO)"
   ]
  },
  {
   "cell_type": "markdown",
   "metadata": {},
   "source": [
    "## Read data"
   ]
  },
  {
   "cell_type": "code",
   "execution_count": 4,
   "metadata": {},
   "outputs": [],
   "source": [
    "dem = pickle.load(open('../../../data/all_tweet_texts_dem.p', 'rb'))\n",
    "rep = pickle.load(open('../../../data/all_tweet_texts_rep.p', 'rb'))"
   ]
  },
  {
   "cell_type": "code",
   "execution_count": 9,
   "metadata": {},
   "outputs": [],
   "source": [
    "moe_1 = pickle.load(open('../../../data/moe_sample_tweets_feb.p', 'rb'))\n",
    "moe_2 = pickle.load(open('../../../data/moe_sample_tweets_mar.p', 'rb'))\n",
    "moe_3 = pickle.load(open('../../../data/moe_sample_tweets_apr.p', 'rb'))\n",
    "moe_4 = pd.read_csv('../../../data/moe_may_to_aug_sample.tsv', sep='\\t',lineterminator='\\n')\n",
    "moe_4.columns = ['unnamed', 'Text', 'Time']\n",
    "moe_4 = moe_4[['Text', 'Time']]\n",
    "bg = pd.concat([moe_1, moe_2, moe_3, moe_4])"
   ]
  },
  {
   "cell_type": "code",
   "execution_count": 10,
   "metadata": {},
   "outputs": [
    {
     "data": {
      "text/html": [
       "<div>\n",
       "<style scoped>\n",
       "    .dataframe tbody tr th:only-of-type {\n",
       "        vertical-align: middle;\n",
       "    }\n",
       "\n",
       "    .dataframe tbody tr th {\n",
       "        vertical-align: top;\n",
       "    }\n",
       "\n",
       "    .dataframe thead th {\n",
       "        text-align: right;\n",
       "    }\n",
       "</style>\n",
       "<table border=\"1\" class=\"dataframe\">\n",
       "  <thead>\n",
       "    <tr style=\"text-align: right;\">\n",
       "      <th></th>\n",
       "      <th>Text</th>\n",
       "      <th>Time</th>\n",
       "    </tr>\n",
       "  </thead>\n",
       "  <tbody>\n",
       "    <tr>\n",
       "      <th>0</th>\n",
       "      <td>RT @tedlieu: If you believe @realDonaldTrump’s...</td>\n",
       "      <td>Sat Feb 29 11:00:48 -0500 2020</td>\n",
       "    </tr>\n",
       "    <tr>\n",
       "      <th>1</th>\n",
       "      <td>No hay #Coronavirus #Curico DESCARTADO https:/...</td>\n",
       "      <td>Sat Feb 29 11:00:48 -0500 2020</td>\n",
       "    </tr>\n",
       "  </tbody>\n",
       "</table>\n",
       "</div>"
      ],
      "text/plain": [
       "                                                Text  \\\n",
       "0  RT @tedlieu: If you believe @realDonaldTrump’s...   \n",
       "1  No hay #Coronavirus #Curico DESCARTADO https:/...   \n",
       "\n",
       "                             Time  \n",
       "0  Sat Feb 29 11:00:48 -0500 2020  \n",
       "1  Sat Feb 29 11:00:48 -0500 2020  "
      ]
     },
     "execution_count": 10,
     "metadata": {},
     "output_type": "execute_result"
    }
   ],
   "source": [
    "bg.head(2)"
   ]
  },
  {
   "cell_type": "code",
   "execution_count": 11,
   "metadata": {},
   "outputs": [],
   "source": [
    "dem['Party'] = 'Dem'\n",
    "rep['Party'] = 'Rep'\n",
    "bg['Party'] = 'Bg'"
   ]
  },
  {
   "cell_type": "code",
   "execution_count": 12,
   "metadata": {},
   "outputs": [],
   "source": [
    "covid_vocab = pickle.load(open('../../../data/all_covid_words.p', 'rb'))"
   ]
  },
  {
   "cell_type": "code",
   "execution_count": 13,
   "metadata": {},
   "outputs": [],
   "source": [
    "big_regex = re.compile('|'.join(map(re.escape, covid_vocab)))"
   ]
  },
  {
   "cell_type": "code",
   "execution_count": 14,
   "metadata": {},
   "outputs": [],
   "source": [
    "dem['Text'] = dem.apply(lambda row: big_regex.sub('covid', row['Text'].lower()), axis=1)\n",
    "rep['Text'] = dem.apply(lambda row: big_regex.sub('covid', row['Text'].lower()), axis=1)\n",
    "bg['Text'] = dem.apply(lambda row: big_regex.sub('covid', row['Text'].lower()), axis=1)"
   ]
  },
  {
   "cell_type": "markdown",
   "metadata": {},
   "source": [
    "###  If using non-covid politician tweets as background"
   ]
  },
  {
   "cell_type": "code",
   "execution_count": 22,
   "metadata": {},
   "outputs": [],
   "source": [
    "# def get_covid_tweets(df):\n",
    "#     all_covid_tweets = []\n",
    "#     all_bg_tweets = []\n",
    "#     for idx, row in df.iterrows():\n",
    "#         try:\n",
    "#             t = row['Text']\n",
    "#             if 'covid' in t or 'coronavirus' in t:\n",
    "#                 all_covid_tweets.append(row)\n",
    "#             else:\n",
    "#                 all_bg_tweets.append(row)\n",
    "#         except Exception as ex:\n",
    "#             continue\n",
    "        \n",
    "#     return pd.DataFrame(all_covid_tweets), pd.DataFrame(all_bg_tweets)"
   ]
  },
  {
   "cell_type": "code",
   "execution_count": 23,
   "metadata": {},
   "outputs": [],
   "source": [
    "# dem_covid, dem_bg = get_covid_tweets(dem)\n",
    "# rep_covid, rep_bg = get_covid_tweets(rep)\n",
    "# bg = pd.concat([dem_bg, rep_bg])\n",
    "# bg['Party'] = 'Bg'"
   ]
  },
  {
   "cell_type": "markdown",
   "metadata": {},
   "source": [
    "### End if"
   ]
  },
  {
   "cell_type": "code",
   "execution_count": 15,
   "metadata": {},
   "outputs": [],
   "source": [
    "df_all = pd.concat([bg, dem, rep])"
   ]
  },
  {
   "cell_type": "code",
   "execution_count": 16,
   "metadata": {},
   "outputs": [
    {
     "data": {
      "text/html": [
       "<div>\n",
       "<style scoped>\n",
       "    .dataframe tbody tr th:only-of-type {\n",
       "        vertical-align: middle;\n",
       "    }\n",
       "\n",
       "    .dataframe tbody tr th {\n",
       "        vertical-align: top;\n",
       "    }\n",
       "\n",
       "    .dataframe thead th {\n",
       "        text-align: right;\n",
       "    }\n",
       "</style>\n",
       "<table border=\"1\" class=\"dataframe\">\n",
       "  <thead>\n",
       "    <tr style=\"text-align: right;\">\n",
       "      <th></th>\n",
       "      <th>Text</th>\n",
       "      <th>Time</th>\n",
       "      <th>Party</th>\n",
       "    </tr>\n",
       "  </thead>\n",
       "  <tbody>\n",
       "    <tr>\n",
       "      <th>0</th>\n",
       "      <td>we had our own bad weather &amp;amp; power outages...</td>\n",
       "      <td>Sat Feb 29 11:00:48 -0500 2020</td>\n",
       "      <td>Bg</td>\n",
       "    </tr>\n",
       "    <tr>\n",
       "      <th>1</th>\n",
       "      <td>rt @agneronha: questions about scams? price go...</td>\n",
       "      <td>Sat Feb 29 11:00:48 -0500 2020</td>\n",
       "      <td>Bg</td>\n",
       "    </tr>\n",
       "  </tbody>\n",
       "</table>\n",
       "</div>"
      ],
      "text/plain": [
       "                                                Text  \\\n",
       "0  we had our own bad weather &amp; power outages...   \n",
       "1  rt @agneronha: questions about scams? price go...   \n",
       "\n",
       "                             Time Party  \n",
       "0  Sat Feb 29 11:00:48 -0500 2020    Bg  \n",
       "1  Sat Feb 29 11:00:48 -0500 2020    Bg  "
      ]
     },
     "execution_count": 16,
     "metadata": {},
     "output_type": "execute_result"
    }
   ],
   "source": [
    "df_all.head(2)"
   ]
  },
  {
   "cell_type": "code",
   "execution_count": 17,
   "metadata": {},
   "outputs": [
    {
     "data": {
      "text/plain": [
       "Bg     837156\n",
       "Dem    134337\n",
       "Rep     85456\n",
       "Name: Party, dtype: int64"
      ]
     },
     "execution_count": 17,
     "metadata": {},
     "output_type": "execute_result"
    }
   ],
   "source": [
    "df_all['Party'].value_counts()"
   ]
  },
  {
   "cell_type": "code",
   "execution_count": 18,
   "metadata": {},
   "outputs": [
    {
     "data": {
      "text/plain": [
       "1056949"
      ]
     },
     "execution_count": 18,
     "metadata": {},
     "output_type": "execute_result"
    }
   ],
   "source": [
    "len(df_all)"
   ]
  },
  {
   "cell_type": "markdown",
   "metadata": {},
   "source": [
    "## Create semaxis object"
   ]
  },
  {
   "cell_type": "code",
   "execution_count": 31,
   "metadata": {},
   "outputs": [],
   "source": [
    "# from gensim.test.utils import datapath, get_tmpfile\n",
    "# from gensim.models import KeyedVectors\n",
    "# from gensim.scripts.glove2word2vec import glove2word2vec\n",
    "# glove_file = '../../data/embeddings/glove.840B.300d.txt'\n",
    "# tmp_file = \"../../data/embeddings/test_word2vec.txt\"\n",
    "# output = glove2word2vec(glove_file, tmp_file)\n"
   ]
  },
  {
   "cell_type": "code",
   "execution_count": 32,
   "metadata": {},
   "outputs": [],
   "source": [
    "# output"
   ]
  },
  {
   "cell_type": "code",
   "execution_count": 19,
   "metadata": {},
   "outputs": [],
   "source": [
    "# %%time\n",
    "# sa = SemAxis(CoreUtil.load_embedding(\"glove/all_glove_gensim_word2vec.txt\", is_binary=False), \n",
    "#                axes_str=CoreUtil.load_wordnet_antonyms_axes())"
   ]
  },
  {
   "cell_type": "code",
   "execution_count": 22,
   "metadata": {},
   "outputs": [],
   "source": [
    "# pickle.dump(sa, open('sa_object.p', 'wb'))"
   ]
  },
  {
   "cell_type": "code",
   "execution_count": 20,
   "metadata": {},
   "outputs": [],
   "source": [
    "sa = pickle.load(open('sa_object.p', 'rb'))"
   ]
  },
  {
   "cell_type": "code",
   "execution_count": 21,
   "metadata": {},
   "outputs": [
    {
     "data": {
      "text/plain": [
       "<semaxis.semaxis.SemAxis at 0x1a26cb6f90>"
      ]
     },
     "execution_count": 21,
     "metadata": {},
     "output_type": "execute_result"
    }
   ],
   "source": [
    "sa"
   ]
  },
  {
   "cell_type": "code",
   "execution_count": 22,
   "metadata": {},
   "outputs": [
    {
     "data": {
      "text/plain": [
       "1367"
      ]
     },
     "execution_count": 22,
     "metadata": {},
     "output_type": "execute_result"
    }
   ],
   "source": [
    "len(sa.axes)"
   ]
  },
  {
   "cell_type": "code",
   "execution_count": 25,
   "metadata": {},
   "outputs": [],
   "source": [
    "df_all = df_all.head(1000)"
   ]
  },
  {
   "cell_type": "markdown",
   "metadata": {},
   "source": [
    "# big table for bias"
   ]
  },
  {
   "cell_type": "code",
   "execution_count": 26,
   "metadata": {},
   "outputs": [
    {
     "name": "stderr",
     "output_type": "stream",
     "text": [
      "2020-08-31 17:12:43 __main__     INFO     0\n"
     ]
    },
    {
     "name": "stdout",
     "output_type": "stream",
     "text": [
      "Bg    1000\n",
      "Name: Party, dtype: int64\n"
     ]
    },
    {
     "name": "stderr",
     "output_type": "stream",
     "text": [
      "/opt/anaconda3/envs/py37/lib/python3.7/site-packages/tensorflow/python/framework/dtypes.py:526: FutureWarning: Passing (type, 1) or '1type' as a synonym of type is deprecated; in a future version of numpy, it will be understood as (type, (1,)) / '(1,)type'.\n",
      "  _np_qint8 = np.dtype([(\"qint8\", np.int8, 1)])\n",
      "/opt/anaconda3/envs/py37/lib/python3.7/site-packages/tensorflow/python/framework/dtypes.py:527: FutureWarning: Passing (type, 1) or '1type' as a synonym of type is deprecated; in a future version of numpy, it will be understood as (type, (1,)) / '(1,)type'.\n",
      "  _np_quint8 = np.dtype([(\"quint8\", np.uint8, 1)])\n",
      "/opt/anaconda3/envs/py37/lib/python3.7/site-packages/tensorflow/python/framework/dtypes.py:528: FutureWarning: Passing (type, 1) or '1type' as a synonym of type is deprecated; in a future version of numpy, it will be understood as (type, (1,)) / '(1,)type'.\n",
      "  _np_qint16 = np.dtype([(\"qint16\", np.int16, 1)])\n",
      "/opt/anaconda3/envs/py37/lib/python3.7/site-packages/tensorflow/python/framework/dtypes.py:529: FutureWarning: Passing (type, 1) or '1type' as a synonym of type is deprecated; in a future version of numpy, it will be understood as (type, (1,)) / '(1,)type'.\n",
      "  _np_quint16 = np.dtype([(\"quint16\", np.uint16, 1)])\n",
      "/opt/anaconda3/envs/py37/lib/python3.7/site-packages/tensorflow/python/framework/dtypes.py:530: FutureWarning: Passing (type, 1) or '1type' as a synonym of type is deprecated; in a future version of numpy, it will be understood as (type, (1,)) / '(1,)type'.\n",
      "  _np_qint32 = np.dtype([(\"qint32\", np.int32, 1)])\n",
      "/opt/anaconda3/envs/py37/lib/python3.7/site-packages/tensorflow/python/framework/dtypes.py:535: FutureWarning: Passing (type, 1) or '1type' as a synonym of type is deprecated; in a future version of numpy, it will be understood as (type, (1,)) / '(1,)type'.\n",
      "  np_resource = np.dtype([(\"resource\", np.ubyte, 1)])\n"
     ]
    }
   ],
   "source": [
    "COLUMNS = [str(c) for c in sorted(sa.axes.keys()) if len(c) == 2]\n",
    "with open(\"big_table_by_average.tsv\", \"w\") as fo_a, open(\"big_table_by_kurtosis.tsv\", \"w\") as fo_k:\n",
    "    fo_a.write(\"party\\ttext\\t{}\\n\".format(\"\\t\".join(COLUMNS)))\n",
    "    fo_k.write(\"party\\ttext\\t{}\\n\".format(\"\\t\".join(COLUMNS)))\n",
    "    print(df_all['Party'].value_counts())\n",
    "    for loop_index, (row_index, row) in enumerate(df_all.iterrows()):\n",
    "        if loop_index % (1000) == 0:\n",
    "            logger.info(loop_index)\n",
    "        try:\n",
    "            _, mean, kurtosis = sa.compute_document_mean_kurtosis_with_tf([row['Text']], min_freq = 1)\n",
    "        except ValueError as ve:\n",
    "#             logger.exception(\"no vocab\")\n",
    "            continue\n",
    "        except:\n",
    "            logger.exception(\"???\")\n",
    "            continue\n",
    "        fo_a.write(\"{}\\t{}\\t{}\\n\".format(row['Party'], row['Text'], \"\\t\".join([str(v) for v in mean])))\n",
    "        fo_k.write(\"{}\\t{}\\t{}\\n\".format(row['Party'], row['Text'], \"\\t\".join([str(v) for v in kurtosis])))\n"
   ]
  },
  {
   "cell_type": "markdown",
   "metadata": {},
   "source": [
    "# big table for intensity"
   ]
  },
  {
   "cell_type": "code",
   "execution_count": 30,
   "metadata": {},
   "outputs": [
    {
     "name": "stderr",
     "output_type": "stream",
     "text": [
      "2020-08-31 17:15:40 __main__     INFO     0\n"
     ]
    },
    {
     "name": "stdout",
     "output_type": "stream",
     "text": [
      "Bg    1000\n",
      "Name: Party, dtype: int64\n"
     ]
    }
   ],
   "source": [
    "COLUMNS = [str(c) for c in sorted(sa.axes.keys()) if len(c) == 2]\n",
    "\n",
    "with open(\"big_table_by_second_moment_with_corpus_mean.tsv\", \"w\") as fo_k:\n",
    "    fo_k.write(\"party\\ttext\\t{}\\n\".format(\"\\t\".join(COLUMNS)))\n",
    "    df_corpus = pd.read_csv(\"big_table_by_average.tsv\", sep=\"\\t\")\n",
    "    df_corpus.dropna(inplace=True)\n",
    "    corpus_mean = np.mean(df_corpus.drop(\n",
    "        columns=[c for c in df_corpus.columns if '(' not in c]).values, axis=0)\n",
    "    print(df_all['Party'].value_counts())\n",
    "    for loop_index, (row_index, row) in enumerate(df_all.iterrows()):\n",
    "        if loop_index % (1000) == 0:\n",
    "            logger.info(loop_index)\n",
    "        try:\n",
    "            sm = sa.compute_document_second_moment_with_tf([row['Text']], corpus_mean, min_freq = 1)  \n",
    "        except ValueError as ve:\n",
    "#             logger.exception(\"no vocab\")\n",
    "            continue\n",
    "        except:\n",
    "            logger.exception(\"???\")\n",
    "            continue\n",
    "        fo_k.write(\"{}\\t{}\\t{}\\n\".format(row['Party'], row['Text'], \"\\t\".join([str(v) for v in sm[0]])))\n",
    "\n"
   ]
  },
  {
   "cell_type": "markdown",
   "metadata": {},
   "source": [
    "## Bootstrap avg"
   ]
  },
  {
   "cell_type": "code",
   "execution_count": 42,
   "metadata": {},
   "outputs": [],
   "source": [
    "df_bias = pd.read_csv('big_table_by_average.tsv', sep='\\t')"
   ]
  },
  {
   "cell_type": "code",
   "execution_count": 44,
   "metadata": {},
   "outputs": [
    {
     "data": {
      "text/html": [
       "<div>\n",
       "<style scoped>\n",
       "    .dataframe tbody tr th:only-of-type {\n",
       "        vertical-align: middle;\n",
       "    }\n",
       "\n",
       "    .dataframe tbody tr th {\n",
       "        vertical-align: top;\n",
       "    }\n",
       "\n",
       "    .dataframe thead th {\n",
       "        text-align: right;\n",
       "    }\n",
       "</style>\n",
       "<table border=\"1\" class=\"dataframe\">\n",
       "  <thead>\n",
       "    <tr style=\"text-align: right;\">\n",
       "      <th></th>\n",
       "      <th>party</th>\n",
       "      <th>text</th>\n",
       "      <th>('abaxial', 'adaxial')</th>\n",
       "      <th>('able', 'unable')</th>\n",
       "      <th>('abnormal', 'normal')</th>\n",
       "      <th>('aboral', 'oral')</th>\n",
       "      <th>('abridged', 'unabridged')</th>\n",
       "      <th>('absent', 'present')</th>\n",
       "      <th>('absolute', 'relative')</th>\n",
       "      <th>('abstemious', 'gluttonous')</th>\n",
       "      <th>...</th>\n",
       "      <th>('unwrinkled', 'wrinkled')</th>\n",
       "      <th>('unwritten', 'written')</th>\n",
       "      <th>('useful', 'useless')</th>\n",
       "      <th>('valuable', 'worthless')</th>\n",
       "      <th>('vernal', 'wintry')</th>\n",
       "      <th>('virtuous', 'wicked')</th>\n",
       "      <th>('waning', 'waxing')</th>\n",
       "      <th>('weightless', 'weighty')</th>\n",
       "      <th>('winged', 'wingless')</th>\n",
       "      <th>('wired', 'wireless')</th>\n",
       "    </tr>\n",
       "  </thead>\n",
       "  <tbody>\n",
       "    <tr>\n",
       "      <th>0</th>\n",
       "      <td>Bg</td>\n",
       "      <td>we had our own bad weather &amp;amp; power outages...</td>\n",
       "      <td>0.022656</td>\n",
       "      <td>-0.051889</td>\n",
       "      <td>0.000475</td>\n",
       "      <td>-0.013127</td>\n",
       "      <td>0.020974</td>\n",
       "      <td>0.033418</td>\n",
       "      <td>0.018463</td>\n",
       "      <td>0.007195</td>\n",
       "      <td>...</td>\n",
       "      <td>0.003468</td>\n",
       "      <td>0.00167</td>\n",
       "      <td>-0.019633</td>\n",
       "      <td>-0.02396</td>\n",
       "      <td>0.02789</td>\n",
       "      <td>0.017726</td>\n",
       "      <td>-0.007187</td>\n",
       "      <td>-0.005524</td>\n",
       "      <td>0.026845</td>\n",
       "      <td>-0.019947</td>\n",
       "    </tr>\n",
       "  </tbody>\n",
       "</table>\n",
       "<p>1 rows × 1369 columns</p>\n",
       "</div>"
      ],
      "text/plain": [
       "  party                                               text  \\\n",
       "0    Bg  we had our own bad weather &amp; power outages...   \n",
       "\n",
       "   ('abaxial', 'adaxial')  ('able', 'unable')  ('abnormal', 'normal')  \\\n",
       "0                0.022656           -0.051889                0.000475   \n",
       "\n",
       "   ('aboral', 'oral')  ('abridged', 'unabridged')  ('absent', 'present')  \\\n",
       "0           -0.013127                    0.020974               0.033418   \n",
       "\n",
       "   ('absolute', 'relative')  ('abstemious', 'gluttonous')  ...  \\\n",
       "0                  0.018463                      0.007195  ...   \n",
       "\n",
       "   ('unwrinkled', 'wrinkled')  ('unwritten', 'written')  \\\n",
       "0                    0.003468                   0.00167   \n",
       "\n",
       "   ('useful', 'useless')  ('valuable', 'worthless')  ('vernal', 'wintry')  \\\n",
       "0              -0.019633                   -0.02396               0.02789   \n",
       "\n",
       "   ('virtuous', 'wicked')  ('waning', 'waxing')  ('weightless', 'weighty')  \\\n",
       "0                0.017726             -0.007187                  -0.005524   \n",
       "\n",
       "   ('winged', 'wingless')  ('wired', 'wireless')  \n",
       "0                0.026845              -0.019947  \n",
       "\n",
       "[1 rows x 1369 columns]"
      ]
     },
     "execution_count": 44,
     "metadata": {},
     "output_type": "execute_result"
    }
   ],
   "source": [
    "df_bias.head(1)"
   ]
  },
  {
   "cell_type": "code",
   "execution_count": 45,
   "metadata": {},
   "outputs": [
    {
     "name": "stderr",
     "output_type": "stream",
     "text": [
      "2020-08-31 17:26:52 __main__     INFO     average\n"
     ]
    },
    {
     "data": {
      "text/plain": [
       "1367"
      ]
     },
     "execution_count": 45,
     "metadata": {},
     "output_type": "execute_result"
    }
   ],
   "source": [
    "N = 1000\n",
    "mode = \"average\"\n",
    "logger.info(mode)\n",
    "try:\n",
    "    os.mkdir(mode)\n",
    "except:\n",
    "    pass\n",
    "\n",
    "# df = pd.read_csv(\"big_table_by_{}.tsv\".format(mode), sep=\"\\t\").dropna()\n",
    "COLUMNS = [c for c in df.columns if '(' in c]\n",
    "len(COLUMNS)"
   ]
  },
  {
   "cell_type": "code",
   "execution_count": 46,
   "metadata": {},
   "outputs": [],
   "source": [
    "df_bias = df_bias[df_bias['party'].isin(['Bg', 'Dem', 'Rep'])]\n",
    "df_bias.dropna(inplace=True)"
   ]
  },
  {
   "cell_type": "code",
   "execution_count": 47,
   "metadata": {
    "scrolled": false
   },
   "outputs": [
    {
     "name": "stderr",
     "output_type": "stream",
     "text": [
      "2020-08-31 17:27:05 __main__     INFO     Bg...\n",
      "2020-08-31 17:27:05 __main__     INFO     0\n",
      "2020-08-31 17:27:06 __main__     INFO     100\n",
      "2020-08-31 17:27:06 __main__     INFO     200\n",
      "2020-08-31 17:27:07 __main__     INFO     300\n",
      "2020-08-31 17:27:08 __main__     INFO     400\n",
      "2020-08-31 17:27:09 __main__     INFO     500\n",
      "2020-08-31 17:27:09 __main__     INFO     600\n",
      "2020-08-31 17:27:10 __main__     INFO     700\n",
      "2020-08-31 17:27:11 __main__     INFO     800\n",
      "2020-08-31 17:27:12 __main__     INFO     900\n"
     ]
    }
   ],
   "source": [
    "for party, a_count in df_bias['party'].value_counts().iteritems():\n",
    "    logger.info(\"{}...\".format(party))\n",
    "    with open(\"{}/bootstrap_{}_average_by_party.tsv\".format(mode, party), \"w\") as fo:\n",
    "        fo.write(\"{}\\n\".format(\"\\t\".join(COLUMNS)))\n",
    "        A = df.drop(columns=[c for c in df.columns if '(' not in c]).values\n",
    "        for i in range(N):\n",
    "            if i % 100 == 0:\n",
    "                logger.info(i)\n",
    "            fmean = np.mean(A[np.random.choice(A.shape[0], a_count, replace=False), :], axis=0)\n",
    "            fo.write(\"{}\\n\".format(\"\\t\".join([str(v) for v in (fmean)])))        \n"
   ]
  },
  {
   "cell_type": "markdown",
   "metadata": {},
   "source": [
    "## Significant axes avg"
   ]
  },
  {
   "cell_type": "code",
   "execution_count": 48,
   "metadata": {},
   "outputs": [
    {
     "name": "stderr",
     "output_type": "stream",
     "text": [
      "2020-08-31 17:27:15 __main__     INFO     Bg...\n"
     ]
    }
   ],
   "source": [
    "N = 1000\n",
    "BOOTSTRAP_TEMPLATE = \"{}/bootstrap_{}_{}_by_party.tsv\"\n",
    "OUT_TEMPLATE = \"{}/significant_axes_{}_{}_by_party.tsv\"\n",
    "OUT_TEMPLATE2 = \"{}/effect_size_significant_axes_{}_{}_by_party.tsv\"\n",
    "\n",
    "for party, a_count in df_bias['party'].value_counts().iteritems():\n",
    "    \n",
    "    results = []        \n",
    "    logger.info(\"{}...\".format(party))\n",
    "    \n",
    "    df_actual = df.query('party==@party')\n",
    "    df_bootstrap = pd.read_csv(BOOTSTRAP_TEMPLATE.format(mode, party, mode), sep=\"\\t\").dropna()\n",
    "\n",
    "    for axis in COLUMNS:\n",
    "        actual = np.mean(df_actual[axis], axis=0)\n",
    "        significance = sum(abs(df_bootstrap[axis]) > abs(actual))/float(N)\n",
    "        results.append([axis, actual-np.mean(df_bootstrap[axis], axis=0), significance])\n",
    "\n",
    "    pd.DataFrame(sorted(results, key=lambda x:x[2]), \n",
    "                 columns = [\"axis\", \"diff_a_b\", \"p\"]\n",
    "                ).to_csv(OUT_TEMPLATE.format(mode, party, mode), sep=\"\\t\", index=False)\n",
    "\n",
    "    pd.DataFrame(sorted(results, key=lambda x:abs(x[1]), reverse=True), \n",
    "         columns = [\"axis\", \"diff_a_b\", \"p\"]\n",
    "        ).query('p <= 0.05').to_csv(OUT_TEMPLATE2.format(mode, party, mode), sep=\"\\t\", index=False)"
   ]
  },
  {
   "cell_type": "markdown",
   "metadata": {},
   "source": [
    "## Bootstrap second moment"
   ]
  },
  {
   "cell_type": "code",
   "execution_count": 49,
   "metadata": {},
   "outputs": [],
   "source": [
    "df_intensity = pd.read_csv('big_table_by_second_moment_with_corpus_mean.tsv', sep='\\t')"
   ]
  },
  {
   "cell_type": "code",
   "execution_count": 50,
   "metadata": {},
   "outputs": [],
   "source": [
    "df_intensity = df_intensity[df_intensity['party'].isin(['Bg', 'Dem', 'Rep'])]\n",
    "df_intensity.dropna(inplace=True)\n"
   ]
  },
  {
   "cell_type": "code",
   "execution_count": 51,
   "metadata": {},
   "outputs": [
    {
     "data": {
      "text/html": [
       "<div>\n",
       "<style scoped>\n",
       "    .dataframe tbody tr th:only-of-type {\n",
       "        vertical-align: middle;\n",
       "    }\n",
       "\n",
       "    .dataframe tbody tr th {\n",
       "        vertical-align: top;\n",
       "    }\n",
       "\n",
       "    .dataframe thead th {\n",
       "        text-align: right;\n",
       "    }\n",
       "</style>\n",
       "<table border=\"1\" class=\"dataframe\">\n",
       "  <thead>\n",
       "    <tr style=\"text-align: right;\">\n",
       "      <th></th>\n",
       "      <th>party</th>\n",
       "      <th>text</th>\n",
       "      <th>('abaxial', 'adaxial')</th>\n",
       "      <th>('able', 'unable')</th>\n",
       "      <th>('abnormal', 'normal')</th>\n",
       "      <th>('aboral', 'oral')</th>\n",
       "      <th>('abridged', 'unabridged')</th>\n",
       "      <th>('absent', 'present')</th>\n",
       "      <th>('absolute', 'relative')</th>\n",
       "      <th>('abstemious', 'gluttonous')</th>\n",
       "      <th>...</th>\n",
       "      <th>('unwrinkled', 'wrinkled')</th>\n",
       "      <th>('unwritten', 'written')</th>\n",
       "      <th>('useful', 'useless')</th>\n",
       "      <th>('valuable', 'worthless')</th>\n",
       "      <th>('vernal', 'wintry')</th>\n",
       "      <th>('virtuous', 'wicked')</th>\n",
       "      <th>('waning', 'waxing')</th>\n",
       "      <th>('weightless', 'weighty')</th>\n",
       "      <th>('winged', 'wingless')</th>\n",
       "      <th>('wired', 'wireless')</th>\n",
       "    </tr>\n",
       "  </thead>\n",
       "  <tbody>\n",
       "    <tr>\n",
       "      <th>0</th>\n",
       "      <td>Bg</td>\n",
       "      <td>we had our own bad weather &amp;amp; power outages...</td>\n",
       "      <td>0.001675</td>\n",
       "      <td>0.005763</td>\n",
       "      <td>0.007386</td>\n",
       "      <td>0.004856</td>\n",
       "      <td>0.003896</td>\n",
       "      <td>0.006247</td>\n",
       "      <td>0.002556</td>\n",
       "      <td>0.002861</td>\n",
       "      <td>...</td>\n",
       "      <td>0.001968</td>\n",
       "      <td>0.005208</td>\n",
       "      <td>0.001898</td>\n",
       "      <td>0.003583</td>\n",
       "      <td>0.001832</td>\n",
       "      <td>0.006001</td>\n",
       "      <td>0.003959</td>\n",
       "      <td>0.003805</td>\n",
       "      <td>0.00401</td>\n",
       "      <td>0.004992</td>\n",
       "    </tr>\n",
       "  </tbody>\n",
       "</table>\n",
       "<p>1 rows × 1369 columns</p>\n",
       "</div>"
      ],
      "text/plain": [
       "  party                                               text  \\\n",
       "0    Bg  we had our own bad weather &amp; power outages...   \n",
       "\n",
       "   ('abaxial', 'adaxial')  ('able', 'unable')  ('abnormal', 'normal')  \\\n",
       "0                0.001675            0.005763                0.007386   \n",
       "\n",
       "   ('aboral', 'oral')  ('abridged', 'unabridged')  ('absent', 'present')  \\\n",
       "0            0.004856                    0.003896               0.006247   \n",
       "\n",
       "   ('absolute', 'relative')  ('abstemious', 'gluttonous')  ...  \\\n",
       "0                  0.002556                      0.002861  ...   \n",
       "\n",
       "   ('unwrinkled', 'wrinkled')  ('unwritten', 'written')  \\\n",
       "0                    0.001968                  0.005208   \n",
       "\n",
       "   ('useful', 'useless')  ('valuable', 'worthless')  ('vernal', 'wintry')  \\\n",
       "0               0.001898                   0.003583              0.001832   \n",
       "\n",
       "   ('virtuous', 'wicked')  ('waning', 'waxing')  ('weightless', 'weighty')  \\\n",
       "0                0.006001              0.003959                   0.003805   \n",
       "\n",
       "   ('winged', 'wingless')  ('wired', 'wireless')  \n",
       "0                 0.00401               0.004992  \n",
       "\n",
       "[1 rows x 1369 columns]"
      ]
     },
     "execution_count": 51,
     "metadata": {},
     "output_type": "execute_result"
    }
   ],
   "source": [
    "df_intensity.head(1)"
   ]
  },
  {
   "cell_type": "code",
   "execution_count": 52,
   "metadata": {},
   "outputs": [
    {
     "name": "stderr",
     "output_type": "stream",
     "text": [
      "2020-08-31 17:28:02 __main__     INFO     second_moment\n"
     ]
    },
    {
     "data": {
      "text/plain": [
       "1367"
      ]
     },
     "execution_count": 52,
     "metadata": {},
     "output_type": "execute_result"
    }
   ],
   "source": [
    "N = 1000\n",
    "mode = \"second_moment\"\n",
    "logger.info(mode)\n",
    "try:\n",
    "    os.mkdir(mode)\n",
    "except:\n",
    "    pass\n",
    "\n",
    "COLUMNS = [c for c in df_intensity.columns if '(' in c]\n",
    "len(COLUMNS)"
   ]
  },
  {
   "cell_type": "code",
   "execution_count": 53,
   "metadata": {
    "scrolled": true
   },
   "outputs": [
    {
     "name": "stderr",
     "output_type": "stream",
     "text": [
      "2020-08-31 17:31:13 __main__     INFO     Bg...\n",
      "2020-08-31 17:31:13 __main__     INFO     0\n",
      "2020-08-31 17:31:14 __main__     INFO     100\n",
      "2020-08-31 17:31:15 __main__     INFO     200\n",
      "2020-08-31 17:31:15 __main__     INFO     300\n",
      "2020-08-31 17:31:16 __main__     INFO     400\n",
      "2020-08-31 17:31:17 __main__     INFO     500\n",
      "2020-08-31 17:31:18 __main__     INFO     600\n",
      "2020-08-31 17:31:19 __main__     INFO     700\n",
      "2020-08-31 17:31:19 __main__     INFO     800\n",
      "2020-08-31 17:31:20 __main__     INFO     900\n"
     ]
    }
   ],
   "source": [
    "for party, a_count in df['party'].value_counts().iteritems():\n",
    "    logger.info(\"{}...\".format(party))\n",
    "    with open(\"{}/bootstrap_{}_second_moment_with_corpus_mean_by_party.tsv\".format(mode, party), \"w\") as fo:\n",
    "        fo.write(\"{}\\n\".format(\"\\t\".join(COLUMNS)))\n",
    "        A = df.drop(columns=[c for c in df.columns if '(' not in c]).values\n",
    "\n",
    "        for i in range(N):\n",
    "            if i % 100 == 0:\n",
    "                logger.info(i)\n",
    "            fmean = np.mean(A[np.random.choice(A.shape[0], a_count, replace=False), :], axis=0)\n",
    "            fo.write(\"{}\\n\".format(\"\\t\".join([str(v) for v in (fmean)])))        "
   ]
  },
  {
   "cell_type": "markdown",
   "metadata": {},
   "source": [
    "## Significant axes second moment"
   ]
  },
  {
   "cell_type": "code",
   "execution_count": 54,
   "metadata": {},
   "outputs": [
    {
     "name": "stderr",
     "output_type": "stream",
     "text": [
      "2020-08-31 17:32:38 __main__     INFO     Bg...\n"
     ]
    }
   ],
   "source": [
    "N = 1000\n",
    "BOOTSTRAP_TEMPLATE = \"{}/bootstrap_{}_second_moment_with_corpus_mean_by_party.tsv\"\n",
    "OUT_TEMPLATE = \"{}/significant_axes_{}_second_moment_with_corpus_mean_by_party.tsv\"\n",
    "OUT_TEMPLATE2 = \"{}/effect_size_significant_axes_{}_second_moment_with_corpus_mean_by_party.tsv\"\n",
    "\n",
    "for party, a_count in df['party'].value_counts().iteritems():\n",
    "\n",
    "    results = []        \n",
    "    logger.info(\"{}...\".format(party))\n",
    "    \n",
    "    df_actual = df.query('party==@party')\n",
    "    df_bootstrap = pd.read_csv(BOOTSTRAP_TEMPLATE.format(mode, party), sep=\"\\t\").dropna()\n",
    "    for axis in COLUMNS:\n",
    "        actual = np.mean(df_actual[axis], axis=0)\n",
    "        significance = sum(abs(df_bootstrap[axis]) > abs(actual))/float(N)\n",
    "        results.append([axis, actual-np.mean(df_bootstrap[axis], axis=0), significance])\n",
    "\n",
    "    pd.DataFrame(sorted(results, key=lambda x:x[2]), \n",
    "                 columns = [\"axis\", \"diff_a_b\", \"p\"]\n",
    "                ).to_csv(OUT_TEMPLATE.format(mode, party), sep=\"\\t\", index=False)\n",
    "\n",
    "    pd.DataFrame(sorted(results, key=lambda x:abs(x[1]), reverse=True), \n",
    "         columns = [\"axis\", \"diff_a_b\", \"p\"]\n",
    "        ).query('p <= 0.05').to_csv(OUT_TEMPLATE2.format(mode, party), sep=\"\\t\", index=False)"
   ]
  },
  {
   "cell_type": "code",
   "execution_count": null,
   "metadata": {},
   "outputs": [],
   "source": []
  }
 ],
 "metadata": {
  "kernel_info": {
   "name": "python3"
  },
  "kernelspec": {
   "display_name": "Python 3",
   "language": "python",
   "name": "python3"
  },
  "language_info": {
   "codemirror_mode": {
    "name": "ipython",
    "version": 3
   },
   "file_extension": ".py",
   "mimetype": "text/x-python",
   "name": "python",
   "nbconvert_exporter": "python",
   "pygments_lexer": "ipython3",
   "version": "3.7.7"
  },
  "nteract": {
   "version": "0.15.0"
  }
 },
 "nbformat": 4,
 "nbformat_minor": 4
}
