{
 "cells": [
  {
   "cell_type": "code",
   "execution_count": 1,
   "metadata": {},
   "outputs": [],
   "source": [
    "import pandas as pd\n",
    "import matplotlib.pyplot as plt\n",
    "%matplotlib inline\n",
    "import numpy as np\n",
    "from adjustText import adjust_text\n",
    "import sys\n",
    "sys.path.insert(0, '../libs/semaxis/')\n",
    "from semaxis import CoreUtil\n",
    "from semaxis import SemAxis\n",
    "import pandas as pd\n",
    "import logging\n",
    "import pickle\n",
    "import numpy as np\n",
    "# import spacy\n",
    "import string\n",
    "string.punctuation += '➡•’…'\n",
    "from collections import Counter\n",
    "import csv"
   ]
  },
  {
   "cell_type": "code",
   "execution_count": 2,
   "metadata": {},
   "outputs": [],
   "source": [
    "df_intensity_rep = pd.read_csv('second_moment/effect_size_significant_axes_Rep_second_moment_with_corpus_mean_by_party.tsv', sep='\\t')\n",
    "df_intensity_rep.columns = ['axis', 'intens_val_rep', 'intens_p_rep']"
   ]
  },
  {
   "cell_type": "code",
   "execution_count": 3,
   "metadata": {},
   "outputs": [
    {
     "data": {
      "text/html": [
       "<div>\n",
       "<style scoped>\n",
       "    .dataframe tbody tr th:only-of-type {\n",
       "        vertical-align: middle;\n",
       "    }\n",
       "\n",
       "    .dataframe tbody tr th {\n",
       "        vertical-align: top;\n",
       "    }\n",
       "\n",
       "    .dataframe thead th {\n",
       "        text-align: right;\n",
       "    }\n",
       "</style>\n",
       "<table border=\"1\" class=\"dataframe\">\n",
       "  <thead>\n",
       "    <tr style=\"text-align: right;\">\n",
       "      <th></th>\n",
       "      <th>axis</th>\n",
       "      <th>intens_val_rep</th>\n",
       "      <th>intens_p_rep</th>\n",
       "    </tr>\n",
       "  </thead>\n",
       "  <tbody>\n",
       "    <tr>\n",
       "      <th>0</th>\n",
       "      <td>('new', 'worn')</td>\n",
       "      <td>0.005388</td>\n",
       "      <td>0.0</td>\n",
       "    </tr>\n",
       "    <tr>\n",
       "      <th>1</th>\n",
       "      <td>('direct', 'indirect')</td>\n",
       "      <td>0.005168</td>\n",
       "      <td>0.0</td>\n",
       "    </tr>\n",
       "  </tbody>\n",
       "</table>\n",
       "</div>"
      ],
      "text/plain": [
       "                     axis  intens_val_rep  intens_p_rep\n",
       "0         ('new', 'worn')        0.005388           0.0\n",
       "1  ('direct', 'indirect')        0.005168           0.0"
      ]
     },
     "execution_count": 3,
     "metadata": {},
     "output_type": "execute_result"
    }
   ],
   "source": [
    "df_intensity_rep.head(2)"
   ]
  },
  {
   "cell_type": "code",
   "execution_count": 4,
   "metadata": {},
   "outputs": [
    {
     "data": {
      "text/plain": [
       "345"
      ]
     },
     "execution_count": 4,
     "metadata": {},
     "output_type": "execute_result"
    }
   ],
   "source": [
    "len(df_intensity_rep)"
   ]
  },
  {
   "cell_type": "code",
   "execution_count": 5,
   "metadata": {},
   "outputs": [],
   "source": [
    "df_intensity_dem = pd.read_csv('second_moment/effect_size_significant_axes_Dem_second_moment_with_corpus_mean_by_party.tsv', sep='\\t')\n",
    "df_intensity_dem.columns = ['axis', 'intens_val_dem', 'intens_p_dem']"
   ]
  },
  {
   "cell_type": "code",
   "execution_count": 6,
   "metadata": {},
   "outputs": [
    {
     "data": {
      "text/plain": [
       "377"
      ]
     },
     "execution_count": 6,
     "metadata": {},
     "output_type": "execute_result"
    }
   ],
   "source": [
    "len(df_intensity_dem)"
   ]
  },
  {
   "cell_type": "code",
   "execution_count": 7,
   "metadata": {},
   "outputs": [],
   "source": [
    "df_bias_rep = pd.read_csv('average/effect_size_significant_axes_Rep_average_by_party.tsv', sep='\\t')\n",
    "df_bias_rep.columns = ['axis', 'bias_val_rep', 'bias_p_rep']"
   ]
  },
  {
   "cell_type": "code",
   "execution_count": 8,
   "metadata": {},
   "outputs": [
    {
     "data": {
      "text/plain": [
       "1084"
      ]
     },
     "execution_count": 8,
     "metadata": {},
     "output_type": "execute_result"
    }
   ],
   "source": [
    "len(df_bias_rep)"
   ]
  },
  {
   "cell_type": "code",
   "execution_count": 9,
   "metadata": {},
   "outputs": [],
   "source": [
    "df_bias_dem = pd.read_csv('average/effect_size_significant_axes_Dem_average_by_party.tsv', sep='\\t')\n",
    "df_bias_dem.columns = ['axis', 'bias_val_dem', 'bias_p_dem']"
   ]
  },
  {
   "cell_type": "code",
   "execution_count": 10,
   "metadata": {},
   "outputs": [
    {
     "data": {
      "text/plain": [
       "1099"
      ]
     },
     "execution_count": 10,
     "metadata": {},
     "output_type": "execute_result"
    }
   ],
   "source": [
    "len(df_bias_dem)"
   ]
  },
  {
   "cell_type": "code",
   "execution_count": 11,
   "metadata": {},
   "outputs": [],
   "source": [
    "df_intensity_trump = pd.read_csv('second_moment/effect_size_significant_axes_Trump_second_moment_with_corpus_mean_by_party.tsv', sep='\\t')\n",
    "df_intensity_trump.columns = ['axis', 'intens_val_trump', 'intens_p_trump']"
   ]
  },
  {
   "cell_type": "code",
   "execution_count": 12,
   "metadata": {},
   "outputs": [
    {
     "data": {
      "text/plain": [
       "256"
      ]
     },
     "execution_count": 12,
     "metadata": {},
     "output_type": "execute_result"
    }
   ],
   "source": [
    "len(df_intensity_trump)"
   ]
  },
  {
   "cell_type": "code",
   "execution_count": 13,
   "metadata": {},
   "outputs": [],
   "source": [
    "df_bias_trump = pd.read_csv('average/effect_size_significant_axes_Trump_average_by_party.tsv', sep='\\t')\n",
    "df_bias_trump.columns = ['axis', 'bias_val_trump', 'bias_p_trump']"
   ]
  },
  {
   "cell_type": "code",
   "execution_count": 14,
   "metadata": {},
   "outputs": [
    {
     "data": {
      "text/plain": [
       "224"
      ]
     },
     "execution_count": 14,
     "metadata": {},
     "output_type": "execute_result"
    }
   ],
   "source": [
    "len(df_bias_trump)"
   ]
  },
  {
   "cell_type": "markdown",
   "metadata": {},
   "source": [
    "## sort by difference in intensity"
   ]
  },
  {
   "cell_type": "code",
   "execution_count": 15,
   "metadata": {},
   "outputs": [],
   "source": [
    "df_intensity = pd.merge(df_intensity_dem, df_intensity_rep, on='axis', how='inner')"
   ]
  },
  {
   "cell_type": "code",
   "execution_count": 16,
   "metadata": {},
   "outputs": [],
   "source": [
    "df_intensity = df_intensity.fillna(0)"
   ]
  },
  {
   "cell_type": "code",
   "execution_count": 17,
   "metadata": {},
   "outputs": [
    {
     "data": {
      "text/html": [
       "<div>\n",
       "<style scoped>\n",
       "    .dataframe tbody tr th:only-of-type {\n",
       "        vertical-align: middle;\n",
       "    }\n",
       "\n",
       "    .dataframe tbody tr th {\n",
       "        vertical-align: top;\n",
       "    }\n",
       "\n",
       "    .dataframe thead th {\n",
       "        text-align: right;\n",
       "    }\n",
       "</style>\n",
       "<table border=\"1\" class=\"dataframe\">\n",
       "  <thead>\n",
       "    <tr style=\"text-align: right;\">\n",
       "      <th></th>\n",
       "      <th>axis</th>\n",
       "      <th>intens_val_dem</th>\n",
       "      <th>intens_p_dem</th>\n",
       "      <th>intens_val_rep</th>\n",
       "      <th>intens_p_rep</th>\n",
       "    </tr>\n",
       "  </thead>\n",
       "  <tbody>\n",
       "    <tr>\n",
       "      <th>0</th>\n",
       "      <td>('new', 'worn')</td>\n",
       "      <td>0.005589</td>\n",
       "      <td>0.0</td>\n",
       "      <td>0.005388</td>\n",
       "      <td>0.0</td>\n",
       "    </tr>\n",
       "    <tr>\n",
       "      <th>1</th>\n",
       "      <td>('direct', 'indirect')</td>\n",
       "      <td>0.005541</td>\n",
       "      <td>0.0</td>\n",
       "      <td>0.005168</td>\n",
       "      <td>0.0</td>\n",
       "    </tr>\n",
       "    <tr>\n",
       "      <th>2</th>\n",
       "      <td>('financial', 'nonfinancial')</td>\n",
       "      <td>0.005476</td>\n",
       "      <td>0.0</td>\n",
       "      <td>0.004911</td>\n",
       "      <td>0.0</td>\n",
       "    </tr>\n",
       "    <tr>\n",
       "      <th>3</th>\n",
       "      <td>('available', 'unavailable')</td>\n",
       "      <td>0.004402</td>\n",
       "      <td>0.0</td>\n",
       "      <td>0.003688</td>\n",
       "      <td>0.0</td>\n",
       "    </tr>\n",
       "    <tr>\n",
       "      <th>4</th>\n",
       "      <td>('reported', 'unreported')</td>\n",
       "      <td>0.004087</td>\n",
       "      <td>0.0</td>\n",
       "      <td>0.003781</td>\n",
       "      <td>0.0</td>\n",
       "    </tr>\n",
       "  </tbody>\n",
       "</table>\n",
       "</div>"
      ],
      "text/plain": [
       "                            axis  intens_val_dem  intens_p_dem  \\\n",
       "0                ('new', 'worn')        0.005589           0.0   \n",
       "1         ('direct', 'indirect')        0.005541           0.0   \n",
       "2  ('financial', 'nonfinancial')        0.005476           0.0   \n",
       "3   ('available', 'unavailable')        0.004402           0.0   \n",
       "4     ('reported', 'unreported')        0.004087           0.0   \n",
       "\n",
       "   intens_val_rep  intens_p_rep  \n",
       "0        0.005388           0.0  \n",
       "1        0.005168           0.0  \n",
       "2        0.004911           0.0  \n",
       "3        0.003688           0.0  \n",
       "4        0.003781           0.0  "
      ]
     },
     "execution_count": 17,
     "metadata": {},
     "output_type": "execute_result"
    }
   ],
   "source": [
    "df_intensity.head()"
   ]
  },
  {
   "cell_type": "code",
   "execution_count": 18,
   "metadata": {},
   "outputs": [],
   "source": [
    "df_intensity['diff_dem_rep'] = df_intensity['intens_val_dem'] - df_intensity['intens_val_rep']\n",
    "df_intensity['diff_rep_dem'] = df_intensity['intens_val_rep'] - df_intensity['intens_val_dem']"
   ]
  },
  {
   "cell_type": "code",
   "execution_count": 19,
   "metadata": {},
   "outputs": [],
   "source": [
    "df_all = pd.merge(df_intensity, df_bias_dem, on='axis', how='inner')"
   ]
  },
  {
   "cell_type": "code",
   "execution_count": 20,
   "metadata": {},
   "outputs": [],
   "source": [
    "df_all = pd.merge(df_all, df_bias_rep, on='axis', how='inner')"
   ]
  },
  {
   "cell_type": "code",
   "execution_count": 21,
   "metadata": {},
   "outputs": [
    {
     "data": {
      "text/plain": [
       "(311, 320, 1099)"
      ]
     },
     "execution_count": 21,
     "metadata": {},
     "output_type": "execute_result"
    }
   ],
   "source": [
    "len(df_all), len(df_intensity), len(df_bias_dem)"
   ]
  },
  {
   "cell_type": "code",
   "execution_count": 22,
   "metadata": {},
   "outputs": [
    {
     "data": {
      "text/html": [
       "<div>\n",
       "<style scoped>\n",
       "    .dataframe tbody tr th:only-of-type {\n",
       "        vertical-align: middle;\n",
       "    }\n",
       "\n",
       "    .dataframe tbody tr th {\n",
       "        vertical-align: top;\n",
       "    }\n",
       "\n",
       "    .dataframe thead th {\n",
       "        text-align: right;\n",
       "    }\n",
       "</style>\n",
       "<table border=\"1\" class=\"dataframe\">\n",
       "  <thead>\n",
       "    <tr style=\"text-align: right;\">\n",
       "      <th></th>\n",
       "      <th>axis</th>\n",
       "      <th>intens_val_dem</th>\n",
       "      <th>intens_p_dem</th>\n",
       "      <th>intens_val_rep</th>\n",
       "      <th>intens_p_rep</th>\n",
       "      <th>diff_dem_rep</th>\n",
       "      <th>diff_rep_dem</th>\n",
       "      <th>bias_val_dem</th>\n",
       "      <th>bias_p_dem</th>\n",
       "      <th>bias_val_rep</th>\n",
       "      <th>bias_p_rep</th>\n",
       "    </tr>\n",
       "  </thead>\n",
       "  <tbody>\n",
       "    <tr>\n",
       "      <th>0</th>\n",
       "      <td>('new', 'worn')</td>\n",
       "      <td>0.005589</td>\n",
       "      <td>0.0</td>\n",
       "      <td>0.005388</td>\n",
       "      <td>0.0</td>\n",
       "      <td>0.000201</td>\n",
       "      <td>-0.000201</td>\n",
       "      <td>-0.047521</td>\n",
       "      <td>0.0</td>\n",
       "      <td>-0.046950</td>\n",
       "      <td>0.0</td>\n",
       "    </tr>\n",
       "    <tr>\n",
       "      <th>1</th>\n",
       "      <td>('direct', 'indirect')</td>\n",
       "      <td>0.005541</td>\n",
       "      <td>0.0</td>\n",
       "      <td>0.005168</td>\n",
       "      <td>0.0</td>\n",
       "      <td>0.000373</td>\n",
       "      <td>-0.000373</td>\n",
       "      <td>-0.047922</td>\n",
       "      <td>0.0</td>\n",
       "      <td>-0.048307</td>\n",
       "      <td>0.0</td>\n",
       "    </tr>\n",
       "    <tr>\n",
       "      <th>2</th>\n",
       "      <td>('financial', 'nonfinancial')</td>\n",
       "      <td>0.005476</td>\n",
       "      <td>0.0</td>\n",
       "      <td>0.004911</td>\n",
       "      <td>0.0</td>\n",
       "      <td>0.000564</td>\n",
       "      <td>-0.000564</td>\n",
       "      <td>-0.041128</td>\n",
       "      <td>0.0</td>\n",
       "      <td>-0.036633</td>\n",
       "      <td>0.0</td>\n",
       "    </tr>\n",
       "    <tr>\n",
       "      <th>3</th>\n",
       "      <td>('available', 'unavailable')</td>\n",
       "      <td>0.004402</td>\n",
       "      <td>0.0</td>\n",
       "      <td>0.003688</td>\n",
       "      <td>0.0</td>\n",
       "      <td>0.000713</td>\n",
       "      <td>-0.000713</td>\n",
       "      <td>-0.042062</td>\n",
       "      <td>0.0</td>\n",
       "      <td>-0.040350</td>\n",
       "      <td>0.0</td>\n",
       "    </tr>\n",
       "    <tr>\n",
       "      <th>4</th>\n",
       "      <td>('reported', 'unreported')</td>\n",
       "      <td>0.004087</td>\n",
       "      <td>0.0</td>\n",
       "      <td>0.003781</td>\n",
       "      <td>0.0</td>\n",
       "      <td>0.000307</td>\n",
       "      <td>-0.000307</td>\n",
       "      <td>-0.028256</td>\n",
       "      <td>0.0</td>\n",
       "      <td>-0.027747</td>\n",
       "      <td>0.0</td>\n",
       "    </tr>\n",
       "  </tbody>\n",
       "</table>\n",
       "</div>"
      ],
      "text/plain": [
       "                            axis  intens_val_dem  intens_p_dem  \\\n",
       "0                ('new', 'worn')        0.005589           0.0   \n",
       "1         ('direct', 'indirect')        0.005541           0.0   \n",
       "2  ('financial', 'nonfinancial')        0.005476           0.0   \n",
       "3   ('available', 'unavailable')        0.004402           0.0   \n",
       "4     ('reported', 'unreported')        0.004087           0.0   \n",
       "\n",
       "   intens_val_rep  intens_p_rep  diff_dem_rep  diff_rep_dem  bias_val_dem  \\\n",
       "0        0.005388           0.0      0.000201     -0.000201     -0.047521   \n",
       "1        0.005168           0.0      0.000373     -0.000373     -0.047922   \n",
       "2        0.004911           0.0      0.000564     -0.000564     -0.041128   \n",
       "3        0.003688           0.0      0.000713     -0.000713     -0.042062   \n",
       "4        0.003781           0.0      0.000307     -0.000307     -0.028256   \n",
       "\n",
       "   bias_p_dem  bias_val_rep  bias_p_rep  \n",
       "0         0.0     -0.046950         0.0  \n",
       "1         0.0     -0.048307         0.0  \n",
       "2         0.0     -0.036633         0.0  \n",
       "3         0.0     -0.040350         0.0  \n",
       "4         0.0     -0.027747         0.0  "
      ]
     },
     "execution_count": 22,
     "metadata": {},
     "output_type": "execute_result"
    }
   ],
   "source": [
    "df_all.head()"
   ]
  },
  {
   "cell_type": "code",
   "execution_count": 23,
   "metadata": {},
   "outputs": [
    {
     "data": {
      "text/html": [
       "<div>\n",
       "<style scoped>\n",
       "    .dataframe tbody tr th:only-of-type {\n",
       "        vertical-align: middle;\n",
       "    }\n",
       "\n",
       "    .dataframe tbody tr th {\n",
       "        vertical-align: top;\n",
       "    }\n",
       "\n",
       "    .dataframe thead th {\n",
       "        text-align: right;\n",
       "    }\n",
       "</style>\n",
       "<table border=\"1\" class=\"dataframe\">\n",
       "  <thead>\n",
       "    <tr style=\"text-align: right;\">\n",
       "      <th></th>\n",
       "      <th>axis</th>\n",
       "      <th>intens_val_dem</th>\n",
       "      <th>intens_p_dem</th>\n",
       "      <th>intens_val_rep</th>\n",
       "      <th>intens_p_rep</th>\n",
       "      <th>diff_dem_rep</th>\n",
       "      <th>diff_rep_dem</th>\n",
       "      <th>bias_val_dem</th>\n",
       "      <th>bias_p_dem</th>\n",
       "      <th>bias_val_rep</th>\n",
       "      <th>bias_p_rep</th>\n",
       "    </tr>\n",
       "  </thead>\n",
       "  <tbody>\n",
       "    <tr>\n",
       "      <th>5</th>\n",
       "      <td>('bound', 'free')</td>\n",
       "      <td>0.004022</td>\n",
       "      <td>0.0</td>\n",
       "      <td>0.002828</td>\n",
       "      <td>0.000</td>\n",
       "      <td>0.001194</td>\n",
       "      <td>-0.001194</td>\n",
       "      <td>0.037947</td>\n",
       "      <td>0.0</td>\n",
       "      <td>0.030385</td>\n",
       "      <td>0.0</td>\n",
       "    </tr>\n",
       "    <tr>\n",
       "      <th>14</th>\n",
       "      <td>('private', 'public')</td>\n",
       "      <td>0.002835</td>\n",
       "      <td>0.0</td>\n",
       "      <td>0.001969</td>\n",
       "      <td>0.000</td>\n",
       "      <td>0.000865</td>\n",
       "      <td>-0.000865</td>\n",
       "      <td>0.032612</td>\n",
       "      <td>0.0</td>\n",
       "      <td>0.024422</td>\n",
       "      <td>0.0</td>\n",
       "    </tr>\n",
       "    <tr>\n",
       "      <th>39</th>\n",
       "      <td>('paid', 'unpaid')</td>\n",
       "      <td>0.001558</td>\n",
       "      <td>0.0</td>\n",
       "      <td>0.000814</td>\n",
       "      <td>0.000</td>\n",
       "      <td>0.000744</td>\n",
       "      <td>-0.000744</td>\n",
       "      <td>-0.022331</td>\n",
       "      <td>0.0</td>\n",
       "      <td>-0.017962</td>\n",
       "      <td>0.0</td>\n",
       "    </tr>\n",
       "    <tr>\n",
       "      <th>3</th>\n",
       "      <td>('available', 'unavailable')</td>\n",
       "      <td>0.004402</td>\n",
       "      <td>0.0</td>\n",
       "      <td>0.003688</td>\n",
       "      <td>0.000</td>\n",
       "      <td>0.000713</td>\n",
       "      <td>-0.000713</td>\n",
       "      <td>-0.042062</td>\n",
       "      <td>0.0</td>\n",
       "      <td>-0.040350</td>\n",
       "      <td>0.0</td>\n",
       "    </tr>\n",
       "    <tr>\n",
       "      <th>22</th>\n",
       "      <td>('dead', 'live')</td>\n",
       "      <td>0.002138</td>\n",
       "      <td>0.0</td>\n",
       "      <td>0.001427</td>\n",
       "      <td>0.000</td>\n",
       "      <td>0.000711</td>\n",
       "      <td>-0.000711</td>\n",
       "      <td>0.030332</td>\n",
       "      <td>0.0</td>\n",
       "      <td>0.028162</td>\n",
       "      <td>0.0</td>\n",
       "    </tr>\n",
       "    <tr>\n",
       "      <th>35</th>\n",
       "      <td>('live', 'recorded')</td>\n",
       "      <td>0.001657</td>\n",
       "      <td>0.0</td>\n",
       "      <td>0.001027</td>\n",
       "      <td>0.000</td>\n",
       "      <td>0.000630</td>\n",
       "      <td>-0.000630</td>\n",
       "      <td>-0.027470</td>\n",
       "      <td>0.0</td>\n",
       "      <td>-0.024651</td>\n",
       "      <td>0.0</td>\n",
       "    </tr>\n",
       "    <tr>\n",
       "      <th>2</th>\n",
       "      <td>('financial', 'nonfinancial')</td>\n",
       "      <td>0.005476</td>\n",
       "      <td>0.0</td>\n",
       "      <td>0.004911</td>\n",
       "      <td>0.000</td>\n",
       "      <td>0.000564</td>\n",
       "      <td>-0.000564</td>\n",
       "      <td>-0.041128</td>\n",
       "      <td>0.0</td>\n",
       "      <td>-0.036633</td>\n",
       "      <td>0.0</td>\n",
       "    </tr>\n",
       "    <tr>\n",
       "      <th>12</th>\n",
       "      <td>('critical', 'noncritical')</td>\n",
       "      <td>0.003283</td>\n",
       "      <td>0.0</td>\n",
       "      <td>0.002735</td>\n",
       "      <td>0.000</td>\n",
       "      <td>0.000548</td>\n",
       "      <td>-0.000548</td>\n",
       "      <td>-0.042491</td>\n",
       "      <td>0.0</td>\n",
       "      <td>-0.041739</td>\n",
       "      <td>0.0</td>\n",
       "    </tr>\n",
       "    <tr>\n",
       "      <th>65</th>\n",
       "      <td>('sure', 'unsure')</td>\n",
       "      <td>0.001098</td>\n",
       "      <td>0.0</td>\n",
       "      <td>0.000577</td>\n",
       "      <td>0.000</td>\n",
       "      <td>0.000521</td>\n",
       "      <td>-0.000521</td>\n",
       "      <td>-0.028791</td>\n",
       "      <td>0.0</td>\n",
       "      <td>-0.024746</td>\n",
       "      <td>0.0</td>\n",
       "    </tr>\n",
       "    <tr>\n",
       "      <th>115</th>\n",
       "      <td>('decreased', 'increased')</td>\n",
       "      <td>0.000629</td>\n",
       "      <td>0.0</td>\n",
       "      <td>0.000112</td>\n",
       "      <td>0.023</td>\n",
       "      <td>0.000518</td>\n",
       "      <td>-0.000518</td>\n",
       "      <td>0.020861</td>\n",
       "      <td>0.0</td>\n",
       "      <td>0.015503</td>\n",
       "      <td>0.0</td>\n",
       "    </tr>\n",
       "  </tbody>\n",
       "</table>\n",
       "</div>"
      ],
      "text/plain": [
       "                              axis  intens_val_dem  intens_p_dem  \\\n",
       "5                ('bound', 'free')        0.004022           0.0   \n",
       "14           ('private', 'public')        0.002835           0.0   \n",
       "39              ('paid', 'unpaid')        0.001558           0.0   \n",
       "3     ('available', 'unavailable')        0.004402           0.0   \n",
       "22                ('dead', 'live')        0.002138           0.0   \n",
       "35            ('live', 'recorded')        0.001657           0.0   \n",
       "2    ('financial', 'nonfinancial')        0.005476           0.0   \n",
       "12     ('critical', 'noncritical')        0.003283           0.0   \n",
       "65              ('sure', 'unsure')        0.001098           0.0   \n",
       "115     ('decreased', 'increased')        0.000629           0.0   \n",
       "\n",
       "     intens_val_rep  intens_p_rep  diff_dem_rep  diff_rep_dem  bias_val_dem  \\\n",
       "5          0.002828         0.000      0.001194     -0.001194      0.037947   \n",
       "14         0.001969         0.000      0.000865     -0.000865      0.032612   \n",
       "39         0.000814         0.000      0.000744     -0.000744     -0.022331   \n",
       "3          0.003688         0.000      0.000713     -0.000713     -0.042062   \n",
       "22         0.001427         0.000      0.000711     -0.000711      0.030332   \n",
       "35         0.001027         0.000      0.000630     -0.000630     -0.027470   \n",
       "2          0.004911         0.000      0.000564     -0.000564     -0.041128   \n",
       "12         0.002735         0.000      0.000548     -0.000548     -0.042491   \n",
       "65         0.000577         0.000      0.000521     -0.000521     -0.028791   \n",
       "115        0.000112         0.023      0.000518     -0.000518      0.020861   \n",
       "\n",
       "     bias_p_dem  bias_val_rep  bias_p_rep  \n",
       "5           0.0      0.030385         0.0  \n",
       "14          0.0      0.024422         0.0  \n",
       "39          0.0     -0.017962         0.0  \n",
       "3           0.0     -0.040350         0.0  \n",
       "22          0.0      0.028162         0.0  \n",
       "35          0.0     -0.024651         0.0  \n",
       "2           0.0     -0.036633         0.0  \n",
       "12          0.0     -0.041739         0.0  \n",
       "65          0.0     -0.024746         0.0  \n",
       "115         0.0      0.015503         0.0  "
      ]
     },
     "execution_count": 23,
     "metadata": {},
     "output_type": "execute_result"
    }
   ],
   "source": [
    "df_all.sort_values(by='diff_dem_rep', ascending=False).head(10)"
   ]
  },
  {
   "cell_type": "code",
   "execution_count": 24,
   "metadata": {},
   "outputs": [],
   "source": [
    "def extract_top_intense_bias(df, party):\n",
    "    if party == 'dem':\n",
    "        top = df.sort_values(by='diff_dem_rep', ascending=False).head(10)\n",
    "        top_bias = top.bias_val_dem.tolist()[::-1]\n",
    "        top_intens = top.intens_val_dem.tolist()[::-1]\n",
    "    elif party == 'rep':\n",
    "        top = df.sort_values(by='diff_rep_dem', ascending=False).head(10)\n",
    "        top_bias = top.bias_val_rep.tolist()[::-1]\n",
    "        top_intens = top.intens_val_rep.tolist()[::-1]\n",
    "\n",
    "    elif party == 'trump':\n",
    "        top = pd.merge(df_intensity_trump, df_bias_trump, on='axis', how='inner')\n",
    "        top = top.sort_values(by='intens_val_trump', ascending=False).head(10)\n",
    "        top_bias = top.bias_val_trump.tolist()[::-1]\n",
    "        top_intens = top.intens_val_trump.tolist()[::-1]\n",
    "    top_axis = top.axis.tolist()[::-1]\n",
    "    return top_bias, top_axis, top_intens"
   ]
  },
  {
   "cell_type": "code",
   "execution_count": 32,
   "metadata": {},
   "outputs": [],
   "source": [
    "def extract_top_intense_bias_diff(df, party):\n",
    "    if party == 'dem':\n",
    "        top = df.sort_values(by='diff_dem_rep', ascending=False).head(10)\n",
    "        top_bias = top.bias_val_dem.tolist()[::-1]\n",
    "        top_intens = top.diff_dem_rep.tolist()[::-1]\n",
    "    elif party == 'rep':\n",
    "        top = df.sort_values(by='diff_rep_dem', ascending=False).head(10)\n",
    "        top_bias = top.bias_val_rep.tolist()[::-1]\n",
    "        top_intens = top.intens_val_rep.tolist()[::-1]\n",
    "\n",
    "    top_axis = top.axis.tolist()[::-1]\n",
    "    return top_bias, top_axis, top_intens"
   ]
  },
  {
   "cell_type": "code",
   "execution_count": 33,
   "metadata": {},
   "outputs": [],
   "source": [
    "def plot_three():\n",
    "    fig, (ax1, ax2) = plt.subplots(1,2, figsize=(13,6))\n",
    "    \n",
    "    color = 'blue'\n",
    "    title = 'Top intensity microframes (Democratic)'\n",
    "    top_val_dem, top_axis_dem, top_intens_dem = extract_top_intense_bias(df_all, party='dem')\n",
    "    \n",
    "    dem_max = max(top_val_dem)\n",
    "    dem_min = min(top_val_dem)\n",
    "    ax1.yaxis.tick_left()\n",
    "    y = np.arange(10)\n",
    "    for i in range(10):\n",
    "        ax1.hlines(i, xmin=dem_min, xmax=dem_max, linewidth=1,color='lightblue', zorder=1)\n",
    "        ax1.scatter(top_val_dem[i], [i], color=color, s=int(top_intens_dem[i]*80000), zorder=2)\n",
    "#     ax1.scatter(top_val_dem, y, color=color, s=20, label='Bias', zorder=2)\n",
    "    ax1.set_yticks(y)\n",
    "    ax1.yaxis.set_tick_params(length=0)\n",
    "\n",
    "    ax1.set_yticklabels([eval(item)[0] for item in top_axis_dem], fontsize=15)\n",
    "    ax1.set_ylim(-0.5,10)\n",
    "    ax1.vlines(0, ymin=-0.5, ymax=10, linestyle='--', linewidth=1)\n",
    "    ax1.set_xlabel('Frame bias', fontsize=15)\n",
    "    ax1.xaxis.set_tick_params(labelsize=15)\n",
    "\n",
    "    ax_t1 = ax1.twinx()\n",
    "    ax_t1.yaxis.tick_right()\n",
    "    ax_t1.set_yticks(y)\n",
    "    ax_t1.yaxis.set_tick_params(length=0)\n",
    "\n",
    "    ax_t1.set_yticklabels([eval(item)[1] for item in top_axis_dem], fontsize=15)\n",
    "    ax_t1.set_ylim(-0.5,10)\n",
    "    ax_t1.set_title(title, fontsize=15)\n",
    "    \n",
    "    ax1.spines[\"top\"].set_visible(False)\n",
    "    ax1.spines[\"left\"].set_visible(False)\n",
    "    ax1.spines[\"right\"].set_visible(False)\n",
    "    ax1.spines[\"bottom\"].set_visible(False)\n",
    "    ax_t1.spines[\"top\"].set_visible(False)\n",
    "    ax_t1.spines[\"left\"].set_visible(False)\n",
    "    ax_t1.spines[\"right\"].set_visible(False)\n",
    "    ax_t1.spines[\"bottom\"].set_visible(False)\n",
    "\n",
    "    color = 'red'\n",
    "    title = 'Top intensity microframes (Republican)'\n",
    "    top_val_rep, top_axis_rep, top_intens_rep = extract_top_intense_bias(df_all, party='rep')    \n",
    "    rep_max = max(top_val_rep)\n",
    "    rep_min = min(top_val_rep)\n",
    "    ax2.yaxis.tick_left()\n",
    "    y = np.arange(10)\n",
    "    for i in range(10):\n",
    "        ax2.hlines(i, xmin=rep_min, xmax=rep_max, linewidth=1,color='lightcoral', zorder=1)\n",
    "        ax2.scatter(top_val_rep[i], [i], color=color, s=int(top_intens_rep[i]*80000), zorder=2)\n",
    "\n",
    "#     ax2.scatter(top_val_rep, y, color=color, s=20, label='Bias', zorder=2)\n",
    "\n",
    "    ax2.set_yticks(y)\n",
    "    ax2.yaxis.set_tick_params(length=0)\n",
    "    ax2.set_yticklabels([eval(item)[0] for item in top_axis_rep], fontsize=15)\n",
    "    ax2.set_ylim(-0.5,10)\n",
    "#     for i in range(10):\n",
    "#         print(i)\n",
    "#         ax2.set_yticks([i])\n",
    "#         ax2.set_yticklabels([eval(top_axis_rep[i])[0]], fontsize=15)\n",
    "    ax2.set_ylim(-0.5,10)\n",
    "    ax2.vlines(0, ymin=-0.5, ymax=10, linestyle='--', linewidth=1)\n",
    "#     ax2.legend(prop={'size': 15})\n",
    "    ax2.set_xlabel('Frame bias', fontsize=15)\n",
    "    ax2.xaxis.set_tick_params(labelsize=15)\n",
    "\n",
    "    ax_t2 = ax2.twinx()\n",
    "    ax_t2.yaxis.tick_right()\n",
    "    ax_t2.set_yticks(y)\n",
    "    ax_t2.yaxis.set_tick_params(length=0)\n",
    "    ax_t2.set_yticklabels([eval(item)[1] for item in top_axis_rep], fontsize=15)\n",
    "    ax_t2.set_ylim(-0.5,10)\n",
    "    ax2.set_title(title, fontsize=15)\n",
    "    ax2.spines[\"top\"].set_visible(False)\n",
    "    ax2.spines[\"left\"].set_visible(False)\n",
    "    ax2.spines[\"right\"].set_visible(False)\n",
    "    ax2.spines[\"bottom\"].set_visible(False)\n",
    "    ax_t2.spines[\"top\"].set_visible(False)\n",
    "    ax_t2.spines[\"left\"].set_visible(False)\n",
    "    ax_t2.spines[\"right\"].set_visible(False)\n",
    "    ax_t2.spines[\"bottom\"].set_visible(False)\n",
    "    \n",
    "#     color = 'orange'\n",
    "#     title = 'Top intensity microframes (Trump)'\n",
    "#     top_val_trump, top_axis_trump, top_intens_trump = extract_top_intense_bias(df_intensity_trump, party='trump')    \n",
    "#     trump_max = max(top_val_trump)\n",
    "#     trump_min = min(top_val_trump)\n",
    "#     ax3.yaxis.tick_left()\n",
    "#     y = np.arange(10)\n",
    "#     for i in range(10):\n",
    "#         ax3.hlines(i, xmin=trump_min, xmax=trump_max, linewidth=1,color='lightcoral', zorder=1)\n",
    "#         ax3.scatter(top_val_trump[i], [i], color=color, s=int(top_intens_trump[i]*90000), zorder=2)\n",
    "\n",
    "# #     ax2.scatter(top_val_rep, y, color=color, s=20, label='Bias', zorder=2)\n",
    "\n",
    "#     ax3.set_yticks(y)\n",
    "#     ax3.yaxis.set_tick_params(length=0)\n",
    "#     ax3.set_yticklabels([eval(item)[0] for item in top_axis_trump], fontsize=15)\n",
    "#     ax3.set_ylim(-0.5,10)\n",
    "# #     for i in range(10):\n",
    "# #         print(i)\n",
    "# #         ax2.set_yticks([i])\n",
    "# #         ax2.set_yticklabels([eval(top_axis_rep[i])[0]], fontsize=15)\n",
    "#     ax3.set_ylim(-0.5,10)\n",
    "# #     ax3.vlines(0, ymin=-0.5, ymax=10, linestyle='--', linewidth=1)\n",
    "# #     ax2.legend(prop={'size': 15})\n",
    "#     ax3.set_xlabel('Frame bias', fontsize=15)\n",
    "#     ax3.xaxis.set_tick_params(labelsize=15)\n",
    "\n",
    "#     ax_t3 = ax3.twinx()\n",
    "#     ax_t3.yaxis.tick_right()\n",
    "#     ax_t3.set_yticks(y)\n",
    "#     ax_t3.yaxis.set_tick_params(length=0)\n",
    "#     ax_t3.set_yticklabels([eval(item)[1] for item in top_axis_trump], fontsize=15)\n",
    "#     ax_t3.set_ylim(-0.5,10)\n",
    "#     ax3.set_title(title, fontsize=15)\n",
    "#     ax3.spines[\"top\"].set_visible(False)\n",
    "#     ax3.spines[\"left\"].set_visible(False)\n",
    "#     ax3.spines[\"right\"].set_visible(False)\n",
    "#     ax3.spines[\"bottom\"].set_visible(False)\n",
    "#     ax_t3.spines[\"top\"].set_visible(False)\n",
    "#     ax_t3.spines[\"left\"].set_visible(False)\n",
    "#     ax_t3.spines[\"right\"].set_visible(False)\n",
    "#     ax_t3.spines[\"bottom\"].set_visible(False)\n",
    "    \n",
    "    \n",
    "    \n",
    "    plt.tight_layout()\n",
    "    plt.savefig('frame_plot.pdf', format='pdf')"
   ]
  },
  {
   "cell_type": "code",
   "execution_count": 34,
   "metadata": {},
   "outputs": [
    {
     "data": {
      "image/png": "[encoded data removed]",
      "text/plain": [
       "<Figure size 936x936 with 7 Axes>"
      ]
     },
     "metadata": {
      "needs_background": "light"
     },
     "output_type": "display_data"
    }
   ],
   "source": [
    "plot_three()"
   ]
  },
  {
   "cell_type": "markdown",
   "metadata": {},
   "source": [
    "# common microframes"
   ]
  },
  {
   "cell_type": "code",
   "execution_count": 31,
   "metadata": {},
   "outputs": [
    {
     "data": {
      "text/html": [
       "<div>\n",
       "<style scoped>\n",
       "    .dataframe tbody tr th:only-of-type {\n",
       "        vertical-align: middle;\n",
       "    }\n",
       "\n",
       "    .dataframe tbody tr th {\n",
       "        vertical-align: top;\n",
       "    }\n",
       "\n",
       "    .dataframe thead th {\n",
       "        text-align: right;\n",
       "    }\n",
       "</style>\n",
       "<table border=\"1\" class=\"dataframe\">\n",
       "  <thead>\n",
       "    <tr style=\"text-align: right;\">\n",
       "      <th></th>\n",
       "      <th>axis</th>\n",
       "      <th>intens_val_dem</th>\n",
       "      <th>intens_p_dem</th>\n",
       "      <th>intens_val_rep</th>\n",
       "      <th>intens_p_rep</th>\n",
       "      <th>diff_dem_rep</th>\n",
       "      <th>diff_rep_dem</th>\n",
       "      <th>bias_val_dem</th>\n",
       "      <th>bias_p_dem</th>\n",
       "      <th>bias_val_rep</th>\n",
       "      <th>bias_p_rep</th>\n",
       "    </tr>\n",
       "  </thead>\n",
       "  <tbody>\n",
       "    <tr>\n",
       "      <th>0</th>\n",
       "      <td>('new', 'worn')</td>\n",
       "      <td>0.005589</td>\n",
       "      <td>0.0</td>\n",
       "      <td>0.005388</td>\n",
       "      <td>0.0</td>\n",
       "      <td>0.000201</td>\n",
       "      <td>-0.000201</td>\n",
       "      <td>-0.047521</td>\n",
       "      <td>0.0</td>\n",
       "      <td>-0.046950</td>\n",
       "      <td>0.0</td>\n",
       "    </tr>\n",
       "    <tr>\n",
       "      <th>1</th>\n",
       "      <td>('direct', 'indirect')</td>\n",
       "      <td>0.005541</td>\n",
       "      <td>0.0</td>\n",
       "      <td>0.005168</td>\n",
       "      <td>0.0</td>\n",
       "      <td>0.000373</td>\n",
       "      <td>-0.000373</td>\n",
       "      <td>-0.047922</td>\n",
       "      <td>0.0</td>\n",
       "      <td>-0.048307</td>\n",
       "      <td>0.0</td>\n",
       "    </tr>\n",
       "  </tbody>\n",
       "</table>\n",
       "</div>"
      ],
      "text/plain": [
       "                     axis  intens_val_dem  intens_p_dem  intens_val_rep  \\\n",
       "0         ('new', 'worn')        0.005589           0.0        0.005388   \n",
       "1  ('direct', 'indirect')        0.005541           0.0        0.005168   \n",
       "\n",
       "   intens_p_rep  diff_dem_rep  diff_rep_dem  bias_val_dem  bias_p_dem  \\\n",
       "0           0.0      0.000201     -0.000201     -0.047521         0.0   \n",
       "1           0.0      0.000373     -0.000373     -0.047922         0.0   \n",
       "\n",
       "   bias_val_rep  bias_p_rep  \n",
       "0     -0.046950         0.0  \n",
       "1     -0.048307         0.0  "
      ]
     },
     "execution_count": 31,
     "metadata": {},
     "output_type": "execute_result"
    }
   ],
   "source": [
    "df_all.head(2)"
   ]
  },
  {
   "cell_type": "code",
   "execution_count": 54,
   "metadata": {},
   "outputs": [],
   "source": [
    "def extract_top_intense_bias_common(df, party):\n",
    "    if party == 'dem':\n",
    "        top = df.sort_values(by='intens_val_dem', ascending=False).head(10)\n",
    "        top_bias = top.bias_val_dem.tolist()[::-1]\n",
    "        top_intens = top.intens_val_dem.tolist()[::-1]\n",
    "    elif party == 'rep':\n",
    "        top = df.sort_values(by='intens_val_rep', ascending=False).head(10)\n",
    "        top_bias = top.bias_val_rep.tolist()[::-1]\n",
    "        top_intens = top.intens_val_rep.tolist()[::-1]\n",
    "    top_axis = top.axis.tolist()[::-1]\n",
    "    return top_bias, top_axis, top_intens"
   ]
  },
  {
   "cell_type": "code",
   "execution_count": 68,
   "metadata": {},
   "outputs": [],
   "source": [
    "def plot_three_common():\n",
    "    fig, (ax1, ax2) = plt.subplots(1,2, figsize=(13,6))\n",
    "    \n",
    "    color = 'blue'\n",
    "    title = 'Top intensity microframes (Democratic)'\n",
    "    top_val_dem, top_axis_dem, top_intens_dem = extract_top_intense_bias_common(df_all, party='dem')\n",
    "    \n",
    "    dem_max = max(top_val_dem)\n",
    "    dem_min = min(top_val_dem)\n",
    "    ax1.yaxis.tick_left()\n",
    "    y = np.arange(10)\n",
    "    for i in range(10):\n",
    "        ax1.hlines(i, xmin=dem_min, xmax=dem_max, linewidth=1,color='lightblue', zorder=1)\n",
    "        ax1.scatter(top_val_dem[i], [i], color=color, s=int(top_intens_dem[i]*80000), zorder=2)\n",
    "#     ax1.scatter(top_val_dem, y, color=color, s=20, label='Bias', zorder=2)\n",
    "    ax1.set_yticks(y)\n",
    "    ax1.yaxis.set_tick_params(length=0)\n",
    "\n",
    "    ax1.set_yticklabels([eval(item)[0] for item in top_axis_dem], fontsize=15)\n",
    "    ax1.set_ylim(-0.5,10)\n",
    "    ax1.vlines(0, ymin=-0.5, ymax=10, linestyle='--', linewidth=1)\n",
    "    ax1.set_xlabel('Frame bias', fontsize=15)\n",
    "    ax1.xaxis.set_tick_params(labelsize=15)\n",
    "\n",
    "    ax_t1 = ax1.twinx()\n",
    "    ax_t1.yaxis.tick_right()\n",
    "    ax_t1.set_yticks(y)\n",
    "    ax_t1.yaxis.set_tick_params(length=0)\n",
    "\n",
    "    ax_t1.set_yticklabels([eval(item)[1] for item in top_axis_dem], fontsize=15)\n",
    "    ax_t1.set_ylim(-0.5,10)\n",
    "    ax_t1.set_title(title, fontsize=15)\n",
    "    \n",
    "    ax1.spines[\"top\"].set_visible(False)\n",
    "    ax1.spines[\"left\"].set_visible(False)\n",
    "    ax1.spines[\"right\"].set_visible(False)\n",
    "    ax1.spines[\"bottom\"].set_visible(False)\n",
    "    ax_t1.spines[\"top\"].set_visible(False)\n",
    "    ax_t1.spines[\"left\"].set_visible(False)\n",
    "    ax_t1.spines[\"right\"].set_visible(False)\n",
    "    ax_t1.spines[\"bottom\"].set_visible(False)\n",
    "\n",
    "    color = 'red'\n",
    "    title = 'Top intensity microframes (Republican)'\n",
    "    top_val_rep, top_axis_rep, top_intens_rep = extract_top_intense_bias_common(df_all, party='rep')   \n",
    "    rep_max = max(top_val_rep)\n",
    "    rep_min = min(top_val_rep)\n",
    "    ax2.yaxis.tick_left()\n",
    "    y = np.arange(10)\n",
    "    for i in range(10):\n",
    "        ax2.hlines(i, xmin=rep_min, xmax=rep_max, linewidth=1,color='lightcoral', zorder=1)\n",
    "        ax2.scatter(top_val_rep[i], [i], color=color, s=int(top_intens_rep[i]*80000), zorder=2)\n",
    "\n",
    "#     ax2.scatter(top_val_rep, y, color=color, s=20, label='Bias', zorder=2)\n",
    "\n",
    "    ax2.set_yticks(y)\n",
    "    ax2.yaxis.set_tick_params(length=0)\n",
    "    ax2.set_yticklabels([eval(item)[0] for item in top_axis_rep], fontsize=15)\n",
    "    ax2.set_ylim(-0.5,10)\n",
    "#     for i in range(10):\n",
    "#         print(i)\n",
    "#         ax2.set_yticks([i])\n",
    "#         ax2.set_yticklabels([eval(top_axis_rep[i])[0]], fontsize=15)\n",
    "    ax2.set_ylim(-0.5,10)\n",
    "    ax2.vlines(0, ymin=-0.5, ymax=10, linestyle='--', linewidth=1)\n",
    "#     ax2.legend(prop={'size': 15})\n",
    "    ax2.set_xlabel('Frame bias', fontsize=15)\n",
    "    ax2.xaxis.set_tick_params(labelsize=15)\n",
    "\n",
    "    ax_t2 = ax2.twinx()\n",
    "    ax_t2.yaxis.tick_right()\n",
    "    ax_t2.set_yticks(y)\n",
    "    ax_t2.yaxis.set_tick_params(length=0)\n",
    "    ax_t2.set_yticklabels([eval(item)[1] for item in top_axis_rep], fontsize=15)\n",
    "    ax_t2.set_ylim(-0.5,10)\n",
    "    ax2.set_title(title, fontsize=15)\n",
    "    ax2.spines[\"top\"].set_visible(False)\n",
    "    ax2.spines[\"left\"].set_visible(False)\n",
    "    ax2.spines[\"right\"].set_visible(False)\n",
    "    ax2.spines[\"bottom\"].set_visible(False)\n",
    "    ax_t2.spines[\"top\"].set_visible(False)\n",
    "    ax_t2.spines[\"left\"].set_visible(False)\n",
    "    ax_t2.spines[\"right\"].set_visible(False)\n",
    "    ax_t2.spines[\"bottom\"].set_visible(False)\n",
    "    \n",
    "    \n",
    "    \n",
    "    plt.tight_layout()\n",
    "    plt.savefig('frame_plot_common.pdf', format='pdf')"
   ]
  },
  {
   "cell_type": "code",
   "execution_count": 69,
   "metadata": {},
   "outputs": [
    {
     "data": {
      "image/png": "[encoded data removed]",
      "text/plain": [
       "<Figure size 936x432 with 4 Axes>"
      ]
     },
     "metadata": {
      "needs_background": "light"
     },
     "output_type": "display_data"
    }
   ],
   "source": [
    "plot_three_common()"
   ]
  },
  {
   "cell_type": "code",
   "execution_count": null,
   "metadata": {},
   "outputs": [],
   "source": []
  },
  {
   "cell_type": "code",
   "execution_count": null,
   "metadata": {},
   "outputs": [],
   "source": []
  },
  {
   "cell_type": "code",
   "execution_count": null,
   "metadata": {},
   "outputs": [],
   "source": []
  },
  {
   "cell_type": "code",
   "execution_count": null,
   "metadata": {},
   "outputs": [],
   "source": []
  },
  {
   "cell_type": "markdown",
   "metadata": {},
   "source": [
    "## Bar plot"
   ]
  },
  {
   "cell_type": "code",
   "execution_count": 40,
   "metadata": {},
   "outputs": [],
   "source": [
    "def plot_bar(df_dem, df_rep):\n",
    "    plot_frame(df_bias_dem, party='dem', option='bias')\n",
    "    plot_frame(df_bias_rep, party='rep', option='bias')\n",
    "    plot_frame(df_intensity_dem, party='dem', option='intensity')\n",
    "    plot_frame(df_intensity_rep, party='rep', option='intensity')\n",
    "#     ax1.annotate('Arg0',fontsize=15, xy=(0.4, 0.515), xycoords='axes fraction', xytext=(0.2, 0.5), \n",
    "#             arrowprops=dict(arrowstyle=\"->\", color='r'))\n",
    "#     ax1.text(0.4, 0.5, 'Verb: {}'.format(verb), fontsize=15, transform=ax1.transAxes)\n",
    "#     ax1.annotate('Arg1',fontsize=15, xy=(0.53, 0.515), xycoords='axes fraction', xytext=(0.65, 0.5), \n",
    "#             arrowprops=dict(arrowstyle=\"<-\", color='r'))\n",
    "#     plt.text(9, 5, 'Verb: {}'.format(verb), fontsize=15)\n",
    "#     plt.text(2, 5, 'Arg0', fontsize=15)\n",
    "#     plt.text(17, 5, 'Arg1', fontsize=15)\n",
    "\n",
    "#     ax3.set_title('Verb: {}'.format(verb))\n",
    "\n"
   ]
  },
  {
   "cell_type": "code",
   "execution_count": 41,
   "metadata": {},
   "outputs": [],
   "source": [
    "# plot_bar(df_bias_dem, df_bias_rep)"
   ]
  },
  {
   "cell_type": "markdown",
   "metadata": {},
   "source": [
    "## Difference plot"
   ]
  },
  {
   "cell_type": "code",
   "execution_count": 42,
   "metadata": {},
   "outputs": [],
   "source": [
    "# df_all.head(2)"
   ]
  },
  {
   "cell_type": "code",
   "execution_count": 43,
   "metadata": {},
   "outputs": [],
   "source": [
    "# df_all['diff_intensity_dem_rep'] = df_all['intens_val_dem'] - df_all['intens_val_rep']\n",
    "# df_all['diff_bias_dem_rep'] = df_all['bias_val_dem'] - df_all['bias_val_rep']"
   ]
  },
  {
   "cell_type": "code",
   "execution_count": 44,
   "metadata": {},
   "outputs": [],
   "source": [
    "# df_all.head(2)"
   ]
  },
  {
   "cell_type": "code",
   "execution_count": 45,
   "metadata": {},
   "outputs": [],
   "source": [
    "# len(df_all)"
   ]
  },
  {
   "cell_type": "code",
   "execution_count": 46,
   "metadata": {},
   "outputs": [],
   "source": [
    "# fig, ax = plt.subplots(1, figsize=(20,8))\n",
    "\n",
    "# bias = df_all['diff_bias_dem_rep'].head(70).tolist()\n",
    "# intens = df_all['diff_intensity_dem_rep'].head(70).tolist()\n",
    "# axis = df_all['axis'].head(70).tolist()\n",
    "# ax.scatter(bias, intens, edgecolors='None', c='black', s=30)\n",
    "# ax.hlines(0, xmin=min(bias)-0.005, xmax=max(bias)+0.005, linewidth=1, linestyles='dashed', color='black')\n",
    "# ax.vlines(0, ymin=min(intens)-0.005, ymax=max(intens)+0.005, linewidth=1, linestyles='dashed', color='black')\n",
    "# ax.set_xlabel('Dem bias - Rep bias', fontsize=15)\n",
    "# ax.set_ylabel('Dem intensity - Rep intensity', fontsize=15)\n",
    "# ax.set_xlim(min(bias)-0.005, max(bias)+0.005)\n",
    "# ax.set_ylim(min(intens)-0.005, max(intens)+0.005)\n",
    "# # plt.xticks([])\n",
    "# # plt.yticks([])\n",
    "# all_text = [ax.text(bias[idx], intens[idx], axis[idx], fontsize=12) for idx in range(len(axis))]\n",
    "# adjust_text(all_text)#add_objects=[line, rep_l1,rep_l2, rep_l3]\n"
   ]
  },
  {
   "cell_type": "markdown",
   "metadata": {},
   "source": [
    "## Top tweets"
   ]
  },
  {
   "cell_type": "code",
   "execution_count": 47,
   "metadata": {},
   "outputs": [],
   "source": [
    "sa = pickle.load(open('sa_object.p', 'rb'))"
   ]
  },
  {
   "cell_type": "code",
   "execution_count": 48,
   "metadata": {},
   "outputs": [],
   "source": [
    "top_val_dem, top_axis_dem, top_intens_dem = extract_top_intense_bias(df_all, party='dem')"
   ]
  },
  {
   "cell_type": "code",
   "execution_count": 49,
   "metadata": {},
   "outputs": [],
   "source": [
    "top_val_rep, top_axis_rep, top_intens_rep = extract_top_intense_bias(df_all, party='rep')    "
   ]
  },
  {
   "cell_type": "code",
   "execution_count": 50,
   "metadata": {},
   "outputs": [
    {
     "data": {
      "text/plain": [
       "[\"('decreased', 'increased')\",\n",
       " \"('sure', 'unsure')\",\n",
       " \"('critical', 'noncritical')\",\n",
       " \"('financial', 'nonfinancial')\",\n",
       " \"('live', 'recorded')\",\n",
       " \"('dead', 'live')\",\n",
       " \"('available', 'unavailable')\",\n",
       " \"('paid', 'unpaid')\",\n",
       " \"('private', 'public')\",\n",
       " \"('bound', 'free')\"]"
      ]
     },
     "execution_count": 50,
     "metadata": {},
     "output_type": "execute_result"
    }
   ],
   "source": [
    "top_axis_dem"
   ]
  },
  {
   "cell_type": "code",
   "execution_count": 51,
   "metadata": {},
   "outputs": [],
   "source": [
    "def get_top_tweet(df, party):\n",
    "    axes_text = {}\n",
    "    if party == 'dem':\n",
    "        axes = top_axis_dem\n",
    "    elif party == 'rep':\n",
    "        axes = top_axis_rep\n",
    "    for axis in axes:\n",
    "        df_sorted = df.sort_values(by=axis, ascending=False)\n",
    "#         text_list = []\n",
    "#         cnt = 0\n",
    "#         for idx, row in df_sorted.drop_duplicates().head(100).iterrows():\n",
    "#             if row['text'].split()[0][0] != '@' and row['text'].split()[0][0] != '#' and len(row['text'].split()) > 2:\n",
    "#                 text_list.append(row['text'])\n",
    "#                 cnt += 1\n",
    "#             if cnt == 10:\n",
    "#                 break        \n",
    "        axes_text[axis] = df_sorted.head(5).text.tolist() \n",
    "    axes_text = pd.DataFrame(axes_text.items())\n",
    "    axes_text.columns=['axis', 'top_text']\n",
    "#     word_contrib_df = word_contrib_df[word_contrib_df['word'] != 'rt']\n",
    "    return axes_text"
   ]
  },
  {
   "cell_type": "code",
   "execution_count": 52,
   "metadata": {},
   "outputs": [],
   "source": [
    "df = pd.read_csv('big_table_by_second_moment_with_corpus_mean.tsv', sep='\\t',quoting=csv.QUOTE_NONE,error_bad_lines=False)"
   ]
  },
  {
   "cell_type": "code",
   "execution_count": 53,
   "metadata": {},
   "outputs": [
    {
     "data": {
      "text/html": [
       "<div>\n",
       "<style scoped>\n",
       "    .dataframe tbody tr th:only-of-type {\n",
       "        vertical-align: middle;\n",
       "    }\n",
       "\n",
       "    .dataframe tbody tr th {\n",
       "        vertical-align: top;\n",
       "    }\n",
       "\n",
       "    .dataframe thead th {\n",
       "        text-align: right;\n",
       "    }\n",
       "</style>\n",
       "<table border=\"1\" class=\"dataframe\">\n",
       "  <thead>\n",
       "    <tr style=\"text-align: right;\">\n",
       "      <th></th>\n",
       "      <th>party</th>\n",
       "      <th>text</th>\n",
       "      <th>('abaxial', 'adaxial')</th>\n",
       "      <th>('able', 'unable')</th>\n",
       "      <th>('abnormal', 'normal')</th>\n",
       "      <th>('aboral', 'oral')</th>\n",
       "      <th>('abridged', 'unabridged')</th>\n",
       "      <th>('absent', 'present')</th>\n",
       "      <th>('absolute', 'relative')</th>\n",
       "      <th>('abstemious', 'gluttonous')</th>\n",
       "      <th>...</th>\n",
       "      <th>('unwrinkled', 'wrinkled')</th>\n",
       "      <th>('unwritten', 'written')</th>\n",
       "      <th>('useful', 'useless')</th>\n",
       "      <th>('valuable', 'worthless')</th>\n",
       "      <th>('vernal', 'wintry')</th>\n",
       "      <th>('virtuous', 'wicked')</th>\n",
       "      <th>('waning', 'waxing')</th>\n",
       "      <th>('weightless', 'weighty')</th>\n",
       "      <th>('winged', 'wingless')</th>\n",
       "      <th>('wired', 'wireless')</th>\n",
       "    </tr>\n",
       "  </thead>\n",
       "  <tbody>\n",
       "    <tr>\n",
       "      <th>0</th>\n",
       "      <td>Dem</td>\n",
       "      <td>today, we intro'd the bipartisan #corpsact to ...</td>\n",
       "      <td>0.001718</td>\n",
       "      <td>0.010009</td>\n",
       "      <td>0.005607</td>\n",
       "      <td>0.004492</td>\n",
       "      <td>0.006692</td>\n",
       "      <td>0.005622</td>\n",
       "      <td>0.004581</td>\n",
       "      <td>0.002958</td>\n",
       "      <td>...</td>\n",
       "      <td>0.003612</td>\n",
       "      <td>0.005709</td>\n",
       "      <td>0.006416</td>\n",
       "      <td>0.004411</td>\n",
       "      <td>0.004112</td>\n",
       "      <td>0.004965</td>\n",
       "      <td>0.005399</td>\n",
       "      <td>0.002757</td>\n",
       "      <td>0.003239</td>\n",
       "      <td>0.005158</td>\n",
       "    </tr>\n",
       "    <tr>\n",
       "      <th>1</th>\n",
       "      <td>Dem</td>\n",
       "      <td>thanks to agnes keeney for putting her skills ...</td>\n",
       "      <td>NaN</td>\n",
       "      <td>NaN</td>\n",
       "      <td>NaN</td>\n",
       "      <td>NaN</td>\n",
       "      <td>NaN</td>\n",
       "      <td>NaN</td>\n",
       "      <td>NaN</td>\n",
       "      <td>NaN</td>\n",
       "      <td>...</td>\n",
       "      <td>NaN</td>\n",
       "      <td>NaN</td>\n",
       "      <td>NaN</td>\n",
       "      <td>NaN</td>\n",
       "      <td>NaN</td>\n",
       "      <td>NaN</td>\n",
       "      <td>NaN</td>\n",
       "      <td>NaN</td>\n",
       "      <td>NaN</td>\n",
       "      <td>NaN</td>\n",
       "    </tr>\n",
       "  </tbody>\n",
       "</table>\n",
       "<p>2 rows × 1369 columns</p>\n",
       "</div>"
      ],
      "text/plain": [
       "  party                                               text  \\\n",
       "0   Dem  today, we intro'd the bipartisan #corpsact to ...   \n",
       "1   Dem  thanks to agnes keeney for putting her skills ...   \n",
       "\n",
       "   ('abaxial', 'adaxial')  ('able', 'unable')  ('abnormal', 'normal')  \\\n",
       "0                0.001718            0.010009                0.005607   \n",
       "1                     NaN                 NaN                     NaN   \n",
       "\n",
       "   ('aboral', 'oral')  ('abridged', 'unabridged')  ('absent', 'present')  \\\n",
       "0            0.004492                    0.006692               0.005622   \n",
       "1                 NaN                         NaN                    NaN   \n",
       "\n",
       "   ('absolute', 'relative')  ('abstemious', 'gluttonous')  ...  \\\n",
       "0                  0.004581                      0.002958  ...   \n",
       "1                       NaN                           NaN  ...   \n",
       "\n",
       "   ('unwrinkled', 'wrinkled')  ('unwritten', 'written')  \\\n",
       "0                    0.003612                  0.005709   \n",
       "1                         NaN                       NaN   \n",
       "\n",
       "   ('useful', 'useless')  ('valuable', 'worthless')  ('vernal', 'wintry')  \\\n",
       "0               0.006416                   0.004411              0.004112   \n",
       "1                    NaN                        NaN                   NaN   \n",
       "\n",
       "   ('virtuous', 'wicked')  ('waning', 'waxing')  ('weightless', 'weighty')  \\\n",
       "0                0.004965              0.005399                   0.002757   \n",
       "1                     NaN                   NaN                        NaN   \n",
       "\n",
       "   ('winged', 'wingless')  ('wired', 'wireless')  \n",
       "0                0.003239               0.005158  \n",
       "1                     NaN                    NaN  \n",
       "\n",
       "[2 rows x 1369 columns]"
      ]
     },
     "execution_count": 53,
     "metadata": {},
     "output_type": "execute_result"
    }
   ],
   "source": [
    "df.head(2)"
   ]
  },
  {
   "cell_type": "code",
   "execution_count": 54,
   "metadata": {},
   "outputs": [
    {
     "data": {
      "text/plain": [
       "Bg                                                                                                                                         413607\n",
       "Dem                                                                                                                                         15620\n",
       "Rep                                                                                                                                          9961\n",
       "                                                                                                                                              601\n",
       "                                                                                                                                              599\n",
       "                                                                                                                                            ...  \n",
       "i will keep demanding the accountability, action, &amp; leadership we need from this administration.                                            1\n",
       "-extended his tenure to 2036                                                                                                                    1\n",
       "💵 defend the unemployed and most vulnerable with strong unemployment benefits                                                                   1\n",
       "that’s why @housedemocrats #heroesact would make covid treatment available at no cost to every patient, regardless of insurance status.         1\n",
       "3/27: house passage                                                                                                                             1\n",
       "Name: party, Length: 138771, dtype: int64"
      ]
     },
     "execution_count": 54,
     "metadata": {},
     "output_type": "execute_result"
    }
   ],
   "source": [
    "df.party.value_counts()"
   ]
  },
  {
   "cell_type": "code",
   "execution_count": 55,
   "metadata": {},
   "outputs": [],
   "source": [
    "cols = top_axis_dem + top_axis_rep + ['party', 'text']"
   ]
  },
  {
   "cell_type": "code",
   "execution_count": 56,
   "metadata": {},
   "outputs": [],
   "source": [
    "df = df[cols]"
   ]
  },
  {
   "cell_type": "code",
   "execution_count": 57,
   "metadata": {},
   "outputs": [
    {
     "data": {
      "text/plain": [
       "685415"
      ]
     },
     "execution_count": 57,
     "metadata": {},
     "output_type": "execute_result"
    }
   ],
   "source": [
    "len(df)"
   ]
  },
  {
   "cell_type": "code",
   "execution_count": 58,
   "metadata": {},
   "outputs": [],
   "source": [
    "# df = df.dropna(subset=[\"('able', 'unable')\"])"
   ]
  },
  {
   "cell_type": "code",
   "execution_count": 59,
   "metadata": {},
   "outputs": [],
   "source": [
    "df_text_dem = df[df['party'] == 'Dem']"
   ]
  },
  {
   "cell_type": "code",
   "execution_count": 60,
   "metadata": {},
   "outputs": [],
   "source": [
    "df_text_rep = df[df['party'] == 'Rep']"
   ]
  },
  {
   "cell_type": "code",
   "execution_count": 70,
   "metadata": {},
   "outputs": [],
   "source": [
    "df_trump = pd.read_csv('big_table_by_second_moment_with_corpus_mean_trump.tsv', sep='\\t',quoting=csv.QUOTE_NONE,error_bad_lines=False)"
   ]
  },
  {
   "cell_type": "code",
   "execution_count": 71,
   "metadata": {},
   "outputs": [
    {
     "data": {
      "text/plain": [
       "12484"
      ]
     },
     "execution_count": 71,
     "metadata": {},
     "output_type": "execute_result"
    }
   ],
   "source": [
    "len(df_trump)"
   ]
  },
  {
   "cell_type": "code",
   "execution_count": 73,
   "metadata": {},
   "outputs": [
    {
     "data": {
      "text/plain": [
       "Bg                                                                                                                7790\n",
       "to help them keep up the fight, our emergency…                                                                      21\n",
       "covid                                                                                                               16\n",
       "house democrats passed…                                                                                             14\n",
       "                                                                                                                    13\n",
       "                                                                                                                  ... \n",
       "this is a promising step forward – and we must keep working together to protect americans’ health and safety.        1\n",
       "atrocious greed.                                                                                                     1\n",
       "we all should be prepared.                                                                                           1\n",
       "i stand with the abortion providers suing the state over this harmful decision.                                      1\n",
       "see below for some key information from the wisconsin department of health services on covid in wisconsin.           1\n",
       "Name: party, Length: 2878, dtype: int64"
      ]
     },
     "execution_count": 73,
     "metadata": {},
     "output_type": "execute_result"
    }
   ],
   "source": [
    "df_trump.party.value_counts()"
   ]
  },
  {
   "cell_type": "code",
   "execution_count": 72,
   "metadata": {},
   "outputs": [
    {
     "data": {
      "text/html": [
       "<div>\n",
       "<style scoped>\n",
       "    .dataframe tbody tr th:only-of-type {\n",
       "        vertical-align: middle;\n",
       "    }\n",
       "\n",
       "    .dataframe tbody tr th {\n",
       "        vertical-align: top;\n",
       "    }\n",
       "\n",
       "    .dataframe thead th {\n",
       "        text-align: right;\n",
       "    }\n",
       "</style>\n",
       "<table border=\"1\" class=\"dataframe\">\n",
       "  <thead>\n",
       "    <tr style=\"text-align: right;\">\n",
       "      <th></th>\n",
       "      <th>party</th>\n",
       "      <th>text</th>\n",
       "      <th>('abaxial', 'adaxial')</th>\n",
       "      <th>('able', 'unable')</th>\n",
       "      <th>('abnormal', 'normal')</th>\n",
       "      <th>('aboral', 'oral')</th>\n",
       "      <th>('abridged', 'unabridged')</th>\n",
       "      <th>('absent', 'present')</th>\n",
       "      <th>('absolute', 'relative')</th>\n",
       "      <th>('abstemious', 'gluttonous')</th>\n",
       "      <th>...</th>\n",
       "      <th>('unwrinkled', 'wrinkled')</th>\n",
       "      <th>('unwritten', 'written')</th>\n",
       "      <th>('useful', 'useless')</th>\n",
       "      <th>('valuable', 'worthless')</th>\n",
       "      <th>('vernal', 'wintry')</th>\n",
       "      <th>('virtuous', 'wicked')</th>\n",
       "      <th>('waning', 'waxing')</th>\n",
       "      <th>('weightless', 'weighty')</th>\n",
       "      <th>('winged', 'wingless')</th>\n",
       "      <th>('wired', 'wireless')</th>\n",
       "    </tr>\n",
       "  </thead>\n",
       "  <tbody>\n",
       "    <tr>\n",
       "      <th>0</th>\n",
       "      <td>Trump</td>\n",
       "      <td>rt @skynews: oxford's covid vaccine is reporte...</td>\n",
       "      <td>0.002741</td>\n",
       "      <td>0.013377</td>\n",
       "      <td>0.006402</td>\n",
       "      <td>0.007055</td>\n",
       "      <td>0.006935</td>\n",
       "      <td>0.007788</td>\n",
       "      <td>0.004118</td>\n",
       "      <td>0.003777</td>\n",
       "      <td>...</td>\n",
       "      <td>0.003162</td>\n",
       "      <td>0.004879</td>\n",
       "      <td>0.004386</td>\n",
       "      <td>0.006235</td>\n",
       "      <td>0.005742</td>\n",
       "      <td>0.004463</td>\n",
       "      <td>0.005146</td>\n",
       "      <td>0.002878</td>\n",
       "      <td>0.006083</td>\n",
       "      <td>0.007640</td>\n",
       "    </tr>\n",
       "    <tr>\n",
       "      <th>1</th>\n",
       "      <td>Trump</td>\n",
       "      <td>rt @jsolomonreports: florida democratic party ...</td>\n",
       "      <td>0.002277</td>\n",
       "      <td>0.008078</td>\n",
       "      <td>0.006774</td>\n",
       "      <td>0.005208</td>\n",
       "      <td>0.006802</td>\n",
       "      <td>0.004672</td>\n",
       "      <td>0.002750</td>\n",
       "      <td>0.003560</td>\n",
       "      <td>...</td>\n",
       "      <td>0.001740</td>\n",
       "      <td>0.005490</td>\n",
       "      <td>0.002793</td>\n",
       "      <td>0.006234</td>\n",
       "      <td>0.002529</td>\n",
       "      <td>0.002285</td>\n",
       "      <td>0.002804</td>\n",
       "      <td>0.002085</td>\n",
       "      <td>0.005944</td>\n",
       "      <td>0.004972</td>\n",
       "    </tr>\n",
       "    <tr>\n",
       "      <th>2</th>\n",
       "      <td>Trump</td>\n",
       "      <td>rt @franklin_graham: .@thehermancain, a great ...</td>\n",
       "      <td>0.002162</td>\n",
       "      <td>0.024327</td>\n",
       "      <td>0.009242</td>\n",
       "      <td>0.005432</td>\n",
       "      <td>0.012484</td>\n",
       "      <td>0.004337</td>\n",
       "      <td>0.002974</td>\n",
       "      <td>0.004223</td>\n",
       "      <td>...</td>\n",
       "      <td>0.003033</td>\n",
       "      <td>0.006773</td>\n",
       "      <td>0.004273</td>\n",
       "      <td>0.012000</td>\n",
       "      <td>0.005021</td>\n",
       "      <td>0.003300</td>\n",
       "      <td>0.006852</td>\n",
       "      <td>0.001325</td>\n",
       "      <td>0.003230</td>\n",
       "      <td>0.006565</td>\n",
       "    </tr>\n",
       "    <tr>\n",
       "      <th>3</th>\n",
       "      <td>Trump</td>\n",
       "      <td>rt @actforamerica: imagine if the left was foc...</td>\n",
       "      <td>0.004429</td>\n",
       "      <td>0.007223</td>\n",
       "      <td>0.007882</td>\n",
       "      <td>0.004167</td>\n",
       "      <td>0.006658</td>\n",
       "      <td>0.003974</td>\n",
       "      <td>0.002623</td>\n",
       "      <td>0.003528</td>\n",
       "      <td>...</td>\n",
       "      <td>0.007063</td>\n",
       "      <td>0.002775</td>\n",
       "      <td>0.004628</td>\n",
       "      <td>0.009032</td>\n",
       "      <td>0.004815</td>\n",
       "      <td>0.007200</td>\n",
       "      <td>0.002255</td>\n",
       "      <td>0.002597</td>\n",
       "      <td>0.004350</td>\n",
       "      <td>0.003808</td>\n",
       "    </tr>\n",
       "    <tr>\n",
       "      <th>4</th>\n",
       "      <td>Trump</td>\n",
       "      <td>rt @teamtrump: thanks to unprecedented action ...</td>\n",
       "      <td>NaN</td>\n",
       "      <td>NaN</td>\n",
       "      <td>NaN</td>\n",
       "      <td>NaN</td>\n",
       "      <td>NaN</td>\n",
       "      <td>NaN</td>\n",
       "      <td>NaN</td>\n",
       "      <td>NaN</td>\n",
       "      <td>...</td>\n",
       "      <td>NaN</td>\n",
       "      <td>NaN</td>\n",
       "      <td>NaN</td>\n",
       "      <td>NaN</td>\n",
       "      <td>NaN</td>\n",
       "      <td>NaN</td>\n",
       "      <td>NaN</td>\n",
       "      <td>NaN</td>\n",
       "      <td>NaN</td>\n",
       "      <td>NaN</td>\n",
       "    </tr>\n",
       "  </tbody>\n",
       "</table>\n",
       "<p>5 rows × 1369 columns</p>\n",
       "</div>"
      ],
      "text/plain": [
       "   party                                               text  \\\n",
       "0  Trump  rt @skynews: oxford's covid vaccine is reporte...   \n",
       "1  Trump  rt @jsolomonreports: florida democratic party ...   \n",
       "2  Trump  rt @franklin_graham: .@thehermancain, a great ...   \n",
       "3  Trump  rt @actforamerica: imagine if the left was foc...   \n",
       "4  Trump  rt @teamtrump: thanks to unprecedented action ...   \n",
       "\n",
       "   ('abaxial', 'adaxial')  ('able', 'unable')  ('abnormal', 'normal')  \\\n",
       "0                0.002741            0.013377                0.006402   \n",
       "1                0.002277            0.008078                0.006774   \n",
       "2                0.002162            0.024327                0.009242   \n",
       "3                0.004429            0.007223                0.007882   \n",
       "4                     NaN                 NaN                     NaN   \n",
       "\n",
       "   ('aboral', 'oral')  ('abridged', 'unabridged')  ('absent', 'present')  \\\n",
       "0            0.007055                    0.006935               0.007788   \n",
       "1            0.005208                    0.006802               0.004672   \n",
       "2            0.005432                    0.012484               0.004337   \n",
       "3            0.004167                    0.006658               0.003974   \n",
       "4                 NaN                         NaN                    NaN   \n",
       "\n",
       "   ('absolute', 'relative')  ('abstemious', 'gluttonous')  ...  \\\n",
       "0                  0.004118                      0.003777  ...   \n",
       "1                  0.002750                      0.003560  ...   \n",
       "2                  0.002974                      0.004223  ...   \n",
       "3                  0.002623                      0.003528  ...   \n",
       "4                       NaN                           NaN  ...   \n",
       "\n",
       "   ('unwrinkled', 'wrinkled')  ('unwritten', 'written')  \\\n",
       "0                    0.003162                  0.004879   \n",
       "1                    0.001740                  0.005490   \n",
       "2                    0.003033                  0.006773   \n",
       "3                    0.007063                  0.002775   \n",
       "4                         NaN                       NaN   \n",
       "\n",
       "   ('useful', 'useless')  ('valuable', 'worthless')  ('vernal', 'wintry')  \\\n",
       "0               0.004386                   0.006235              0.005742   \n",
       "1               0.002793                   0.006234              0.002529   \n",
       "2               0.004273                   0.012000              0.005021   \n",
       "3               0.004628                   0.009032              0.004815   \n",
       "4                    NaN                        NaN                   NaN   \n",
       "\n",
       "   ('virtuous', 'wicked')  ('waning', 'waxing')  ('weightless', 'weighty')  \\\n",
       "0                0.004463              0.005146                   0.002878   \n",
       "1                0.002285              0.002804                   0.002085   \n",
       "2                0.003300              0.006852                   0.001325   \n",
       "3                0.007200              0.002255                   0.002597   \n",
       "4                     NaN                   NaN                        NaN   \n",
       "\n",
       "   ('winged', 'wingless')  ('wired', 'wireless')  \n",
       "0                0.006083               0.007640  \n",
       "1                0.005944               0.004972  \n",
       "2                0.003230               0.006565  \n",
       "3                0.004350               0.003808  \n",
       "4                     NaN                    NaN  \n",
       "\n",
       "[5 rows x 1369 columns]"
      ]
     },
     "execution_count": 72,
     "metadata": {},
     "output_type": "execute_result"
    }
   ],
   "source": [
    "df_trump.head()"
   ]
  },
  {
   "cell_type": "code",
   "execution_count": 61,
   "metadata": {},
   "outputs": [
    {
     "data": {
      "text/html": [
       "<div>\n",
       "<style scoped>\n",
       "    .dataframe tbody tr th:only-of-type {\n",
       "        vertical-align: middle;\n",
       "    }\n",
       "\n",
       "    .dataframe tbody tr th {\n",
       "        vertical-align: top;\n",
       "    }\n",
       "\n",
       "    .dataframe thead th {\n",
       "        text-align: right;\n",
       "    }\n",
       "</style>\n",
       "<table border=\"1\" class=\"dataframe\">\n",
       "  <thead>\n",
       "    <tr style=\"text-align: right;\">\n",
       "      <th></th>\n",
       "      <th>('decreased', 'increased')</th>\n",
       "      <th>('sure', 'unsure')</th>\n",
       "      <th>('critical', 'noncritical')</th>\n",
       "      <th>('financial', 'nonfinancial')</th>\n",
       "      <th>('live', 'recorded')</th>\n",
       "      <th>('dead', 'live')</th>\n",
       "      <th>('available', 'unavailable')</th>\n",
       "      <th>('paid', 'unpaid')</th>\n",
       "      <th>('private', 'public')</th>\n",
       "      <th>('bound', 'free')</th>\n",
       "      <th>...</th>\n",
       "      <th>('large', 'small')</th>\n",
       "      <th>('eligible', 'ineligible')</th>\n",
       "      <th>('empty', 'full')</th>\n",
       "      <th>('insecure', 'secure')</th>\n",
       "      <th>('helpful', 'unhelpful')</th>\n",
       "      <th>('first', 'last')</th>\n",
       "      <th>('affected', 'unaffected')</th>\n",
       "      <th>('fast', 'slow')</th>\n",
       "      <th>party</th>\n",
       "      <th>text</th>\n",
       "    </tr>\n",
       "  </thead>\n",
       "  <tbody>\n",
       "    <tr>\n",
       "      <th>25101</th>\n",
       "      <td>0.008118</td>\n",
       "      <td>0.012171</td>\n",
       "      <td>0.018185</td>\n",
       "      <td>0.013930</td>\n",
       "      <td>0.010891</td>\n",
       "      <td>0.015763</td>\n",
       "      <td>0.018609</td>\n",
       "      <td>0.006333</td>\n",
       "      <td>0.012992</td>\n",
       "      <td>0.019662</td>\n",
       "      <td>...</td>\n",
       "      <td>0.017983</td>\n",
       "      <td>0.01291</td>\n",
       "      <td>0.016375</td>\n",
       "      <td>0.011395</td>\n",
       "      <td>0.016571</td>\n",
       "      <td>0.006406</td>\n",
       "      <td>0.014408</td>\n",
       "      <td>0.005816</td>\n",
       "      <td>Rep</td>\n",
       "      <td>rt @skynews: oxford's covid vaccine is reporte...</td>\n",
       "    </tr>\n",
       "    <tr>\n",
       "      <th>25102</th>\n",
       "      <td>0.009002</td>\n",
       "      <td>0.010693</td>\n",
       "      <td>0.022257</td>\n",
       "      <td>0.016787</td>\n",
       "      <td>0.010643</td>\n",
       "      <td>0.010194</td>\n",
       "      <td>0.031417</td>\n",
       "      <td>0.008293</td>\n",
       "      <td>0.012784</td>\n",
       "      <td>0.014911</td>\n",
       "      <td>...</td>\n",
       "      <td>0.011758</td>\n",
       "      <td>0.00818</td>\n",
       "      <td>0.011947</td>\n",
       "      <td>0.004097</td>\n",
       "      <td>0.010800</td>\n",
       "      <td>0.004034</td>\n",
       "      <td>0.012004</td>\n",
       "      <td>0.005770</td>\n",
       "      <td>Rep</td>\n",
       "      <td>rt @jsolomonreports: florida democratic party ...</td>\n",
       "    </tr>\n",
       "  </tbody>\n",
       "</table>\n",
       "<p>2 rows × 22 columns</p>\n",
       "</div>"
      ],
      "text/plain": [
       "       ('decreased', 'increased')  ('sure', 'unsure')  \\\n",
       "25101                    0.008118            0.012171   \n",
       "25102                    0.009002            0.010693   \n",
       "\n",
       "       ('critical', 'noncritical')  ('financial', 'nonfinancial')  \\\n",
       "25101                     0.018185                       0.013930   \n",
       "25102                     0.022257                       0.016787   \n",
       "\n",
       "       ('live', 'recorded')  ('dead', 'live')  ('available', 'unavailable')  \\\n",
       "25101              0.010891          0.015763                      0.018609   \n",
       "25102              0.010643          0.010194                      0.031417   \n",
       "\n",
       "       ('paid', 'unpaid')  ('private', 'public')  ('bound', 'free')  ...  \\\n",
       "25101            0.006333               0.012992           0.019662  ...   \n",
       "25102            0.008293               0.012784           0.014911  ...   \n",
       "\n",
       "       ('large', 'small')  ('eligible', 'ineligible')  ('empty', 'full')  \\\n",
       "25101            0.017983                     0.01291           0.016375   \n",
       "25102            0.011758                     0.00818           0.011947   \n",
       "\n",
       "       ('insecure', 'secure')  ('helpful', 'unhelpful')  ('first', 'last')  \\\n",
       "25101                0.011395                  0.016571           0.006406   \n",
       "25102                0.004097                  0.010800           0.004034   \n",
       "\n",
       "       ('affected', 'unaffected')  ('fast', 'slow')  party  \\\n",
       "25101                    0.014408          0.005816    Rep   \n",
       "25102                    0.012004          0.005770    Rep   \n",
       "\n",
       "                                                    text  \n",
       "25101  rt @skynews: oxford's covid vaccine is reporte...  \n",
       "25102  rt @jsolomonreports: florida democratic party ...  \n",
       "\n",
       "[2 rows x 22 columns]"
      ]
     },
     "execution_count": 61,
     "metadata": {},
     "output_type": "execute_result"
    }
   ],
   "source": [
    "df_text_rep.head(2)"
   ]
  },
  {
   "cell_type": "code",
   "execution_count": 62,
   "metadata": {},
   "outputs": [],
   "source": [
    "# len(df), len(df.drop_duplicates())"
   ]
  },
  {
   "cell_type": "code",
   "execution_count": 65,
   "metadata": {},
   "outputs": [],
   "source": [
    "top_dem_tweet = get_top_tweet(df_text_dem, 'dem')"
   ]
  },
  {
   "cell_type": "code",
   "execution_count": 67,
   "metadata": {},
   "outputs": [
    {
     "data": {
      "text/html": [
       "<div>\n",
       "<style scoped>\n",
       "    .dataframe tbody tr th:only-of-type {\n",
       "        vertical-align: middle;\n",
       "    }\n",
       "\n",
       "    .dataframe tbody tr th {\n",
       "        vertical-align: top;\n",
       "    }\n",
       "\n",
       "    .dataframe thead th {\n",
       "        text-align: right;\n",
       "    }\n",
       "</style>\n",
       "<table border=\"1\" class=\"dataframe\">\n",
       "  <thead>\n",
       "    <tr style=\"text-align: right;\">\n",
       "      <th></th>\n",
       "      <th>axis</th>\n",
       "      <th>top_text</th>\n",
       "    </tr>\n",
       "  </thead>\n",
       "  <tbody>\n",
       "    <tr>\n",
       "      <th>0</th>\n",
       "      <td>('decreased', 'increased')</td>\n",
       "      <td>[check to see if you qualify for paid sick lea...</td>\n",
       "    </tr>\n",
       "    <tr>\n",
       "      <th>1</th>\n",
       "      <td>('sure', 'unsure')</td>\n",
       "      <td>[#md02 constituents, unsure where to turn for ...</td>\n",
       "    </tr>\n",
       "    <tr>\n",
       "      <th>2</th>\n",
       "      <td>('critical', 'noncritical')</td>\n",
       "      <td>[rt @frankpallone: .@who is critical in the fi...</td>\n",
       "    </tr>\n",
       "    <tr>\n",
       "      <th>3</th>\n",
       "      <td>('financial', 'nonfinancial')</td>\n",
       "      <td>[thank you, @abigaildisney, for looking out fo...</td>\n",
       "    </tr>\n",
       "    <tr>\n",
       "      <th>4</th>\n",
       "      <td>('live', 'recorded')</td>\n",
       "      <td>[tune in now: i'm hosting a facebook live town...</td>\n",
       "    </tr>\n",
       "    <tr>\n",
       "      <th>5</th>\n",
       "      <td>('dead', 'live')</td>\n",
       "      <td>[tune in now: i'm hosting a facebook live town...</td>\n",
       "    </tr>\n",
       "    <tr>\n",
       "      <th>6</th>\n",
       "      <td>('available', 'unavailable')</td>\n",
       "      <td>[more information is available from @cdcgov he...</td>\n",
       "    </tr>\n",
       "    <tr>\n",
       "      <th>7</th>\n",
       "      <td>('paid', 'unpaid')</td>\n",
       "      <td>[check to see if you qualify for paid sick lea...</td>\n",
       "    </tr>\n",
       "    <tr>\n",
       "      <th>8</th>\n",
       "      <td>('private', 'public')</td>\n",
       "      <td>[rt @indivisibleteam: medicines, like the covi...</td>\n",
       "    </tr>\n",
       "    <tr>\n",
       "      <th>9</th>\n",
       "      <td>('bound', 'free')</td>\n",
       "      <td>[free covid covid testing is available near yo...</td>\n",
       "    </tr>\n",
       "  </tbody>\n",
       "</table>\n",
       "</div>"
      ],
      "text/plain": [
       "                            axis  \\\n",
       "0     ('decreased', 'increased')   \n",
       "1             ('sure', 'unsure')   \n",
       "2    ('critical', 'noncritical')   \n",
       "3  ('financial', 'nonfinancial')   \n",
       "4           ('live', 'recorded')   \n",
       "5               ('dead', 'live')   \n",
       "6   ('available', 'unavailable')   \n",
       "7             ('paid', 'unpaid')   \n",
       "8          ('private', 'public')   \n",
       "9              ('bound', 'free')   \n",
       "\n",
       "                                            top_text  \n",
       "0  [check to see if you qualify for paid sick lea...  \n",
       "1  [#md02 constituents, unsure where to turn for ...  \n",
       "2  [rt @frankpallone: .@who is critical in the fi...  \n",
       "3  [thank you, @abigaildisney, for looking out fo...  \n",
       "4  [tune in now: i'm hosting a facebook live town...  \n",
       "5  [tune in now: i'm hosting a facebook live town...  \n",
       "6  [more information is available from @cdcgov he...  \n",
       "7  [check to see if you qualify for paid sick lea...  \n",
       "8  [rt @indivisibleteam: medicines, like the covi...  \n",
       "9  [free covid covid testing is available near yo...  "
      ]
     },
     "execution_count": 67,
     "metadata": {},
     "output_type": "execute_result"
    }
   ],
   "source": [
    "top_dem_tweet"
   ]
  },
  {
   "cell_type": "code",
   "execution_count": 66,
   "metadata": {},
   "outputs": [
    {
     "name": "stdout",
     "output_type": "stream",
     "text": [
      "('decreased', 'increased')\n",
      "['check to see if you qualify for paid sick leave because of the covid here 👇 ', 'rt @facttank: new: as covid spreads, which u.s workers have paid sick leave – and which don’t? ', 'rt @facttank: new: as covid spreads, which u.s workers have paid sick leave – and which don’t? ', 'i stand with @pattymurray and @sengillibrand and support the paid leave act to provide additional support to workers &amp; businesses for paid family and sick leave during the covid outbreak. ', 'today, the house will vote on our next covid response legislation to provide americans w/paid family and medical leave, increased federal medicaid funds to support our state public health partners, free testing, &amp; emergency sick leave for those impacted by the virus. (2/3)']\n",
      "\n",
      "('sure', 'unsure')\n",
      "['#md02 constituents, unsure where to turn for local covid resources? check out the below graphic for the hotline for your county. ', 'the least the president can do is make sure they have the equipment they need. covid 3/3', \"the response to covid needs to help all americans. i'm working with my colleagues to make sure that it does. \", 'we must make sure the aviation sector is prepared to help mitigate the impacts of covid spread. covidwa covidseattle ', '💯! make sure to also check out these resources from my office related to the covid. link here: ']\n",
      "\n",
      "('critical', 'noncritical')\n",
      "['rt @frankpallone: .@who is critical in the fight against the covid pandemic. trump must work with the world’s premier public health…', 'rt @uazmedphx: to address the critical needs of the navajo nation during the covid outbreak, #uazmedphx, @repgregstanton, as well as…', 'rt @uazmedphx: to address the critical needs of the navajo nation during the covid outbreak, #uazmedphx, @repgregstanton, as well as…', 'it is critical that we ensure those who have access to any covid vaccine are not the privileged few, but the many who actually need it most. ', '.@who is critical in the fight against the covid pandemic. trump must work with the world’s premier public health agency to end this crisis. ']\n",
      "\n",
      "('financial', 'nonfinancial')\n",
      "['thank you, @abigaildisney, for looking out for the most vulnerable affected by the financial repercussions of covid. ', 'rt @repmalinowski: \"the covid will prey not just on the health of americans but their financial wellbeing. in its next bill respondin…', 'may 1 is quickly approaching, and i know that many marylanders are experiencing severe financial hardship because of the covid. in this thread you’ll find information about financial assistance available in md.', 'arizona restaurant workers: if you’ve lost pay due to covid, you can apply for immediate financial assistance here ➡️ ', 'rt @repsusanwild: small businesses have suffered significant financial losses because of the covid. i’m proud to support our emergen…']\n",
      "\n",
      "('live', 'recorded')\n",
      "[\"tune in now: i'm hosting a facebook live town hall with @repbillfoster and @repcasten. we will be answering your questions on covid. watch live here: \", 'tune in now for my facebook live covid town hall with @stevelockhartmd of @sutterhealth: ', 'i am #live now on facebook addressing your questions and concerns about the covid. tune in here:  ', 'i’m live on @wwlp22news discussing the covid and the response from @waysmeanscmte and the federal government. tune in at 5, 5:30, 6, and 11pm. watch live on ', 'icymi, you can watch my facebook live briefing on covid with dr. gayles here: ']\n",
      "\n",
      "('dead', 'live')\n",
      "[\"tune in now: i'm hosting a facebook live town hall with @repbillfoster and @repcasten. we will be answering your questions on covid. watch live here: \", 'i am #live now on facebook addressing your questions and concerns about the covid. tune in here:  ', 'tune in now for my facebook live covid town hall with @stevelockhartmd of @sutterhealth: ', 'as of 2pm today 1,700 people in my state new jersey are tragically dead from covid and 16,642 americans are dead across the country. ', 'happening now: @mayorkeller &amp; i will be giving the covid update live on facebook: ']\n",
      "\n",
      "('available', 'unavailable')\n",
      "['more information is available from @cdcgov here: covidupdates covidus', 'free covid covid testing is available near you. ⬇️ ', 'rt @sfpelosi: 77,000 americans killed by covid unavailable for comment.', 'for covid-related information, available resources, and answers to frequently asked questions, please visit ', 'are you a small business owner in maryland looking for information on what resources are available to you during the covid pandemic? click here to visit my website and learn more: ']\n",
      "\n",
      "('paid', 'unpaid')\n",
      "['check to see if you qualify for paid sick leave because of the covid here 👇 ', 'rt @facttank: new: as covid spreads, which u.s workers have paid sick leave – and which don’t? ', 'rt @facttank: new: as covid spreads, which u.s workers have paid sick leave – and which don’t? ', 'i stand with @pattymurray and @sengillibrand and support the paid leave act to provide additional support to workers &amp; businesses for paid family and sick leave during the covid outbreak. ', 'testing, testing, testing. the bill makes sure that covid testing is free for all americans.']\n",
      "\n",
      "('private', 'public')\n",
      "['rt @indivisibleteam: medicines, like the covid vaccine, that are developed with public money should benefit public health, not create…', '@unitedwaydenver @cohealth coloradans can call the cohelp line for the latest public health information on the covid at 1-877-462-2911.', 'rt @bryan_pietsch: healthcare workers battling the covid would have their public and private student loans forgiven under a new bill…', '1/ today, i announced several policies as part of the district’s re-imagination of public space during the ongoing covid public health emergency, including the buildout of “streateries.”', \"rt @delaware_dhss: the del. div. of public health's covid call center is open to take questions from the public, schools, medical pro…\"]\n",
      "\n",
      "('bound', 'free')\n",
      "['free covid covid testing is available near you. ⬇️ ', 'today’s free, covid covid testing sites ⬇️ ', 'testing, testing, testing. the bill makes sure that covid testing is free for all americans.', '2. we need widespread and free covid testing, and affordable treatment for all.', 'free drive-thru covid testing is now available at hospitals in albuquerque. ']\n",
      "\n"
     ]
    }
   ],
   "source": [
    "for i in range(len(top_dem_tweet)):\n",
    "    print(top_dem_tweet.axis.tolist()[i])\n",
    "    print(top_dem_tweet.top_text.tolist()[i])\n",
    "    print()"
   ]
  },
  {
   "cell_type": "code",
   "execution_count": 68,
   "metadata": {},
   "outputs": [],
   "source": [
    "top_rep_tweet = get_top_tweet(df_text_rep, 'rep')"
   ]
  },
  {
   "cell_type": "code",
   "execution_count": 69,
   "metadata": {},
   "outputs": [
    {
     "name": "stdout",
     "output_type": "stream",
     "text": [
      "('declared', 'undeclared')\n",
      "['my statement after president @realdonaldtrump declared a #nationalemergency to respond to covid. ', 'the first public health emergency was declared on march 6 and allows the state to increase coordination across all levels of government in the state’s response to covid.', 'president @realdonaldtrump has declared today as national day of prayer. please join me in praying for our country as we continue to respond to the covid pandemic.', 'president @realdonaldtrump has declared today as national day of prayer. please join me in praying for our country as we continue to respond to the covid pandemic.', 'earlier this afternoon, i declared a state of emergency to help utah prepare for diagnoses of covid in our state. this means we are in a state of readiness. watch this video to learn more. covid ']\n",
      "\n",
      "('important', 'unimportant')\n",
      "['important information for you and your family about the covid ', 'important information from @cdcgov regarding covid ⤵️ ', 'important information from @cdcgov regarding covid ⤵️ ', 'important covid update from the @deptofdefense in the thread below. ', 'follow @statehealthin for important updates on the covid ➡️ ']\n",
      "\n",
      "('large', 'small')\n",
      "['if you own or work for a small business affected by the covid pandemic, visit my website for information on support for small businesses ➡️ ', 'visit learn about the epcc’s grant program for small businesses impacted by the covid ➡️find more helpful ecpp small business resources ➡️', 'welcomed news for georgia small business owners. @sbagov emergency loans are now available to impacted businesses in all 159 counties. covid ', 'attn az small businesses: federal disaster relief loans are now available through the @sbagov if you’ve been impacted by the covid! learn more  ⬇️ ', 'hoosier small business owners with questions about how to apply for loans, debt relief, and other assistance during the covid crisis should visit @sbagov']\n",
      "\n",
      "('eligible', 'ineligible')\n",
      "['alabamians laid off or unpaid due to covid are eligible for unemployment compensation ', 'rt @oronline: if you work in pennsylvania and the novel covid has affected your job, you may be eligible for benefits. ', 'rt @oronline: if you work in pennsylvania and the novel covid has affected your job, you may be eligible for benefits. ', 'small businesses: you may be eligible for up to $2 million in @sbagov low-interest loans if your business has been affected by the covid. these loans can help fill your working capital needs. non-profits may also be eligible. apply online here: ', 'hoosier small businesses facing challenges due to the covid pandemic are now eligible to apply for low-interest @sbagov disaster assistance loans. learn more and submit an application here: ']\n",
      "\n",
      "('empty', 'full')\n",
      "['read here: my full statement in support of the covid relief legislation the house just passed.  ', 'my full statement on presumptive covid cases in south dakota ⬇ ', \"see my full statement on president @realdonaldtrump's new actions to fight covid here ⤵ \", 'sad to see @mikesdancebarn1 when it’s this empty. music venues like mike’s, @thebluebirdbar, &amp; @billmonroemusic need more assistance to survive covid closures. congress needs to pass my restart act to support the jobs these venues provide. #saveourstages ', 'i voted yes on the cares act today to bring relief to workers and families affected by the covid. read my full statement here: ']\n",
      "\n",
      "('insecure', 'secure')\n",
      "['rt @waysandmeansgop: in the phase three package to secure our economy as we fight against covid, @ustreasury secretary @stevenmnuchi…', 'i also thank our brave frontline @tsa officers for the risks they face on our behalf, continuing to keep our nation safe &amp; secure in the covid pandemic.', 'rt @waysandmeansgop: dems voted against the phase three package to secure our economy as we fight against covid. this package includ…', 'rt @waysandmeansgop: workers and families need a long-term plan to fight covid, make america more medically independent and secure, a…', 'rt @waysandmeansgop: workers and families need a long-term plan to fight covid, make america more medically independent and secure, a…']\n",
      "\n",
      "('helpful', 'unhelpful')\n",
      "['this is a helpful resource for hoosiers to stay updated on covid ', \"here's some helpful information on covid for pregnant women and parents from the @cdcgov. you can find these and other resources on my website at \", \"here's some helpful information on covid for pregnant women and parents from the @cdcgov. you can find these and other resources on my website at \", 'you can find more information on this covid at: ', 'continue to follow @cdcgov for the latest updates on the covid and helpful information. #mi06 ']\n",
      "\n",
      "('first', 'last')\n",
      "['love this. @starbucks is fueling our first responders on the frontlines of the covid crisis! #inittogether ', 'love this. @starbucks is fueling our first responders on the frontlines of the covid crisis! #inittogether ', 'rt @chadsabadie: .@repabraham: the first responders, you bring calm to chaos covid', 'rt @chadsabadie: .@repabraham: the first responders, you bring calm to chaos covid', 'rt @woodtv: .@rephuizenga pitches covid aid bill for doctors, nurses and other first responders: ']\n",
      "\n",
      "('affected', 'unaffected')\n",
      "['if you own or work for a small business affected by the covid pandemic, visit my website for information on support for small businesses ➡️ ', 'if you own a small business and your operations are being affected by covid you may be able to get assistance from @sbagov. more info here: ', 'if you own a small business and your operations are being affected by covid you may be able to get assistance from @sbagov. more info here: ', 'appeared on @foxbusiness to discuss congressional action being taken to help americans affected by covid ', 'rt @oronline: if you work in pennsylvania and the novel covid has affected your job, you may be eligible for benefits. ']\n",
      "\n",
      "('fast', 'slow')\n",
      "['do your part to slow the spread of the wuhan covid: ', 'we all need to do our part to slow the spread of the covid. here’s what you can do to help: ', 'we all need to do our part to slow the spread of the covid. here’s what you can do to help: ', 'rt @housegop: are you doing your part to slow the spread of the covid?👇 ', 'rt @housegop: are you doing your part to slow the spread of the covid?👇 ']\n",
      "\n"
     ]
    }
   ],
   "source": [
    "for i in range(len(top_rep_tweet)):\n",
    "    print(top_rep_tweet.axis.tolist()[i])\n",
    "    print(top_rep_tweet.top_text.tolist()[i])\n",
    "    print()"
   ]
  },
  {
   "cell_type": "code",
   "execution_count": null,
   "metadata": {},
   "outputs": [],
   "source": []
  }
 ],
 "metadata": {
  "kernelspec": {
   "display_name": "Python 3",
   "language": "python",
   "name": "python3"
  },
  "language_info": {
   "codemirror_mode": {
    "name": "ipython",
    "version": 3
   },
   "file_extension": ".py",
   "mimetype": "text/x-python",
   "name": "python",
   "nbconvert_exporter": "python",
   "pygments_lexer": "ipython3",
   "version": "3.7.7"
  }
 },
 "nbformat": 4,
 "nbformat_minor": 4
}
