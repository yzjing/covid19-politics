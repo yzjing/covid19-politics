{
 "cells": [
  {
   "cell_type": "code",
   "execution_count": 1,
   "metadata": {},
   "outputs": [],
   "source": [
    "from allennlp.modules.elmo import Elmo, batch_to_ids\n",
    "\n",
    "options_file = \"https://allennlp.s3.amazonaws.com/models/elmo/2x4096_512_2048cnn_2xhighway/elmo_2x4096_512_2048cnn_2xhighway_options.json\"\n",
    "weight_file = \"https://allennlp.s3.amazonaws.com/models/elmo/2x4096_512_2048cnn_2xhighway/elmo_2x4096_512_2048cnn_2xhighway_weights.hdf5\"\n"
   ]
  },
  {
   "cell_type": "code",
   "execution_count": 131,
   "metadata": {},
   "outputs": [],
   "source": [
    "import pandas as pd\n",
    "from scipy.spatial.distance import cosine\n",
    "import pickle"
   ]
  },
  {
   "cell_type": "code",
   "execution_count": 3,
   "metadata": {},
   "outputs": [],
   "source": [
    "\n",
    "# Compute two different representation for each token.\n",
    "# Each representation is a linear weighted combination for the\n",
    "# 3 layers in ELMo (i.e., charcnn, the outputs of the two BiLSTM))\n",
    "elmo = Elmo(options_file, weight_file, 1, dropout=0)\n"
   ]
  },
  {
   "cell_type": "code",
   "execution_count": 134,
   "metadata": {},
   "outputs": [],
   "source": [
    "df = pd.read_csv('dem_srl_df.tsv', sep='\\t')"
   ]
  },
  {
   "cell_type": "code",
   "execution_count": 135,
   "metadata": {},
   "outputs": [
    {
     "data": {
      "text/html": [
       "<div>\n",
       "<style scoped>\n",
       "    .dataframe tbody tr th:only-of-type {\n",
       "        vertical-align: middle;\n",
       "    }\n",
       "\n",
       "    .dataframe tbody tr th {\n",
       "        vertical-align: top;\n",
       "    }\n",
       "\n",
       "    .dataframe thead th {\n",
       "        text-align: right;\n",
       "    }\n",
       "</style>\n",
       "<table border=\"1\" class=\"dataframe\">\n",
       "  <thead>\n",
       "    <tr style=\"text-align: right;\">\n",
       "      <th></th>\n",
       "      <th>Text</th>\n",
       "      <th>Verb_annotation</th>\n",
       "    </tr>\n",
       "  </thead>\n",
       "  <tbody>\n",
       "    <tr>\n",
       "      <th>0</th>\n",
       "      <td>['We', 'had', 'our', 'own', 'bad', 'weather', ...</td>\n",
       "      <td>{'verb': 'had', 'description': \"[ARG0: We] [V:...</td>\n",
       "    </tr>\n",
       "    <tr>\n",
       "      <th>1</th>\n",
       "      <td>['We', 'had', 'our', 'own', 'bad', 'weather', ...</td>\n",
       "      <td>{'verb': \"'re\", 'description': \"We had our own...</td>\n",
       "    </tr>\n",
       "    <tr>\n",
       "      <th>2</th>\n",
       "      <td>['We', 'had', 'our', 'own', 'bad', 'weather', ...</td>\n",
       "      <td>{'verb': 'thinking', 'description': \"We had ou...</td>\n",
       "    </tr>\n",
       "    <tr>\n",
       "      <th>3</th>\n",
       "      <td>['We', 'had', 'our', 'own', 'bad', 'weather', ...</td>\n",
       "      <td>{'verb': 'were', 'description': \"We had our ow...</td>\n",
       "    </tr>\n",
       "    <tr>\n",
       "      <th>4</th>\n",
       "      <td>['We', 'had', 'our', 'own', 'bad', 'weather', ...</td>\n",
       "      <td>{'verb': 'hit', 'description': \"We had our own...</td>\n",
       "    </tr>\n",
       "  </tbody>\n",
       "</table>\n",
       "</div>"
      ],
      "text/plain": [
       "                                                Text  \\\n",
       "0  ['We', 'had', 'our', 'own', 'bad', 'weather', ...   \n",
       "1  ['We', 'had', 'our', 'own', 'bad', 'weather', ...   \n",
       "2  ['We', 'had', 'our', 'own', 'bad', 'weather', ...   \n",
       "3  ['We', 'had', 'our', 'own', 'bad', 'weather', ...   \n",
       "4  ['We', 'had', 'our', 'own', 'bad', 'weather', ...   \n",
       "\n",
       "                                     Verb_annotation  \n",
       "0  {'verb': 'had', 'description': \"[ARG0: We] [V:...  \n",
       "1  {'verb': \"'re\", 'description': \"We had our own...  \n",
       "2  {'verb': 'thinking', 'description': \"We had ou...  \n",
       "3  {'verb': 'were', 'description': \"We had our ow...  \n",
       "4  {'verb': 'hit', 'description': \"We had our own...  "
      ]
     },
     "execution_count": 135,
     "metadata": {},
     "output_type": "execute_result"
    }
   ],
   "source": [
    "df.head()"
   ]
  },
  {
   "cell_type": "code",
   "execution_count": 136,
   "metadata": {},
   "outputs": [
    {
     "data": {
      "text/plain": [
       "90894"
      ]
     },
     "execution_count": 136,
     "metadata": {},
     "output_type": "execute_result"
    }
   ],
   "source": [
    "len(df)"
   ]
  },
  {
   "cell_type": "code",
   "execution_count": 137,
   "metadata": {},
   "outputs": [],
   "source": [
    "all_text = df.Text.drop_duplicates().tolist()"
   ]
  },
  {
   "cell_type": "code",
   "execution_count": 138,
   "metadata": {},
   "outputs": [
    {
     "data": {
      "text/plain": [
       "28869"
      ]
     },
     "execution_count": 138,
     "metadata": {},
     "output_type": "execute_result"
    }
   ],
   "source": [
    "len(all_text)"
   ]
  },
  {
   "cell_type": "code",
   "execution_count": null,
   "metadata": {},
   "outputs": [],
   "source": [
    "batch_size = 64\n",
    "start = 0\n",
    "all_embeddings = []\n",
    "while start < len(all_text):\n",
    "    batch = all_text[start: start+batch_size]\n",
    "    character_ids = batch_to_ids(batch)\n",
    "    emb = elmo(character_ids)['elmo_representations']\n",
    "    for item in emb[0]:\n",
    "        all_embeddings.append(item)\n",
    "    start += batch_size"
   ]
  },
  {
   "cell_type": "code",
   "execution_count": 39,
   "metadata": {},
   "outputs": [],
   "source": [
    "all_embeddings_np = [e.detach().numpy() for e in all_embeddings]"
   ]
  },
  {
   "cell_type": "code",
   "execution_count": 40,
   "metadata": {},
   "outputs": [],
   "source": [
    "df_text_embeddings = pd.DataFrame(zip(df_text[0:11455], all_embeddings_np), columns=['Text', 'Embeddings'])"
   ]
  },
  {
   "cell_type": "code",
   "execution_count": 41,
   "metadata": {},
   "outputs": [
    {
     "data": {
      "text/html": [
       "<div>\n",
       "<style scoped>\n",
       "    .dataframe tbody tr th:only-of-type {\n",
       "        vertical-align: middle;\n",
       "    }\n",
       "\n",
       "    .dataframe tbody tr th {\n",
       "        vertical-align: top;\n",
       "    }\n",
       "\n",
       "    .dataframe thead th {\n",
       "        text-align: right;\n",
       "    }\n",
       "</style>\n",
       "<table border=\"1\" class=\"dataframe\">\n",
       "  <thead>\n",
       "    <tr style=\"text-align: right;\">\n",
       "      <th></th>\n",
       "      <th>Text</th>\n",
       "      <th>Embeddings</th>\n",
       "    </tr>\n",
       "  </thead>\n",
       "  <tbody>\n",
       "    <tr>\n",
       "      <th>0</th>\n",
       "      <td>['We', 'had', 'our', 'own', 'bad', 'weather', ...</td>\n",
       "      <td>[[0.02317109, -0.7599905, -0.66356254, -0.4027...</td>\n",
       "    </tr>\n",
       "    <tr>\n",
       "      <th>1</th>\n",
       "      <td>['We', 'are', 'with', 'you', 'in', 'spirit', '...</td>\n",
       "      <td>[[0.046381567, -0.75730634, -0.65926844, -0.39...</td>\n",
       "    </tr>\n",
       "    <tr>\n",
       "      <th>2</th>\n",
       "      <td>['RT', '@AGNeronha', ':', 'Questions', 'about'...</td>\n",
       "      <td>[[0.041496996, -0.7381885, -0.64177155, -0.373...</td>\n",
       "    </tr>\n",
       "    <tr>\n",
       "      <th>3</th>\n",
       "      <td>['RI', \"'s\", '@AGNeronha', 'is', 'leading', 'e...</td>\n",
       "      <td>[[0.065919176, -0.75744694, -0.64841074, -0.39...</td>\n",
       "    </tr>\n",
       "    <tr>\n",
       "      <th>4</th>\n",
       "      <td>['If', 'you', 'see', 'a', '#', 'COVID19scam', ...</td>\n",
       "      <td>[[0.012046866, -0.8399536, -0.46612412, -0.552...</td>\n",
       "    </tr>\n",
       "  </tbody>\n",
       "</table>\n",
       "</div>"
      ],
      "text/plain": [
       "                                                Text  \\\n",
       "0  ['We', 'had', 'our', 'own', 'bad', 'weather', ...   \n",
       "1  ['We', 'are', 'with', 'you', 'in', 'spirit', '...   \n",
       "2  ['RT', '@AGNeronha', ':', 'Questions', 'about'...   \n",
       "3  ['RI', \"'s\", '@AGNeronha', 'is', 'leading', 'e...   \n",
       "4  ['If', 'you', 'see', 'a', '#', 'COVID19scam', ...   \n",
       "\n",
       "                                          Embeddings  \n",
       "0  [[0.02317109, -0.7599905, -0.66356254, -0.4027...  \n",
       "1  [[0.046381567, -0.75730634, -0.65926844, -0.39...  \n",
       "2  [[0.041496996, -0.7381885, -0.64177155, -0.373...  \n",
       "3  [[0.065919176, -0.75744694, -0.64841074, -0.39...  \n",
       "4  [[0.012046866, -0.8399536, -0.46612412, -0.552...  "
      ]
     },
     "execution_count": 41,
     "metadata": {},
     "output_type": "execute_result"
    }
   ],
   "source": [
    "df_text_embeddings.head()"
   ]
  },
  {
   "cell_type": "code",
   "execution_count": 89,
   "metadata": {},
   "outputs": [],
   "source": [
    "df_srl_emb = pd.merge(df, df_text_embeddings, on='Text', how='inner')"
   ]
  },
  {
   "cell_type": "code",
   "execution_count": 109,
   "metadata": {},
   "outputs": [
    {
     "data": {
      "text/html": [
       "<div>\n",
       "<style scoped>\n",
       "    .dataframe tbody tr th:only-of-type {\n",
       "        vertical-align: middle;\n",
       "    }\n",
       "\n",
       "    .dataframe tbody tr th {\n",
       "        vertical-align: top;\n",
       "    }\n",
       "\n",
       "    .dataframe thead th {\n",
       "        text-align: right;\n",
       "    }\n",
       "</style>\n",
       "<table border=\"1\" class=\"dataframe\">\n",
       "  <thead>\n",
       "    <tr style=\"text-align: right;\">\n",
       "      <th></th>\n",
       "      <th>Text</th>\n",
       "      <th>Verb_annotation</th>\n",
       "      <th>Embeddings</th>\n",
       "    </tr>\n",
       "  </thead>\n",
       "  <tbody>\n",
       "    <tr>\n",
       "      <th>0</th>\n",
       "      <td>['We', 'had', 'our', 'own', 'bad', 'weather', ...</td>\n",
       "      <td>{'verb': 'had', 'description': \"[ARG0: We] [V:...</td>\n",
       "      <td>[[0.02317109, -0.7599905, -0.66356254, -0.4027...</td>\n",
       "    </tr>\n",
       "    <tr>\n",
       "      <th>1</th>\n",
       "      <td>['We', 'had', 'our', 'own', 'bad', 'weather', ...</td>\n",
       "      <td>{'verb': \"'re\", 'description': \"We had our own...</td>\n",
       "      <td>[[0.02317109, -0.7599905, -0.66356254, -0.4027...</td>\n",
       "    </tr>\n",
       "    <tr>\n",
       "      <th>2</th>\n",
       "      <td>['We', 'had', 'our', 'own', 'bad', 'weather', ...</td>\n",
       "      <td>{'verb': 'thinking', 'description': \"We had ou...</td>\n",
       "      <td>[[0.02317109, -0.7599905, -0.66356254, -0.4027...</td>\n",
       "    </tr>\n",
       "    <tr>\n",
       "      <th>3</th>\n",
       "      <td>['We', 'had', 'our', 'own', 'bad', 'weather', ...</td>\n",
       "      <td>{'verb': 'were', 'description': \"We had our ow...</td>\n",
       "      <td>[[0.02317109, -0.7599905, -0.66356254, -0.4027...</td>\n",
       "    </tr>\n",
       "    <tr>\n",
       "      <th>4</th>\n",
       "      <td>['We', 'had', 'our', 'own', 'bad', 'weather', ...</td>\n",
       "      <td>{'verb': 'hit', 'description': \"We had our own...</td>\n",
       "      <td>[[0.02317109, -0.7599905, -0.66356254, -0.4027...</td>\n",
       "    </tr>\n",
       "  </tbody>\n",
       "</table>\n",
       "</div>"
      ],
      "text/plain": [
       "                                                Text  \\\n",
       "0  ['We', 'had', 'our', 'own', 'bad', 'weather', ...   \n",
       "1  ['We', 'had', 'our', 'own', 'bad', 'weather', ...   \n",
       "2  ['We', 'had', 'our', 'own', 'bad', 'weather', ...   \n",
       "3  ['We', 'had', 'our', 'own', 'bad', 'weather', ...   \n",
       "4  ['We', 'had', 'our', 'own', 'bad', 'weather', ...   \n",
       "\n",
       "                                     Verb_annotation  \\\n",
       "0  {'verb': 'had', 'description': \"[ARG0: We] [V:...   \n",
       "1  {'verb': \"'re\", 'description': \"We had our own...   \n",
       "2  {'verb': 'thinking', 'description': \"We had ou...   \n",
       "3  {'verb': 'were', 'description': \"We had our ow...   \n",
       "4  {'verb': 'hit', 'description': \"We had our own...   \n",
       "\n",
       "                                          Embeddings  \n",
       "0  [[0.02317109, -0.7599905, -0.66356254, -0.4027...  \n",
       "1  [[0.02317109, -0.7599905, -0.66356254, -0.4027...  \n",
       "2  [[0.02317109, -0.7599905, -0.66356254, -0.4027...  \n",
       "3  [[0.02317109, -0.7599905, -0.66356254, -0.4027...  \n",
       "4  [[0.02317109, -0.7599905, -0.66356254, -0.4027...  "
      ]
     },
     "execution_count": 109,
     "metadata": {},
     "output_type": "execute_result"
    }
   ],
   "source": [
    "df_srl_emb.head()"
   ]
  },
  {
   "cell_type": "code",
   "execution_count": null,
   "metadata": {},
   "outputs": [],
   "source": [
    "all_wor"
   ]
  },
  {
   "cell_type": "code",
   "execution_count": null,
   "metadata": {},
   "outputs": [],
   "source": []
  },
  {
   "cell_type": "code",
   "execution_count": 91,
   "metadata": {},
   "outputs": [
    {
     "data": {
      "text/plain": [
       "35564"
      ]
     },
     "execution_count": 91,
     "metadata": {},
     "output_type": "execute_result"
    }
   ],
   "source": [
    "len(df_srl_emb)"
   ]
  },
  {
   "cell_type": "code",
   "execution_count": 133,
   "metadata": {},
   "outputs": [],
   "source": [
    "pickle.dump(df_srl_emb, open('srl_elmo_dem.tsv', 'wb'))"
   ]
  },
  {
   "cell_type": "code",
   "execution_count": null,
   "metadata": {},
   "outputs": [],
   "source": []
  }
 ],
 "metadata": {
  "kernelspec": {
   "display_name": "Python 3",
   "language": "python",
   "name": "python3"
  },
  "language_info": {
   "codemirror_mode": {
    "name": "ipython",
    "version": 3
   },
   "file_extension": ".py",
   "mimetype": "text/x-python",
   "name": "python",
   "nbconvert_exporter": "python",
   "pygments_lexer": "ipython3",
   "version": "3.7.7"
  }
 },
 "nbformat": 4,
 "nbformat_minor": 4
}
