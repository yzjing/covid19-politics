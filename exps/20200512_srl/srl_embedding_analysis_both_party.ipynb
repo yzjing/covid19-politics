{
 "cells": [
  {
   "cell_type": "code",
   "execution_count": 1,
   "metadata": {},
   "outputs": [
    {
     "name": "stderr",
     "output_type": "stream",
     "text": [
      "\n",
      "Bad key \"text.kerning_factor\" on line 4 in\n",
      "/l/nx/user/jingy/anaconda3/envs/allennlp/lib/python3.7/site-packages/matplotlib/mpl-data/stylelib/_classic_test_patch.mplstyle.\n",
      "You probably need to get an updated matplotlibrc file from\n",
      "https://github.com/matplotlib/matplotlib/blob/v3.1.3/matplotlibrc.template\n",
      "or from the matplotlib source distribution\n"
     ]
    }
   ],
   "source": [
    "import pandas as pd\n",
    "from scipy.spatial.distance import cosine\n",
    "import pickle\n",
    "import matplotlib.pyplot as plt\n",
    "%matplotlib inline\n",
    "from sklearn.decomposition import PCA\n",
    "import numpy as np\n",
    "import umap\n",
    "from adjustText import adjust_text"
   ]
  },
  {
   "cell_type": "code",
   "execution_count": 2,
   "metadata": {},
   "outputs": [],
   "source": [
    "# df_srl_emb_dem = pickle.load(open('srl_elmo_dem_sample.tsv','rb'))"
   ]
  },
  {
   "cell_type": "code",
   "execution_count": 3,
   "metadata": {},
   "outputs": [],
   "source": [
    "# len(df_srl_emb_dem)"
   ]
  },
  {
   "cell_type": "code",
   "execution_count": 4,
   "metadata": {},
   "outputs": [],
   "source": [
    "df_srl_emb_rep = pickle.load(open('srl_elmo_rep_sample.tsv','rb'))"
   ]
  },
  {
   "cell_type": "code",
   "execution_count": 5,
   "metadata": {},
   "outputs": [],
   "source": [
    "def build_df_args(df):\n",
    "    args_list_all = []\n",
    "    for idx, row in df.iterrows():\n",
    "        annotation = eval(row['Verb_annotation'])\n",
    "        verb = annotation['verb']\n",
    "        verb_idx = eval(row['Text']).index(verb)\n",
    "        verb_emb = row['Embeddings'][verb_idx]\n",
    "        arg0_idx = [idx for (idx, tag) in enumerate(annotation['tags']) if 'ARG0' in tag]\n",
    "        if len(arg0_idx) > 0 and len(arg0_idx) <= 3:\n",
    "            arg0_emb = np.array([row['Embeddings'][idx] for idx in arg0_idx])\n",
    "            if arg0_emb.shape[0] > 1:\n",
    "                arg0_emb = np.sum(arg0_emb, axis=0)\n",
    "                arg0_emb = np.expand_dims(arg0_emb, axis=0)\n",
    "            arg0_tok = [eval(row['Text'])[idx] for idx in arg0_idx]\n",
    "            arg0_tok = ' '.join([item for item in arg0_tok])\n",
    "        else:\n",
    "            arg0 = 'No_arg0'\n",
    "            arg0_idx = -1\n",
    "            arg0_emb = -1\n",
    "            arg0_tok = 'No_arg0'\n",
    "\n",
    "\n",
    "        arg1_idx = [idx for (idx, tag) in enumerate(annotation['tags']) if 'ARG1' in tag]\n",
    "        if len(arg1_idx) > 0  and len(arg1_idx) <= 3:\n",
    "            arg1_emb = np.array([row['Embeddings'][idx] for idx in arg1_idx])\n",
    "            if arg1_emb.shape[0] > 1:\n",
    "                arg1_emb = np.sum(arg1_emb, axis=0)\n",
    "                arg1_emb = np.expand_dims(arg1_emb, axis=0)\n",
    "            arg1_tok = [eval(row['Text'])[idx] for idx in arg1_idx]\n",
    "            arg1_tok = ' '.join([item for item in arg1_tok])\n",
    "\n",
    "        else:\n",
    "            arg1 = 'No_arg1'\n",
    "            arg1_idx = -1\n",
    "            arg1_emb = -1\n",
    "            arg1_tok = 'No_arg1'\n",
    "        \n",
    "        text = ' '.join([w for w in eval(row['Text'])])\n",
    "\n",
    "        args_list_all.append([verb, verb_idx, verb_emb, arg0_tok, arg0_idx, arg0_emb, arg1_tok, \\\n",
    "                              arg1_idx, arg1_emb, text])\n",
    "    return pd.DataFrame(args_list_all, columns=['Verb', 'Verb_idx', 'Verb_emb', 'Arg0_tok', 'Arg0_idx',\\\n",
    "                                               'Arg0_emb', 'Arg1_tok', 'Arg1_idx', 'Arg1_emb', 'Text'])"
   ]
  },
  {
   "cell_type": "code",
   "execution_count": 6,
   "metadata": {},
   "outputs": [],
   "source": [
    "# df_args_dem = build_df_args(df_srl_emb_dem)"
   ]
  },
  {
   "cell_type": "code",
   "execution_count": 7,
   "metadata": {},
   "outputs": [],
   "source": [
    "# df_args_dem['Party'] = 'dem'"
   ]
  },
  {
   "cell_type": "code",
   "execution_count": 8,
   "metadata": {},
   "outputs": [],
   "source": [
    "# df_args_dem.head()"
   ]
  },
  {
   "cell_type": "code",
   "execution_count": 9,
   "metadata": {},
   "outputs": [],
   "source": [
    "df_args_rep = build_df_args(df_srl_emb_rep)"
   ]
  },
  {
   "cell_type": "code",
   "execution_count": 10,
   "metadata": {},
   "outputs": [],
   "source": [
    "df_args_rep['Party'] = 'rep'"
   ]
  },
  {
   "cell_type": "code",
   "execution_count": 11,
   "metadata": {},
   "outputs": [],
   "source": [
    "# df_args = pd.concat([df_args_rep, df_args_dem])"
   ]
  },
  {
   "cell_type": "code",
   "execution_count": 12,
   "metadata": {},
   "outputs": [],
   "source": [
    "temp = df_args_rep[df_args_rep['Verb'] == 'fight']"
   ]
  },
  {
   "cell_type": "code",
   "execution_count": 16,
   "metadata": {},
   "outputs": [],
   "source": [
    "temp.head(10)"
   ]
  },
  {
   "cell_type": "code",
   "execution_count": 15,
   "metadata": {},
   "outputs": [],
   "source": [
    "for idx, row in temp.head(10).iterrows():\n",
    "    try:\n",
    "        print(row['Arg0_tok'], row['Verb'], row['Arg1_tok'])\n",
    "        print(row['Text'])\n",
    "        print()\n",
    "    except:\n",
    "        pass\n"
   ]
  },
  {
   "cell_type": "code",
   "execution_count": 22,
   "metadata": {},
   "outputs": [],
   "source": [
    "def extract_verb_agents(df, verb, arg_option):\n",
    "    df_verb =df[df.Verb == verb]\n",
    "    df_verb = df_verb[df_verb['Arg{}_idx'.format(arg_option)] != -1]\n",
    "    df_verb_agg = df_verb.groupby(['Arg{}_tok'.format(arg_option),'Party'] ).apply\\\n",
    "                                    (lambda x: np.average(x['Arg{}_emb'.format(arg_option)], axis=0)).reset_index()\n",
    "    df_verb_agg.columns = ['Arg{}_tok'.format(arg_option), 'Party', 'Arg{}_emb'.format(arg_option)]\n",
    "    pca_reduc = PCA(n_components=30).fit_transform(np.array(df_verb_agg['Arg{}_emb'.format(arg_option)].tolist()).squeeze())\n",
    "    umap_reduc = umap.UMAP(min_dist=0.0,n_neighbors=5).fit_transform(pca_reduc)\n",
    "    df_verb_agg['umap_emb_x'] = umap_reduc[:,0]\n",
    "    df_verb_agg['umap_emb_y'] = umap_reduc[:,1]\n",
    "    return df_verb_agg"
   ]
  },
  {
   "cell_type": "code",
   "execution_count": 34,
   "metadata": {},
   "outputs": [],
   "source": [
    "df_verb_agg = extract_verb_agents(df_args, 'fight', 1)"
   ]
  },
  {
   "cell_type": "code",
   "execution_count": 35,
   "metadata": {},
   "outputs": [
    {
     "data": {
      "text/html": [
       "<div>\n",
       "<style scoped>\n",
       "    .dataframe tbody tr th:only-of-type {\n",
       "        vertical-align: middle;\n",
       "    }\n",
       "\n",
       "    .dataframe tbody tr th {\n",
       "        vertical-align: top;\n",
       "    }\n",
       "\n",
       "    .dataframe thead th {\n",
       "        text-align: right;\n",
       "    }\n",
       "</style>\n",
       "<table border=\"1\" class=\"dataframe\">\n",
       "  <thead>\n",
       "    <tr style=\"text-align: right;\">\n",
       "      <th></th>\n",
       "      <th>Arg1_tok</th>\n",
       "      <th>Party</th>\n",
       "      <th>Arg1_emb</th>\n",
       "      <th>umap_emb_x</th>\n",
       "      <th>umap_emb_y</th>\n",
       "    </tr>\n",
       "  </thead>\n",
       "  <tbody>\n",
       "    <tr>\n",
       "      <th>0</th>\n",
       "      <td>#</td>\n",
       "      <td>rep</td>\n",
       "      <td>[[-0.021193335, 0.44778198, 0.08882776, 0.1859...</td>\n",
       "      <td>14.407893</td>\n",
       "      <td>3.818871</td>\n",
       "    </tr>\n",
       "    <tr>\n",
       "      <th>1</th>\n",
       "      <td># COVID-19</td>\n",
       "      <td>rep</td>\n",
       "      <td>[[0.4196708, -0.15163812, -0.13383895, 0.30714...</td>\n",
       "      <td>12.870883</td>\n",
       "      <td>9.453170</td>\n",
       "    </tr>\n",
       "  </tbody>\n",
       "</table>\n",
       "</div>"
      ],
      "text/plain": [
       "     Arg1_tok Party                                           Arg1_emb  \\\n",
       "0           #   rep  [[-0.021193335, 0.44778198, 0.08882776, 0.1859...   \n",
       "1  # COVID-19   rep  [[0.4196708, -0.15163812, -0.13383895, 0.30714...   \n",
       "\n",
       "   umap_emb_x  umap_emb_y  \n",
       "0   14.407893    3.818871  \n",
       "1   12.870883    9.453170  "
      ]
     },
     "execution_count": 35,
     "metadata": {},
     "output_type": "execute_result"
    }
   ],
   "source": [
    "df_verb_agg.head(2)"
   ]
  },
  {
   "cell_type": "code",
   "execution_count": 36,
   "metadata": {},
   "outputs": [],
   "source": [
    "# df_args[(df_args['Arg0_tok'] == 'Mitch') & (df_args['Verb'] == 'fighting')]"
   ]
  },
  {
   "cell_type": "code",
   "execution_count": 37,
   "metadata": {},
   "outputs": [],
   "source": [
    "# ' '.join(item for item in eval(df_srl_emb.iloc[34590]['Text']))"
   ]
  },
  {
   "cell_type": "code",
   "execution_count": 38,
   "metadata": {},
   "outputs": [],
   "source": [
    "def plot_agent_verb(df, verb, arg_option):\n",
    "    df_dem = df[df['Party'] == 'dem']\n",
    "    df_rep = df[df['Party'] == 'rep']\n",
    "    if len(df_dem) > 50:\n",
    "        df_dem = df_dem.sample(50)\n",
    "    if len(df_rep) > 50:\n",
    "        df_rep = df_rep.sample(50)\n",
    "\n",
    "    plt.figure(figsize=(15, 15))\n",
    "    x_dem = df_dem['umap_emb_x'].tolist()\n",
    "    y_dem = df_dem['umap_emb_y'].tolist()\n",
    "    text_dem = df_dem['Arg{}_tok'.format(arg_option)].tolist()\n",
    "    plt.scatter(x_dem,y_dem, s=10, c='blue')\n",
    "    texts_dem = [plt.text(x_dem[idx], y_dem[idx], text_dem[idx], fontsize=12, c='blue') for idx in range(len(text_dem))]\n",
    "    \n",
    "    x_rep = df_rep['umap_emb_x'].tolist()\n",
    "    y_rep = df_rep['umap_emb_y'].tolist()\n",
    "    text_rep = df_rep['Arg{}_tok'.format(arg_option)].tolist()\n",
    "    plt.scatter(x_rep,y_rep, s=10, c='red')\n",
    "    texts_rep = [plt.text(x_rep[idx], y_rep[idx], text_rep[idx], fontsize=12, c='red') for idx in range(len(text_rep))]\n",
    "    \n",
    "    plt.title('Arg {} of verb {}'.format(arg_option, verb))\n",
    "    all_texts = texts_dem + texts_rep\n",
    "    adjust_text(all_texts, expand_text=(1.02, 1.02), force_text=(0.75, 0.75), lim=20)\n",
    "\n",
    "    plt.savefig('arg_{}_verb_{}_both_party.png'.format(arg_option, verb), format='png')"
   ]
  },
  {
   "cell_type": "code",
   "execution_count": 41,
   "metadata": {},
   "outputs": [
    {
     "data": {
      "image/png": "[encoded data removed]",
      "text/plain": [
       "<Figure size 1080x1080 with 1 Axes>"
      ]
     },
     "metadata": {
      "needs_background": "light"
     },
     "output_type": "display_data"
    }
   ],
   "source": [
    "plot_agent_verb(df_verb_agg, 'fight', 1)"
   ]
  },
  {
   "cell_type": "code",
   "execution_count": 40,
   "metadata": {},
   "outputs": [
    {
     "name": "stdout",
     "output_type": "stream",
     "text": [
      "is [2784]\n",
      "are [1878]\n",
      "have [1176]\n",
      "be [1163]\n",
      "will [1157]\n",
      "can [833]\n",
      "has [828]\n",
      "help [677]\n",
      "need [646]\n",
      "do [600]\n",
      "was [555]\n",
      "get [486]\n",
      "should [482]\n",
      "must [431]\n",
      "been [417]\n",
      "working [374]\n",
      "’m [357]\n",
      "'s [333]\n",
      "Thank [315]\n",
      "keep [313]\n",
      "make [302]\n",
      "would [275]\n",
      "protect [262]\n",
      "continue [258]\n",
      "ensure [254]\n",
      "’re [235]\n",
      "provide [230]\n",
      "see [226]\n",
      "take [221]\n",
      "work [219]\n",
      "know [213]\n",
      "'m [175]\n",
      "support [174]\n",
      "’ve [173]\n",
      "want [172]\n",
      "passed [171]\n",
      "’s [169]\n",
      "being [168]\n",
      "am [166]\n",
      "stop [162]\n",
      "going [161]\n",
      "discuss [152]\n",
      "including [150]\n",
      "’ll [147]\n",
      "made [146]\n",
      "doing [145]\n",
      "needs [144]\n",
      "were [143]\n",
      "'re [142]\n",
      "had [139]\n",
      "go [138]\n",
      "does [138]\n",
      "pass [137]\n",
      "join [135]\n",
      "needed [124]\n",
      "stay [122]\n",
      "hear [121]\n",
      "fighting [120]\n",
      "receive [119]\n",
      "could [117]\n",
      "fight [117]\n",
      "did [117]\n",
      "put [117]\n",
      "address [117]\n",
      "said [116]\n",
      "let [114]\n",
      "come [112]\n",
      "taking [105]\n",
      "joined [104]\n",
      "paid [104]\n",
      "done [103]\n",
      "ca [103]\n",
      "getting [103]\n",
      "calling [102]\n",
      "may [100]\n",
      "helping [100]\n",
      "give [100]\n",
      "Read [96]\n",
      "talk [95]\n",
      "vote [93]\n",
      "thank [92]\n",
      "making [92]\n",
      "use [91]\n",
      "prevent [89]\n",
      "call [88]\n",
      "pay [87]\n",
      "Let [86]\n",
      "Do [84]\n",
      "introduced [83]\n",
      "stand [81]\n",
      "save [81]\n",
      "look [79]\n",
      "think [77]\n",
      "apply [77]\n",
      "combat [77]\n",
      "visit [76]\n",
      "wo [76]\n",
      "meet [76]\n",
      "announced [76]\n",
      "trying [76]\n"
     ]
    }
   ],
   "source": [
    "for idx, row in pd.DataFrame(df_args.Verb.value_counts().head(100)).iterrows():\n",
    "    print(row.name, row.values)"
   ]
  },
  {
   "cell_type": "code",
   "execution_count": null,
   "metadata": {},
   "outputs": [],
   "source": []
  }
 ],
 "metadata": {
  "kernelspec": {
   "display_name": "Python 3",
   "language": "python",
   "name": "python3"
  },
  "language_info": {
   "codemirror_mode": {
    "name": "ipython",
    "version": 3
   },
   "file_extension": ".py",
   "mimetype": "text/x-python",
   "name": "python",
   "nbconvert_exporter": "python",
   "pygments_lexer": "ipython3",
   "version": "3.7.7"
  }
 },
 "nbformat": 4,
 "nbformat_minor": 4
}
