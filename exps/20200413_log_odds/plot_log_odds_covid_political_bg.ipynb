{
 "cells": [
  {
   "cell_type": "code",
   "execution_count": 1,
   "metadata": {},
   "outputs": [],
   "source": [
    "import pickle\n",
    "import os\n",
    "import re\n",
    "from collections import Counter\n",
    "import math\n",
    "import matplotlib.pyplot as plt\n",
    "import random\n",
    "import json\n",
    "import datetime\n",
    "import string\n",
    "string.punctuation += '➡•’'\n",
    "import numpy as np\n",
    "from adjustText import adjust_text\n",
    "import matplotlib.cm as cm\n",
    "import matplotlib\n",
    "import spacy\n",
    "import pandas as pd"
   ]
  },
  {
   "cell_type": "code",
   "execution_count": 2,
   "metadata": {},
   "outputs": [],
   "source": [
    "nlp=spacy.load('en_core_web_md', disable=['parser', 'tagger', 'ner'])"
   ]
  },
  {
   "cell_type": "code",
   "execution_count": 3,
   "metadata": {},
   "outputs": [],
   "source": [
    "# sp_tokens = ['de', 'la', 's', 'm', 'las', 'los', 'p', 've', 'en', 're', 'del', 't', 'que' ]"
   ]
  },
  {
   "cell_type": "code",
   "execution_count": 4,
   "metadata": {},
   "outputs": [],
   "source": [
    "dem = pickle.load(open('../../data/all_tweet_texts_dem.p', 'rb'))\n",
    "rep = pickle.load(open('../../data/all_tweet_texts_rep.p', 'rb'))\n"
   ]
  },
  {
   "cell_type": "code",
   "execution_count": 5,
   "metadata": {},
   "outputs": [],
   "source": [
    "data_path = '../../data/'\n",
    "house_rep_screennames = pickle.load(open(data_path+'house_rep_screennames.p', 'rb'))\n",
    "house_dem_screennames = pickle.load(open(data_path+'house_dem_screennames.p', 'rb'))\n",
    "senate_dem_screennames = pickle.load(open(data_path+'senate_dem_screennames.p', 'rb'))\n",
    "senate_rep_screennames = pickle.load(open(data_path+'senate_rep_screennames.p', 'rb'))\n",
    "govenor_rep_screennames = pickle.load(open(data_path+'govenor_rep_screennames.p', 'rb'))\n",
    "govenor_dem_screennames = pickle.load(open(data_path+'govenor_dem_screennames.p', 'rb'))"
   ]
  },
  {
   "cell_type": "code",
   "execution_count": 6,
   "metadata": {},
   "outputs": [],
   "source": [
    "all_screenname = set(house_rep_screennames + house_dem_screennames + senate_dem_screennames + senate_rep_screennames\\\n",
    "                + govenor_rep_screennames + govenor_dem_screennames)"
   ]
  },
  {
   "cell_type": "code",
   "execution_count": 9,
   "metadata": {},
   "outputs": [],
   "source": [
    "# covid_vocab = pickle.load(open('../../data/all_covid_words.p', 'rb'))"
   ]
  },
  {
   "cell_type": "code",
   "execution_count": 10,
   "metadata": {},
   "outputs": [],
   "source": [
    "# big_regex = re.compile('|'.join(map(re.escape, covid_vocab)))"
   ]
  },
  {
   "cell_type": "code",
   "execution_count": 11,
   "metadata": {},
   "outputs": [],
   "source": [
    "def get_covid_tweets(df):\n",
    "    all_covid_tweets = []\n",
    "    all_bg_tweets = []\n",
    "    for idx, row in df.iterrows():\n",
    "        try:\n",
    "            t = row['Text']\n",
    "            if 'covid' in t or 'coronavirus' in t:\n",
    "                all_covid_tweets.append(row)\n",
    "            else:\n",
    "                all_bg_tweets.append(row)\n",
    "        except Exception as ex:\n",
    "            continue\n",
    "        \n",
    "    return pd.DataFrame(all_covid_tweets), pd.DataFrame(all_bg_tweets)"
   ]
  },
  {
   "cell_type": "code",
   "execution_count": 12,
   "metadata": {},
   "outputs": [],
   "source": [
    "dem_covid, dem_bg = get_covid_tweets(dem)\n",
    "rep_covid, rep_bg = get_covid_tweets(rep)\n",
    "bg = pd.concat([dem_bg, rep_bg])"
   ]
  },
  {
   "cell_type": "code",
   "execution_count": 13,
   "metadata": {},
   "outputs": [
    {
     "data": {
      "text/html": [
       "<div>\n",
       "<style scoped>\n",
       "    .dataframe tbody tr th:only-of-type {\n",
       "        vertical-align: middle;\n",
       "    }\n",
       "\n",
       "    .dataframe tbody tr th {\n",
       "        vertical-align: top;\n",
       "    }\n",
       "\n",
       "    .dataframe thead th {\n",
       "        text-align: right;\n",
       "    }\n",
       "</style>\n",
       "<table border=\"1\" class=\"dataframe\">\n",
       "  <thead>\n",
       "    <tr style=\"text-align: right;\">\n",
       "      <th></th>\n",
       "      <th>Text</th>\n",
       "      <th>Time</th>\n",
       "    </tr>\n",
       "  </thead>\n",
       "  <tbody>\n",
       "    <tr>\n",
       "      <th>0</th>\n",
       "      <td>Trump Admin’s disturbing use of unidentified f...</td>\n",
       "      <td>2020-07-22 20:34:49</td>\n",
       "    </tr>\n",
       "    <tr>\n",
       "      <th>1</th>\n",
       "      <td>The health of American people &amp;amp; U.S. econo...</td>\n",
       "      <td>2020-07-22 20:15:22</td>\n",
       "    </tr>\n",
       "  </tbody>\n",
       "</table>\n",
       "</div>"
      ],
      "text/plain": [
       "                                                Text                Time\n",
       "0  Trump Admin’s disturbing use of unidentified f... 2020-07-22 20:34:49\n",
       "1  The health of American people &amp; U.S. econo... 2020-07-22 20:15:22"
      ]
     },
     "execution_count": 13,
     "metadata": {},
     "output_type": "execute_result"
    }
   ],
   "source": [
    "dem_bg.head(2)"
   ]
  },
  {
   "cell_type": "code",
   "execution_count": 14,
   "metadata": {},
   "outputs": [
    {
     "data": {
      "text/plain": [
       "(15620, 9953, 413550)"
      ]
     },
     "execution_count": 14,
     "metadata": {},
     "output_type": "execute_result"
    }
   ],
   "source": [
    "len(dem_covid), len(rep_covid), len(bg)"
   ]
  },
  {
   "cell_type": "code",
   "execution_count": 15,
   "metadata": {},
   "outputs": [],
   "source": [
    "exclude_words = set(['Ricketts', 'RepPressley', 'Beshear', 'GregHilburn1', 'HouseDemocrats', 'RepBera', 'OversightDems', \n",
    " 'WaysandMeansGOP', 'dougducey', 'SteveScalise', 'HouseGOP', 'SecretarySonny', 'Hutchinson', 'GOPoversight',\n",
    " 'AsaHutchinson','GOPLeader', 'GovRicketts','WhiteHouse','m', 'ChadSabadie', 'HouseCommerce','✓'])"
   ]
  },
  {
   "cell_type": "code",
   "execution_count": 16,
   "metadata": {},
   "outputs": [],
   "source": [
    "# def get_monthly_data(month):\n",
    "#     if month == 'feb':\n",
    "#         dem_month = dem[(dem['Time'] >= datetime.datetime(2020, 2, 1)) & (dem['Time'] < datetime.datetime(2020, 3, 1))]\n",
    "#         rep_month = rep[(rep['Time'] >= datetime.datetime(2020, 2, 1)) & (rep['Time'] < datetime.datetime(2020, 3, 1))]\n",
    "#         bg_month = pickle.load(open('../../data/moe_sample_tweets_feb.p', 'rb'))\n",
    "#     elif month == 'mar':\n",
    "#         dem_month = dem[(dem['Time'] >= datetime.datetime(2020, 3, 1)) & (dem['Time'] < datetime.datetime(2020, 4, 1))]\n",
    "#         rep_month = rep[(rep['Time'] >= datetime.datetime(2020, 3, 1)) & (rep['Time'] < datetime.datetime(2020, 4, 1))]\n",
    "#         bg_month = pickle.load(open('../../data/moe_sample_tweets_mar.p', 'rb'))\n",
    "\n",
    "#     elif month == 'apr':\n",
    "#         dem_month = dem[(dem['Time'] >= datetime.datetime(2020, 4, 1)) & (dem['Time'] < datetime.datetime(2020, 5, 1))]\n",
    "#         rep_month = rep[(rep['Time'] >= datetime.datetime(2020, 4, 1)) & (rep['Time'] < datetime.datetime(2020, 5, 1))]\n",
    "#         bg_month = pickle.load(open('../../data/moe_sample_tweets_apr.p', 'rb'))\n",
    "#     else:\n",
    "#         print('month must be feb, mar, or apr')\n",
    "#     return dem_month, rep_month, bg_month"
   ]
  },
  {
   "cell_type": "code",
   "execution_count": 17,
   "metadata": {},
   "outputs": [],
   "source": [
    "# month = 'apr'"
   ]
  },
  {
   "cell_type": "code",
   "execution_count": 18,
   "metadata": {},
   "outputs": [],
   "source": [
    "# dem_month, rep_month, bg_month = get_monthly_data(month)"
   ]
  },
  {
   "cell_type": "code",
   "execution_count": 19,
   "metadata": {},
   "outputs": [],
   "source": [
    "# print(len(dem_month), len(rep_month), len(bg_month))"
   ]
  },
  {
   "cell_type": "code",
   "execution_count": 20,
   "metadata": {},
   "outputs": [
    {
     "data": {
      "text/html": [
       "<div>\n",
       "<style scoped>\n",
       "    .dataframe tbody tr th:only-of-type {\n",
       "        vertical-align: middle;\n",
       "    }\n",
       "\n",
       "    .dataframe tbody tr th {\n",
       "        vertical-align: top;\n",
       "    }\n",
       "\n",
       "    .dataframe thead th {\n",
       "        text-align: right;\n",
       "    }\n",
       "</style>\n",
       "<table border=\"1\" class=\"dataframe\">\n",
       "  <thead>\n",
       "    <tr style=\"text-align: right;\">\n",
       "      <th></th>\n",
       "      <th>Text</th>\n",
       "      <th>Time</th>\n",
       "    </tr>\n",
       "  </thead>\n",
       "  <tbody>\n",
       "    <tr>\n",
       "      <th>274678</th>\n",
       "      <td>This #BlackHistoryMonth, we honor the African-...</td>\n",
       "      <td>2020-02-02 02:50:28</td>\n",
       "    </tr>\n",
       "    <tr>\n",
       "      <th>274679</th>\n",
       "      <td>RT @DhhsNevada: NV has no confirmed cases of n...</td>\n",
       "      <td>2020-02-01 18:03:12</td>\n",
       "    </tr>\n",
       "    <tr>\n",
       "      <th>274680</th>\n",
       "      <td>RT @ChiefNGB: Saw firsthand today how the @NVN...</td>\n",
       "      <td>2020-02-01 16:41:04</td>\n",
       "    </tr>\n",
       "    <tr>\n",
       "      <th>274681</th>\n",
       "      <td>RT @UNLVLaw: Our thanks to @GovSisolak, @ThomR...</td>\n",
       "      <td>2020-02-01 15:40:27</td>\n",
       "    </tr>\n",
       "    <tr>\n",
       "      <th>274682</th>\n",
       "      <td>In Las Vegas and want to learn more about the ...</td>\n",
       "      <td>2020-02-01 15:21:49</td>\n",
       "    </tr>\n",
       "  </tbody>\n",
       "</table>\n",
       "</div>"
      ],
      "text/plain": [
       "                                                     Text                Time\n",
       "274678  This #BlackHistoryMonth, we honor the African-... 2020-02-02 02:50:28\n",
       "274679  RT @DhhsNevada: NV has no confirmed cases of n... 2020-02-01 18:03:12\n",
       "274680  RT @ChiefNGB: Saw firsthand today how the @NVN... 2020-02-01 16:41:04\n",
       "274681  RT @UNLVLaw: Our thanks to @GovSisolak, @ThomR... 2020-02-01 15:40:27\n",
       "274682  In Las Vegas and want to learn more about the ... 2020-02-01 15:21:49"
      ]
     },
     "execution_count": 20,
     "metadata": {},
     "output_type": "execute_result"
    }
   ],
   "source": [
    "dem.tail()"
   ]
  },
  {
   "cell_type": "code",
   "execution_count": 21,
   "metadata": {},
   "outputs": [],
   "source": [
    "punc = string.punctuation.replace(\"#\", '')"
   ]
  },
  {
   "cell_type": "code",
   "execution_count": 22,
   "metadata": {},
   "outputs": [
    {
     "data": {
      "text/plain": [
       "'!\"$%&\\'()*+,-./:;<=>?@[\\\\]^_`{|}~➡•’'"
      ]
     },
     "execution_count": 22,
     "metadata": {},
     "output_type": "execute_result"
    }
   ],
   "source": [
    "punc"
   ]
  },
  {
   "cell_type": "code",
   "execution_count": 23,
   "metadata": {},
   "outputs": [],
   "source": [
    "def preprocess_text(dem, rep, bg):\n",
    "    dem = dem.Text.tolist()\n",
    "    dem = [t.replace('\\n', '').replace('&amp', 'and').translate(str.maketrans('', '', punc)) for t in dem]\n",
    "    dem_tokenized = [token.text for t in dem for token in nlp(t)]\n",
    "    dem_tokenized = [t for t in dem_tokenized if t not in all_screenname and t not in exclude_words]\n",
    "    rep = rep.Text.tolist()\n",
    "    rep = [t.replace('\\n', '').replace('&amp', 'and').translate(str.maketrans('', '', punc)) for t in rep]\n",
    "    rep_tokenized = [token.text for t in rep for token in nlp(t)]\n",
    "    rep_tokenized = [t for t in rep_tokenized if t not in all_screenname and t not in exclude_words]\n",
    "    bg = bg.Text.tolist()\n",
    "    bg = [t.replace('\\n', '').replace('&amp', 'and').translate(str.maketrans('', '', punc)) for t in bg]\n",
    "    bg_tokenized = [token.text for t in bg for token in nlp(t)]\n",
    "    bg_tokenized = [t for t in bg_tokenized if t not in all_screenname and t not in exclude_words]\n",
    "\n",
    "    dem_counter=  Counter(dem_tokenized)\n",
    "    rep_counter= Counter(rep_tokenized)\n",
    "    bg_counter = Counter(bg_tokenized)\n",
    "    return dem_counter, rep_counter, bg_counter"
   ]
  },
  {
   "cell_type": "code",
   "execution_count": 24,
   "metadata": {},
   "outputs": [],
   "source": [
    "dem_counter, rep_counter, bg_counter = preprocess_text(dem_covid, rep_covid, bg)"
   ]
  },
  {
   "cell_type": "code",
   "execution_count": 25,
   "metadata": {},
   "outputs": [
    {
     "data": {
      "text/plain": [
       "(233989, 23279, 17286)"
      ]
     },
     "execution_count": 25,
     "metadata": {},
     "output_type": "execute_result"
    }
   ],
   "source": [
    "len(bg_counter), len(dem_counter), len(rep_counter)"
   ]
  },
  {
   "cell_type": "code",
   "execution_count": 26,
   "metadata": {},
   "outputs": [
    {
     "data": {
      "text/plain": [
       "142"
      ]
     },
     "execution_count": 26,
     "metadata": {},
     "output_type": "execute_result"
    }
   ],
   "source": [
    "dem_counter['covid']"
   ]
  },
  {
   "cell_type": "code",
   "execution_count": 27,
   "metadata": {},
   "outputs": [
    {
     "data": {
      "text/plain": [
       "118"
      ]
     },
     "execution_count": 27,
     "metadata": {},
     "output_type": "execute_result"
    }
   ],
   "source": [
    "rep_counter['covid19']"
   ]
  },
  {
   "cell_type": "code",
   "execution_count": 28,
   "metadata": {},
   "outputs": [
    {
     "data": {
      "text/plain": [
       "0"
      ]
     },
     "execution_count": 28,
     "metadata": {},
     "output_type": "execute_result"
    }
   ],
   "source": [
    "bg_counter['covid']"
   ]
  },
  {
   "cell_type": "code",
   "execution_count": 29,
   "metadata": {},
   "outputs": [],
   "source": [
    "def logodds(corpora_dic, bg_counter):\n",
    "    \"\"\" It calculates the log odds ratio of term i's frequency between \n",
    "    a target corpus and another corpus, with the prior information from\n",
    "    a background corpus. Inputs are:\n",
    "    \n",
    "    - a dictionary of Counter objects (corpora of our interest)\n",
    "    - a Counter objects (background corpus)\n",
    "    \n",
    "    Output is a dictionary of dictionaries. Each dictionary contains the log \n",
    "    odds ratio of each word. \n",
    "    \n",
    "    \"\"\"\n",
    "    corp_size = dict([(c, sum(corpora_dic[c].values())) for c in corpora_dic])\n",
    "    bg_size = sum(bg_counter.values())\n",
    "    result = dict([(c, {}) for c in corpora_dic])\n",
    "    \n",
    "    for name, c in corpora_dic.items():\n",
    "        for word in c:\n",
    "            #if 10 > sum(1 for corpus in corpora_dic.values() if corpus[word]):\n",
    "            #    continue\n",
    "            \n",
    "            fi = c[word]\n",
    "            fj = sum(co[word] for x, co in corpora_dic.items() if x != name)\n",
    "            fbg = bg_counter[word]+0.0001\n",
    "            ni = corp_size[name]\n",
    "            nj = sum(x for idx, x in corp_size.items() if idx != name)\n",
    "            nbg = bg_size\n",
    "#             print(fi+fbg,ni+nbg-(fi+fbg),fj+fbg,nj+nbg-(fj+fbg))\n",
    "            oddsratio = math.log(fi+fbg) - math.log(ni+nbg-(fi+fbg)) -\\\n",
    "                        math.log(fj+fbg) + math.log(nj+nbg-(fj+fbg))\n",
    "            std = 1.0 / (fi+fbg) + 1.0 / (fj+fbg)\n",
    "            z = oddsratio / math.sqrt(std)\n",
    "            result[name][word] = z\n",
    "            \n",
    "    return result"
   ]
  },
  {
   "cell_type": "code",
   "execution_count": 30,
   "metadata": {},
   "outputs": [],
   "source": [
    "result = logodds({'Republican_tweets': rep_counter, 'Democratic_tweets': dem_counter}, bg_counter)"
   ]
  },
  {
   "cell_type": "code",
   "execution_count": 31,
   "metadata": {},
   "outputs": [],
   "source": [
    "top_rep = sorted(result['Republican_tweets'], key=result['Republican_tweets'].get, reverse=True)[0:50]"
   ]
  },
  {
   "cell_type": "code",
   "execution_count": 32,
   "metadata": {},
   "outputs": [
    {
     "data": {
      "text/plain": [
       "['China',\n",
       " 'Wuhan',\n",
       " 'Hoosiers',\n",
       " 'Coron',\n",
       " 'MI06',\n",
       " 'NC10',\n",
       " 'Chinese',\n",
       " 'realDonaldTrump',\n",
       " 'Communist',\n",
       " 'InItTogether',\n",
       " 'Coming',\n",
       " 'MSDH',\n",
       " 'Pelosis',\n",
       " '1077RKR',\n",
       " 'sneaking',\n",
       " 'RADIO',\n",
       " 'Chinas',\n",
       " 'ActHeres',\n",
       " 'Speaker',\n",
       " 'Indiana',\n",
       " 'MarcBernierShow',\n",
       " 'CLEAN',\n",
       " 'newlypassed',\n",
       " 'Hoosier',\n",
       " 'FM',\n",
       " '→',\n",
       " 'msdh',\n",
       " 'Party',\n",
       " '1150',\n",
       " 'AZ05',\n",
       " 'TX12',\n",
       " 'Mississippi',\n",
       " '935',\n",
       " 'MPShiels',\n",
       " 'Louisianians',\n",
       " 'FoxNews',\n",
       " '1450whtc',\n",
       " 'WSBT',\n",
       " 'Hawley',\n",
       " 'Pelosi',\n",
       " '📻',\n",
       " 'CCP',\n",
       " 'ELBOW',\n",
       " 'TipsFromDocCaucus',\n",
       " 'WNZF',\n",
       " 'BerrienCountyMI',\n",
       " 'ALERT',\n",
       " 'propaganda',\n",
       " 'POSTPONED',\n",
       " 'AndyShain']"
      ]
     },
     "execution_count": 32,
     "metadata": {},
     "output_type": "execute_result"
    }
   ],
   "source": [
    "top_rep"
   ]
  },
  {
   "cell_type": "code",
   "execution_count": 167,
   "metadata": {},
   "outputs": [],
   "source": [
    "rep_place = ['BerrienCountyMI','Louisianians','Mississippi','msdh','Hoosier','Indiana',\n",
    "            ]"
   ]
  },
  {
   "cell_type": "code",
   "execution_count": 168,
   "metadata": {},
   "outputs": [],
   "source": [
    "rep_people_entities = ['AndyShain','TipsFromDocCaucus','CCP','propaganda','Pelosi','Hawley','MPShiels',\\\n",
    "                       'Party','Speaker','China','Communist','realDonaldTrump','Chinese','Wuhan',\n",
    "                      \n",
    "                      ]"
   ]
  },
  {
   "cell_type": "code",
   "execution_count": 169,
   "metadata": {},
   "outputs": [],
   "source": [
    "rep_media = ['WSBT','WNZF','1450whtc','FoxNews','FM','MarcBernierShow','RADIO','1077RKR',\n",
    "            ]"
   ]
  },
  {
   "cell_type": "code",
   "execution_count": 170,
   "metadata": {},
   "outputs": [],
   "source": [
    "rep_crisis_response=['ALERT','ELBOW','newlypassed','POSTPONED','CLEAN','ActHeres','InItTogether',]"
   ]
  },
  {
   "cell_type": "code",
   "execution_count": 171,
   "metadata": {},
   "outputs": [
    {
     "data": {
      "text/plain": [
       "35"
      ]
     },
     "execution_count": 171,
     "metadata": {},
     "output_type": "execute_result"
    }
   ],
   "source": [
    "len(rep_place+rep_people_entities+rep_media+rep_crisis_response)"
   ]
  },
  {
   "cell_type": "code",
   "execution_count": 172,
   "metadata": {},
   "outputs": [
    {
     "data": {
      "text/plain": [
       "set()"
      ]
     },
     "execution_count": 172,
     "metadata": {},
     "output_type": "execute_result"
    }
   ],
   "source": [
    "set(rep_place+rep_people_entities+rep_media+rep_crisis_response)-set(top_rep)"
   ]
  },
  {
   "cell_type": "code",
   "execution_count": 116,
   "metadata": {},
   "outputs": [],
   "source": [
    "# set(top_rep)-set(rep_place+rep_people_entities+rep_crisis_response+rep_media)"
   ]
  },
  {
   "cell_type": "code",
   "execution_count": 117,
   "metadata": {},
   "outputs": [],
   "source": [
    "top_dem = sorted(result['Democratic_tweets'], key=result['Democratic_tweets'].get,reverse=True)[0:50]\n"
   ]
  },
  {
   "cell_type": "code",
   "execution_count": null,
   "metadata": {},
   "outputs": [],
   "source": [
    "['coronavirus',\n",
    " '',\n",
    " '',\n",
    " '',\n",
    " '',\n",
    " '',\n",
    " '',\n",
    " '',\n",
    " '',\n",
    " '',\n",
    "\n",
    "\n"
   ]
  },
  {
   "cell_type": "code",
   "execution_count": 180,
   "metadata": {},
   "outputs": [],
   "source": [
    "dem_place = ['Massachusettsbased']"
   ]
  },
  {
   "cell_type": "code",
   "execution_count": 181,
   "metadata": {},
   "outputs": [],
   "source": [
    "dem_people_entities = ['Trump','Arwady',]"
   ]
  },
  {
   "cell_type": "code",
   "execution_count": 182,
   "metadata": {},
   "outputs": [],
   "source": [
    "dem_social_issue = []"
   ]
  },
  {
   "cell_type": "code",
   "execution_count": 183,
   "metadata": {},
   "outputs": [],
   "source": [
    "dem_media = ['Join','ASK','teletown','answer','tele','questions','hall',]"
   ]
  },
  {
   "cell_type": "code",
   "execution_count": 185,
   "metadata": {},
   "outputs": [],
   "source": [
    "dem_crisis_response = ['leave', 'coronavirus','testing','governmentwide','crisis','public',\\\n",
    "                      'experts','coronaviruspandemic','sick','emergency','response','pandemic','telephone',\n",
    "                      'fullyfunded','health','FamiliesFirst','covid','covid19'\n",
    "                      ]"
   ]
  },
  {
   "cell_type": "code",
   "execution_count": null,
   "metadata": {},
   "outputs": [],
   "source": []
  },
  {
   "cell_type": "code",
   "execution_count": 186,
   "metadata": {},
   "outputs": [
    {
     "data": {
      "text/plain": [
       "set()"
      ]
     },
     "execution_count": 186,
     "metadata": {},
     "output_type": "execute_result"
    }
   ],
   "source": [
    "set(dem_place+dem_people_entities+dem_social_issue+dem_crisis_response)-set(top_dem)"
   ]
  },
  {
   "cell_type": "code",
   "execution_count": 187,
   "metadata": {},
   "outputs": [],
   "source": [
    "# set(top_words)-set(dem_place+dem_other+dem_social_issue+dem_crisis_response+dem_media)"
   ]
  },
  {
   "cell_type": "code",
   "execution_count": 188,
   "metadata": {},
   "outputs": [
    {
     "data": {
      "text/plain": [
       "40"
      ]
     },
     "execution_count": 188,
     "metadata": {},
     "output_type": "execute_result"
    }
   ],
   "source": [
    "len(dem_place+dem_social_issue+dem_crisis_response+dem_media+rep_people_entities)"
   ]
  },
  {
   "cell_type": "code",
   "execution_count": 211,
   "metadata": {},
   "outputs": [],
   "source": [
    "from numpy import interp\n",
    "\n",
    "def plot_logodds(results,  month, num_words=15):\n",
    "    # the two groups of interest\n",
    "    rep_dic = results['Republican_tweets']\n",
    "    dem_dic = results['Democratic_tweets']\n",
    "    # sort to get the most over-represented and under-represented\n",
    "    rep = {k: rep_dic[k]*3 for k in sorted(rep_dic, key=rep_dic.get, reverse=True)[0:num_words]}\n",
    "    dem = {k: -dem_dic[k] for k in sorted(dem_dic, key=dem_dic.get, reverse=True)[0:num_words]}\n",
    "    blue_minima = min(dem.values())\n",
    "    blue_maxima = max(dem.values())\n",
    "    blue_norm = matplotlib.colors.Normalize(vmin=blue_minima+27, vmax=blue_maxima, clip=True)\n",
    "    blue_mapper = cm.ScalarMappable(norm=blue_norm, cmap=cm.Blues_r)\n",
    "    \n",
    "    red_minima = min(rep.values())\n",
    "    red_maxima = max(rep.values())\n",
    "    red_norm = matplotlib.colors.Normalize(vmin=red_minima-10, vmax=red_maxima, clip=True)\n",
    "    red_mapper = cm.ScalarMappable(norm=red_norm, cmap=cm.Reds)\n",
    "                    \n",
    "    fig, ax = plt.subplots(1,1, figsize=(15,10))\n",
    "    all_text = []\n",
    "    for word in rep_place:\n",
    "        t = ax.text(rep[word], random.randrange(0,35)/100, word, \\\n",
    "                    c=red_mapper.to_rgba(rep[word]), fontsize=13)\n",
    "        all_text.append(t)\n",
    "    for word in rep_people_entities:\n",
    "        t = ax.text(rep[word], random.randrange(38,58)/100, word, \\\n",
    "                    c=red_mapper.to_rgba(rep[word]), fontsize=13)\n",
    "        all_text.append(t)\n",
    "    for word in rep_media:\n",
    "        t = ax.text(rep[word], random.randrange(62,80)/100, word, \\\n",
    "                    c=red_mapper.to_rgba(rep[word]), fontsize=13)\n",
    "        all_text.append(t)\n",
    "    for word in rep_crisis_response:\n",
    "        t = ax.text(rep[word], random.randrange(82,100)/100, word, \\\n",
    "                    c=red_mapper.to_rgba(rep[word]), fontsize=13)\n",
    "        all_text.append(t)\n",
    "    \n",
    "    plt.text(max(rep.values())+6,0.2, 'Places', fontsize=15)\n",
    "    plt.text(max(rep.values())+6,0.5, 'People & entities', fontsize=15)\n",
    "    plt.text(max(rep.values())+6,0.7, 'Media', fontsize=15)\n",
    "    plt.text(max(rep.values())+6,0.9, 'Crisis response', fontsize=15)\n",
    "    \n",
    "    rep_l1 = ax.plot([0, max(rep.values())+5], [0.36, 0.36], c='orange')\n",
    "    rep_l2 = ax.plot([0,max(rep.values())+5], [0.6, 0.6], c='orange')\n",
    "    rep_l3 = ax.plot([0,max(rep.values())+5], [0.81, 0.81], c='orange')\n",
    "\n",
    "    \n",
    "    for word in dem_place:\n",
    "        t = ax.text(dem[word], random.randrange(0,30)/100, word, \\\n",
    "                    c=blue_mapper.to_rgba(dem[word]), fontsize=13)\n",
    "        all_text.append(t)\n",
    "    for word in dem_people_entities:\n",
    "        t = ax.text(dem[word], random.randrange(32,38)/100, word, \\\n",
    "                    c=blue_mapper.to_rgba(dem[word]), fontsize=13)\n",
    "        all_text.append(t)\n",
    "    for word in dem_media:\n",
    "        t = ax.text(dem[word], random.randrange(42,55)/100, word, \\\n",
    "                    c=blue_mapper.to_rgba(dem[word]), fontsize=13)\n",
    "        all_text.append(t)\n",
    "    for word in dem_crisis_response:\n",
    "        t = ax.text(dem[word], random.randrange(57,100)/100, word, \\\n",
    "                    c=blue_mapper.to_rgba(dem[word]), fontsize=13)\n",
    "        all_text.append(t)\n",
    "    plt.text(min(dem.values())-14,0.17, 'Places', fontsize=15)\n",
    "    plt.text(min(dem.values())-14,0.35, 'Social issues', fontsize=15)\n",
    "    plt.text(min(dem.values())-14,0.48, 'Media', fontsize=15)\n",
    "    plt.text(min(dem.values())-14,0.7, 'Crisis response', fontsize=15)\n",
    "    \n",
    "    ax.plot([min(dem.values())-8,0], [0.31, 0.31], c='green')\n",
    "    ax.plot([min(dem.values())-8,0], [0.4, 0.4], c='green')\n",
    "    ax.plot([min(dem.values())-8,0], [0.55, 0.55], c='green')\n",
    "\n",
    "    \n",
    "#     text2 = [ax.text(group2_overrep_values[idx], random.random(), group2_overrep_keys[idx],\n",
    "#                      c=blue_mapper.to_rgba(group2_overrep_values[idx]), fontsize=13) for idx in range(num_words)]             \n",
    "\n",
    "    line = ax.plot([0,0], [0,1], c='black')\n",
    "    \n",
    "\n",
    "\n",
    "    ax.set_xlim(min(dem.values())-3, max(rep.values())+10)\n",
    "    ax.set_ylim(0,1)\n",
    "    ax.set_xticks([])\n",
    "    ax.set_yticks([])\n",
    "    \n",
    "    ax.annotate('Overrepresented in Republican tweets',fontsize=15, xy=(1, -0.095), xycoords='axes fraction', xytext=(0.6, -0.1), \n",
    "            arrowprops=dict(arrowstyle=\"->\", color='r'))\n",
    "    ax.annotate('Overrepresented in Democratic tweets',fontsize=15, xy=(0, -0.095), xycoords='axes fraction', xytext=(0.1, -0.1), \n",
    "            arrowprops=dict(arrowstyle=\"->\", color='b'))\n",
    "    ax.set_xlabel('$z-score$', fontsize=15)\n",
    "    \n",
    "#     ax.yaxis.set_ticks([])\n",
    "#     ax.set_xlabel('Log odds ratio', fontsize=15)\n",
    "#     ax.set_ylabel('Demoratic overrep words', fontsize=15)\n",
    "#     ax2 = ax.twinx()\n",
    "#     ax2.set_ylabel('Republican overrep words', fontsize=15)\n",
    "\n",
    "\n",
    "\n",
    "        \n",
    "#     if month == 'feb':\n",
    "#         ax.set_title('February 2020', fontsize=15)\n",
    "#     elif month == 'mar':\n",
    "#         ax.set_title('March 2020', fontsize=15)\n",
    "#     elif month == 'apr':\n",
    "#         ax.set_title('April 2020', fontsize=15)\n",
    "    adjust_text(all_text, expand_text=(1.2, 1.01), force_text=(0.75, 0.75), \\\n",
    "                lim=20,only_move={'text':'x'})#add_objects=[line, rep_l1,rep_l2, rep_l3]\n",
    "    plt.tight_layout()\n",
    "#     plt.savefig('logodds_{}_.pdf'.format(month), format='pdf')"
   ]
  },
  {
   "cell_type": "code",
   "execution_count": 212,
   "metadata": {},
   "outputs": [
    {
     "data": {
      "image/png": "[encoded data removed]",
      "text/plain": [
       "<Figure size 1080x720 with 1 Axes>"
      ]
     },
     "metadata": {},
     "output_type": "display_data"
    }
   ],
   "source": [
    "plot_logodds(result,  month='All', num_words=50)"
   ]
  },
  {
   "cell_type": "code",
   "execution_count": null,
   "metadata": {},
   "outputs": [],
   "source": []
  },
  {
   "cell_type": "code",
   "execution_count": null,
   "metadata": {},
   "outputs": [],
   "source": []
  },
  {
   "cell_type": "code",
   "execution_count": 189,
   "metadata": {},
   "outputs": [],
   "source": []
  },
  {
   "cell_type": "code",
   "execution_count": null,
   "metadata": {},
   "outputs": [],
   "source": []
  }
 ],
 "metadata": {
  "kernelspec": {
   "display_name": "Python 3",
   "language": "python",
   "name": "python3"
  },
  "language_info": {
   "codemirror_mode": {
    "name": "ipython",
    "version": 3
   },
   "file_extension": ".py",
   "mimetype": "text/x-python",
   "name": "python",
   "nbconvert_exporter": "python",
   "pygments_lexer": "ipython3",
   "version": "3.7.7"
  }
 },
 "nbformat": 4,
 "nbformat_minor": 2
}
