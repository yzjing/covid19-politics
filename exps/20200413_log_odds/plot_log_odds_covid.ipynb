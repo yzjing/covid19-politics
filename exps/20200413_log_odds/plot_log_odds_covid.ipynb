{
 "cells": [
  {
   "cell_type": "code",
   "execution_count": 1,
   "metadata": {},
   "outputs": [],
   "source": [
    "import pickle\n",
    "import os\n",
    "import re\n",
    "from collections import Counter\n",
    "import math\n",
    "import matplotlib.pyplot as plt\n",
    "import random\n",
    "import json\n",
    "import datetime\n",
    "import string\n",
    "string.punctuation += '➡•’'\n",
    "import numpy as np\n",
    "from adjustText import adjust_text\n",
    "import matplotlib.cm as cm\n",
    "import matplotlib\n",
    "import spacy\n",
    "import pandas as pd"
   ]
  },
  {
   "cell_type": "code",
   "execution_count": 3,
   "metadata": {},
   "outputs": [],
   "source": [
    "nlp=spacy.load('en_core_web_md', disable=['parser', 'tagger', 'ner'])"
   ]
  },
  {
   "cell_type": "code",
   "execution_count": 3,
   "metadata": {},
   "outputs": [],
   "source": [
    "# sp_tokens = ['de', 'la', 's', 'm', 'las', 'los', 'p', 've', 'en', 're', 'del', 't', 'que' ]"
   ]
  },
  {
   "cell_type": "code",
   "execution_count": null,
   "metadata": {},
   "outputs": [],
   "source": [
    "open('../../data/')"
   ]
  },
  {
   "cell_type": "code",
   "execution_count": 6,
   "metadata": {},
   "outputs": [],
   "source": [
    "\n",
    "def load_data(target_option='politician_covid', bg_option='general_covid'):\n",
    "\n",
    "    def _get_covid_tweets(df):\n",
    "            all_covid_tweets = []\n",
    "            all_bg_tweets = []\n",
    "            for idx, row in df.iterrows():\n",
    "                try:\n",
    "                    t = row['Text']\n",
    "                    if 'covid' in t or 'coronavirus' in t:\n",
    "                        all_covid_tweets.append(row)\n",
    "                    else:\n",
    "                        all_bg_tweets.append(row)\n",
    "                except Exception as ex:\n",
    "                    continue\n",
    "                \n",
    "            return pd.DataFrame(all_covid_tweets), pd.DataFrame(all_bg_tweets)\n",
    "\n",
    "    if target_option == 'politician_covid':\n",
    "        dem = pickle.load(open('../../data/all_tweet_texts_dem.p', 'rb'))\n",
    "        rep = pickle.load(open('../../data/all_tweet_texts_rep.p', 'rb'))\n",
    "        dem_covid = _get_covid_tweets(dem)\n",
    "        rep_covid = _get_covid_tweets(rep)\n",
    "\n",
    "    else:\n",
    "        logger.info('not valid option for target corpus')\n",
    "\n",
    "\n",
    "    if bg_option == 'general_covid':\n",
    "        moe_1 = pickle.load(open('../../data/moe_sample_tweets_feb.p', 'rb'))\n",
    "        moe_2 = pickle.load(open('../../data/moe_sample_tweets_mar.p', 'rb'))\n",
    "        moe_3 = pickle.load(open('../../data/moe_sample_tweets_apr.p', 'rb'))\n",
    "        moe_4 = pd.read_csv('../../data/moe_may_to_aug_sample.tsv', sep='\\t',lineterminator='\\n')\n",
    "        moe_4.columns = ['unnamed', 'Text', 'Time']\n",
    "        moe_4 = moe_4[['Text', 'Time']]\n",
    "        bg = pd.concat([moe_1, moe_2, moe_3, moe_4])\n",
    "\n",
    "    else:\n",
    "        logger.info('not valid option for background corpus')\n",
    "\n",
    "    dem['Party'] = 'Dem'\n",
    "    rep['Party'] = 'Rep'\n",
    "    bg['Party'] = 'Bg'\n",
    "\n",
    "    return dem, rep, bg\n"
   ]
  },
  {
   "cell_type": "code",
   "execution_count": 7,
   "metadata": {},
   "outputs": [],
   "source": [
    "dem, rep, bg = load_data()"
   ]
  },
  {
   "cell_type": "code",
   "execution_count": 8,
   "metadata": {},
   "outputs": [],
   "source": [
    "data_path = '../../data/'\n",
    "house_rep_screennames = pickle.load(open(data_path+'house_rep_screennames.p', 'rb'))\n",
    "house_dem_screennames = pickle.load(open(data_path+'house_dem_screennames.p', 'rb'))\n",
    "senate_dem_screennames = pickle.load(open(data_path+'senate_dem_screennames.p', 'rb'))\n",
    "senate_rep_screennames = pickle.load(open(data_path+'senate_rep_screennames.p', 'rb'))\n",
    "govenor_rep_screennames = pickle.load(open(data_path+'govenor_rep_screennames.p', 'rb'))\n",
    "govenor_dem_screennames = pickle.load(open(data_path+'govenor_dem_screennames.p', 'rb'))"
   ]
  },
  {
   "cell_type": "code",
   "execution_count": 9,
   "metadata": {},
   "outputs": [],
   "source": [
    "all_screenname = set(house_rep_screennames + house_dem_screennames + senate_dem_screennames + senate_rep_screennames\\\n",
    "                + govenor_rep_screennames + govenor_dem_screennames)"
   ]
  },
  {
   "cell_type": "code",
   "execution_count": 11,
   "metadata": {},
   "outputs": [
    {
     "data": {
      "text/plain": [
       "(274683, 165821, 837156)"
      ]
     },
     "execution_count": 11,
     "metadata": {},
     "output_type": "execute_result"
    }
   ],
   "source": [
    "len(dem), len(rep), len(bg)"
   ]
  },
  {
   "cell_type": "code",
   "execution_count": 12,
   "metadata": {},
   "outputs": [],
   "source": [
    "exclude_words = set(['Ricketts', 'RepPressley', 'Beshear', 'GregHilburn1', 'HouseDemocrats', 'RepBera', 'OversightDems', \n",
    " 'WaysandMeansGOP', 'dougducey', 'SteveScalise', 'HouseGOP', 'SecretarySonny', 'Hutchinson', 'GOPoversight',\n",
    " 'AsaHutchinson','GOPLeader', 'GovRicketts','WhiteHouse','m', 'ChadSabadie', 'HouseCommerce','✓'])"
   ]
  },
  {
   "cell_type": "code",
   "execution_count": 182,
   "metadata": {},
   "outputs": [],
   "source": [
    "# def get_monthly_data(month):\n",
    "#     if month == 'feb':\n",
    "#         dem_month = dem[(dem['Time'] >= datetime.datetime(2020, 2, 1)) & (dem['Time'] < datetime.datetime(2020, 3, 1))]\n",
    "#         rep_month = rep[(rep['Time'] >= datetime.datetime(2020, 2, 1)) & (rep['Time'] < datetime.datetime(2020, 3, 1))]\n",
    "#         bg_month = pickle.load(open('../../data/moe_sample_tweets_feb.p', 'rb'))\n",
    "#     elif month == 'mar':\n",
    "#         dem_month = dem[(dem['Time'] >= datetime.datetime(2020, 3, 1)) & (dem['Time'] < datetime.datetime(2020, 4, 1))]\n",
    "#         rep_month = rep[(rep['Time'] >= datetime.datetime(2020, 3, 1)) & (rep['Time'] < datetime.datetime(2020, 4, 1))]\n",
    "#         bg_month = pickle.load(open('../../data/moe_sample_tweets_mar.p', 'rb'))\n",
    "\n",
    "#     elif month == 'apr':\n",
    "#         dem_month = dem[(dem['Time'] >= datetime.datetime(2020, 4, 1)) & (dem['Time'] < datetime.datetime(2020, 5, 1))]\n",
    "#         rep_month = rep[(rep['Time'] >= datetime.datetime(2020, 4, 1)) & (rep['Time'] < datetime.datetime(2020, 5, 1))]\n",
    "#         bg_month = pickle.load(open('../../data/moe_sample_tweets_apr.p', 'rb'))\n",
    "#     else:\n",
    "#         print('month must be feb, mar, or apr')\n",
    "#     return dem_month, rep_month, bg_month"
   ]
  },
  {
   "cell_type": "code",
   "execution_count": 183,
   "metadata": {},
   "outputs": [],
   "source": [
    "# month = 'apr'"
   ]
  },
  {
   "cell_type": "code",
   "execution_count": 184,
   "metadata": {},
   "outputs": [],
   "source": [
    "# dem_month, rep_month, bg_month = get_monthly_data(month)"
   ]
  },
  {
   "cell_type": "code",
   "execution_count": 185,
   "metadata": {},
   "outputs": [],
   "source": [
    "# print(len(dem_month), len(rep_month), len(bg_month))"
   ]
  },
  {
   "cell_type": "code",
   "execution_count": 18,
   "metadata": {},
   "outputs": [],
   "source": [
    "def preprocess_text(dem, rep, bg):\n",
    "    dem = dem.Text.tolist()\n",
    "    dem = [t.translate(str.maketrans('', '', string.punctuation)).replace('\\n', '') for t in dem]\n",
    "    dem_tokenized = [token.text for t in dem for token in nlp(t)]\n",
    "    dem_tokenized = [t for t in dem_tokenized if t not in all_screenname and t not in exclude_words]\n",
    "    rep = rep.Text.tolist()\n",
    "    rep = [t.translate(str.maketrans('', '', string.punctuation)).replace('\\n', '') for t in rep]\n",
    "    rep_tokenized = [token.text for t in rep for token in nlp(t)]\n",
    "    rep_tokenized = [t for t in rep_tokenized if t not in all_screenname and t not in exclude_words]\n",
    "    bg = bg.Text.tolist()\n",
    "    bg = [t.translate(str.maketrans('', '', string.punctuation)).replace('\\n', '') for t in bg]\n",
    "    bg_tokenized = [token.text for t in bg for token in nlp(t)]\n",
    "    bg_tokenized = [t for t in bg_tokenized if t not in all_screenname and t not in exclude_words]\n",
    "\n",
    "    dem_counter=  Counter(dem_tokenized)\n",
    "    rep_counter= Counter(rep_tokenized)\n",
    "    bg_counter = Counter(bg_tokenized)\n",
    "    return dem_counter, rep_counter, bg_counter"
   ]
  },
  {
   "cell_type": "code",
   "execution_count": 19,
   "metadata": {},
   "outputs": [],
   "source": [
    "dem_counter, rep_counter, bg_counter = preprocess_text(dem, rep, bg)"
   ]
  },
  {
   "cell_type": "code",
   "execution_count": 21,
   "metadata": {},
   "outputs": [
    {
     "data": {
      "text/plain": [
       "(1165240, 171125, 121743)"
      ]
     },
     "execution_count": 21,
     "metadata": {},
     "output_type": "execute_result"
    }
   ],
   "source": [
    "len(bg_counter), len(dem_counter), len(rep_counter)"
   ]
  },
  {
   "cell_type": "code",
   "execution_count": 22,
   "metadata": {},
   "outputs": [
    {
     "data": {
      "text/plain": [
       "40190"
      ]
     },
     "execution_count": 22,
     "metadata": {},
     "output_type": "execute_result"
    }
   ],
   "source": [
    "dem_counter['COVID19']"
   ]
  },
  {
   "cell_type": "code",
   "execution_count": 23,
   "metadata": {},
   "outputs": [
    {
     "data": {
      "text/plain": [
       "22409"
      ]
     },
     "execution_count": 23,
     "metadata": {},
     "output_type": "execute_result"
    }
   ],
   "source": [
    "rep_counter['COVID19']"
   ]
  },
  {
   "cell_type": "code",
   "execution_count": 24,
   "metadata": {},
   "outputs": [
    {
     "data": {
      "text/plain": [
       "446143"
      ]
     },
     "execution_count": 24,
     "metadata": {},
     "output_type": "execute_result"
    }
   ],
   "source": [
    "bg_counter['COVID19']"
   ]
  },
  {
   "cell_type": "code",
   "execution_count": 25,
   "metadata": {},
   "outputs": [],
   "source": [
    "def logodds(corpora_dic, bg_counter):\n",
    "    \"\"\" It calculates the log odds ratio of term i's frequency between \n",
    "    a target corpus and another corpus, with the prior information from\n",
    "    a background corpus. Inputs are:\n",
    "    \n",
    "    - a dictionary of Counter objects (corpora of our interest)\n",
    "    - a Counter objects (background corpus)\n",
    "    \n",
    "    Output is a dictionary of dictionaries. Each dictionary contains the log \n",
    "    odds ratio of each word. \n",
    "    \n",
    "    \"\"\"\n",
    "    corp_size = dict([(c, sum(corpora_dic[c].values())) for c in corpora_dic])\n",
    "    bg_size = sum(bg_counter.values())\n",
    "    result = dict([(c, {}) for c in corpora_dic])\n",
    "    \n",
    "    for name, c in corpora_dic.items():\n",
    "        for word in c:\n",
    "            #if 10 > sum(1 for corpus in corpora_dic.values() if corpus[word]):\n",
    "            #    continue\n",
    "            \n",
    "            fi = c[word]\n",
    "            fj = sum(co[word] for x, co in corpora_dic.items() if x != name)\n",
    "            fbg = bg_counter[word]+0.0001\n",
    "            ni = corp_size[name]\n",
    "            nj = sum(x for idx, x in corp_size.items() if idx != name)\n",
    "            nbg = bg_size\n",
    "#             print(fi+fbg,ni+nbg-(fi+fbg),fj+fbg,nj+nbg-(fj+fbg))\n",
    "            oddsratio = math.log(fi+fbg) - math.log(ni+nbg-(fi+fbg)) -\\\n",
    "                        math.log(fj+fbg) + math.log(nj+nbg-(fj+fbg))\n",
    "            std = 1.0 / (fi+fbg) + 1.0 / (fj+fbg)\n",
    "            z = oddsratio / math.sqrt(std)\n",
    "            result[name][word] = z\n",
    "            \n",
    "    return result"
   ]
  },
  {
   "cell_type": "code",
   "execution_count": 26,
   "metadata": {},
   "outputs": [],
   "source": [
    "result = logodds({'Republican_tweets': rep_counter, 'Democratic_tweets': dem_counter}, bg_counter)"
   ]
  },
  {
   "cell_type": "code",
   "execution_count": 27,
   "metadata": {},
   "outputs": [],
   "source": [
    "dem_top = sorted(result['Democratic_tweets'], key=result['Democratic_tweets'].get,reverse=True)[0:40]\n"
   ]
  },
  {
   "cell_type": "code",
   "execution_count": 28,
   "metadata": {},
   "outputs": [
    {
     "data": {
      "text/plain": [
       "['must',\n",
       " 'Act',\n",
       " 'health',\n",
       " 'need',\n",
       " 'justice',\n",
       " 'communities',\n",
       " 'to',\n",
       " 'our',\n",
       " 'families',\n",
       " 'Black',\n",
       " 'and',\n",
       " 'workers',\n",
       " 'ensure',\n",
       " '2020Census',\n",
       " 'Census',\n",
       " 'Trump',\n",
       " 'protections',\n",
       " 'passed',\n",
       " 'we',\n",
       " 'equality',\n",
       " 'federal',\n",
       " 'care',\n",
       " 'HeroesAct',\n",
       " 'LGBTQ',\n",
       " 'community',\n",
       " 'vote',\n",
       " 'benefits',\n",
       " 'racial',\n",
       " 'gun',\n",
       " 'access',\n",
       " 'hall',\n",
       " 'pass',\n",
       " 'color',\n",
       " '—',\n",
       " 'Senate',\n",
       " 'crisis',\n",
       " 'I',\n",
       " 'public',\n",
       " '–',\n",
       " 'McConnell']"
      ]
     },
     "execution_count": 28,
     "metadata": {},
     "output_type": "execute_result"
    }
   ],
   "source": [
    "dem_top"
   ]
  },
  {
   "cell_type": "code",
   "execution_count": 29,
   "metadata": {},
   "outputs": [],
   "source": [
    "rep_top = sorted(result['Republican_tweets'], key=result['Republican_tweets'].get,reverse=True)[0:40]\n"
   ]
  },
  {
   "cell_type": "code",
   "execution_count": 30,
   "metadata": {},
   "outputs": [
    {
     "data": {
      "text/plain": [
       "['RT',\n",
       " 'COVID19',\n",
       " '…',\n",
       " 'coronavirus',\n",
       " 'realDonaldTrump',\n",
       " ' ',\n",
       " 'PaycheckProtectionProgram',\n",
       " 'China',\n",
       " 'Pelosi',\n",
       " 'Communist',\n",
       " 'Speaker',\n",
       " 'Coronavirus',\n",
       " 'Ohio',\n",
       " 'Democrats',\n",
       " 'InItTogether',\n",
       " '🇸',\n",
       " '🇺',\n",
       " 'Covid19',\n",
       " 'cases',\n",
       " 'realDonaldTrumps',\n",
       " '→',\n",
       " 'Idaho',\n",
       " 'Arkansas',\n",
       " 'Chinese',\n",
       " 'Pelosis',\n",
       " 'Arizona',\n",
       " 'FISA',\n",
       " 'producers',\n",
       " 'la',\n",
       " 'Nebraska',\n",
       " 'CCP',\n",
       " 'covid19',\n",
       " 'ranchers',\n",
       " 'Hoosiers',\n",
       " 'InThisTogetherOhio',\n",
       " 'Dems',\n",
       " 'Party',\n",
       " 'farmers',\n",
       " 'Alaska',\n",
       " 'Indiana']"
      ]
     },
     "execution_count": 30,
     "metadata": {},
     "output_type": "execute_result"
    }
   ],
   "source": [
    "rep_top"
   ]
  },
  {
   "cell_type": "code",
   "execution_count": 224,
   "metadata": {},
   "outputs": [],
   "source": [
    "rep_place = ['Ohios', 'Idaho', 'WVDHHR', 'AZDHS', 'Nebraska', 'Ohio', 'COVID19OhioReady', 'StateHealthIN', \\\n",
    "             'Hoosiers', 'Dakota', 'COVID19MA','InThisTogetherOhio','HealthyOklahoma','NY21','COVID19MA',\n",
    "            'NEDHHS','DeptSaludPR','msdh','Tennessee','Alaska','UtahCoronavirus','fortalezapr',]"
   ]
  },
  {
   "cell_type": "code",
   "execution_count": 225,
   "metadata": {},
   "outputs": [],
   "source": [
    "rep_press = ['LIVE', 'Press', 'Briefing', 'Speaker','Coming','130pm','200pm',]"
   ]
  },
  {
   "cell_type": "code",
   "execution_count": 234,
   "metadata": {},
   "outputs": [],
   "source": [
    "rep_other =  ['Task', 'Force','ranchers', 'USDA','FCC','RT',\n",
    "              'RADIO','ALERT','CombatCOVID19Challenge', 'Pelosis','Communist']"
   ]
  },
  {
   "cell_type": "code",
   "execution_count": null,
   "metadata": {},
   "outputs": [],
   "source": []
  },
  {
   "cell_type": "code",
   "execution_count": 235,
   "metadata": {},
   "outputs": [],
   "source": [
    "# sorted(result['Republican_tweets'], key=result['Republican_tweets'].get, reverse=True)[0:40]"
   ]
  },
  {
   "cell_type": "code",
   "execution_count": 246,
   "metadata": {},
   "outputs": [],
   "source": [
    "dem_place = ['lagov','Jersey', 'Jerseyans', 'Connecticut','CAgovernor', 'Bergen','LADeptHealth',\\\n",
    "            'lalege', 'Atlantic', 'Districts', 'Louisiana', 'Town', 'Kentuckians','DHSWI','MDHealthDept',\n",
    "            'PAHealthDept','IDPH','KDHE','CountyofLA']"
   ]
  },
  {
   "cell_type": "code",
   "execution_count": 247,
   "metadata": {},
   "outputs": [],
   "source": [
    "dem_other = ['hall','telephone','town','disparities','Hall', 'HAPPENING', 'Join', 'bipartisan', 'health',\n",
    "             'teletown','Response', 'communities','hosting','HAPPENING','Edwards','joined']"
   ]
  },
  {
   "cell_type": "code",
   "execution_count": 248,
   "metadata": {},
   "outputs": [],
   "source": [
    "dem_campaign = ['FamiliesFirst', 'TheBlackCaucus','HispanicCaucus','Act','color']"
   ]
  },
  {
   "cell_type": "code",
   "execution_count": 249,
   "metadata": {},
   "outputs": [],
   "source": [
    "top_words = sorted(result['Democratic_tweets'], key=result['Democratic_tweets'].get,reverse=True)[0:40]\n"
   ]
  },
  {
   "cell_type": "code",
   "execution_count": 250,
   "metadata": {},
   "outputs": [
    {
     "data": {
      "text/plain": [
       "set()"
      ]
     },
     "execution_count": 250,
     "metadata": {},
     "output_type": "execute_result"
    }
   ],
   "source": [
    "set(dem_place+dem_other+dem_campaign)-set(top_words)"
   ]
  },
  {
   "cell_type": "code",
   "execution_count": 267,
   "metadata": {},
   "outputs": [],
   "source": [
    "from numpy import interp\n",
    "\n",
    "def plot_logodds(results,  month, num_words=15):\n",
    "    # the two groups of interest\n",
    "    rep_dic = results['Republican_tweets']\n",
    "    dem_dic = results['Democratic_tweets']\n",
    "    # sort to get the most over-represented and under-represented\n",
    "    rep = {k: rep_dic[k] for k in sorted(rep_dic, key=rep_dic.get, reverse=True)[0:num_words]}\n",
    "    dem = {k: -dem_dic[k] for k in sorted(dem_dic, key=dem_dic.get, reverse=True)[0:num_words]}\n",
    "    blue_minima = min(dem.values())\n",
    "    blue_maxima = max(dem.values())\n",
    "    blue_norm = matplotlib.colors.Normalize(vmin=blue_minima, vmax=blue_maxima, clip=True)\n",
    "    blue_mapper = cm.ScalarMappable(norm=blue_norm, cmap=cm.Blues)\n",
    "    \n",
    "    red_minima = min(rep.values())\n",
    "    red_maxima = max(rep.values())\n",
    "    red_norm = matplotlib.colors.Normalize(vmin=red_minima-10, vmax=red_maxima, clip=True)\n",
    "    red_mapper = cm.ScalarMappable(norm=red_norm, cmap=cm.Reds)\n",
    "                    \n",
    "    fig, ax = plt.subplots(1,1, figsize=(14,10))\n",
    "    all_text = []\n",
    "    for word in rep_place:\n",
    "        t = ax.text(rep[word], random.randrange(0,28)/100, word, \\\n",
    "                    c=red_mapper.to_rgba(rep[word]), fontsize=13)\n",
    "        all_text.append(t)\n",
    "    for word in rep_press:\n",
    "        t = ax.text(rep[word], random.randrange(35,63)/100, word, \\\n",
    "                    c=red_mapper.to_rgba(rep[word]), fontsize=13)\n",
    "        all_text.append(t)\n",
    "    for word in rep_other:\n",
    "        t = ax.text(rep[word], random.randrange(70,100)/100, word, \\\n",
    "                    c=red_mapper.to_rgba(rep[word]), fontsize=13)\n",
    "        all_text.append(t)\n",
    "    \n",
    "    plt.text(max(rep.values())+8,0.2, 'Places', fontsize=15)\n",
    "    plt.text(max(rep.values())+8,0.5, 'Press', fontsize=15)\n",
    "    plt.text(max(rep.values())+8,0.7, 'Other', fontsize=15)\n",
    "\n",
    "    \n",
    "    for word in dem_place:\n",
    "        t = ax.text(dem[word], random.randrange(0,28)/100, word, \\\n",
    "                    c=blue_mapper.to_rgba(dem[word]), fontsize=13)\n",
    "        all_text.append(t)\n",
    "    for word in dem_campaign:\n",
    "        t = ax.text(dem[word], random.randrange(35,63)/100, word, \\\n",
    "                    c=blue_mapper.to_rgba(dem[word]), fontsize=13)\n",
    "        all_text.append(t)\n",
    "    for word in dem_other:\n",
    "        t = ax.text(dem[word], random.randrange(70,100)/100, word, \\\n",
    "                    c=blue_mapper.to_rgba(dem[word]), fontsize=13)\n",
    "        all_text.append(t)\n",
    "\n",
    "    \n",
    "    \n",
    "#     text2 = [ax.text(group2_overrep_values[idx], random.random(), group2_overrep_keys[idx],\n",
    "#                      c=blue_mapper.to_rgba(group2_overrep_values[idx]), fontsize=13) for idx in range(num_words)]             \n",
    "\n",
    "    line = ax.plot([0,0], [0,1], c='black')\n",
    "    ax.plot([min(dem.values())-2, max(rep.values())+8], [0.33, 0.33], c='purple')\n",
    "    ax.plot([min(dem.values())-2,max(rep.values())+8], [0.66, 0.66], c='purple')\n",
    "\n",
    "    ax.set_xlim(min(dem.values())-2, max(rep.values())+8)\n",
    "    ax.set_ylim(0,1)\n",
    "#     ax.yaxis.set_ticks([])\n",
    "#     ax.set_xlabel('Log odds ratio', fontsize=15)\n",
    "#     ax.set_ylabel('Demoratic overrep words', fontsize=15)\n",
    "#     ax2 = ax.twinx()\n",
    "#     ax2.set_ylabel('Republican overrep words', fontsize=15)\n",
    "\n",
    "    plt.text(min(dem.values())-6,0.2, 'Places', fontsize=15)\n",
    "    plt.text(min(dem.values())-6,0.5, 'Campaigns', fontsize=15)\n",
    "    plt.text(min(dem.values())-6,0.7, 'Other', fontsize=15)\n",
    "\n",
    "        \n",
    "#     if month == 'feb':\n",
    "#         ax.set_title('February 2020', fontsize=15)\n",
    "#     elif month == 'mar':\n",
    "#         ax.set_title('March 2020', fontsize=15)\n",
    "#     elif month == 'apr':\n",
    "#         ax.set_title('April 2020', fontsize=15)\n",
    "    adjust_text(all_text, expand_text=(1.01, 1.01), force_text=(0.75, 0.75), lim=20)# add_objects=line,\n",
    "# #     plt.savefig('logodds_{}_.png'.format(month), format='png')"
   ]
  },
  {
   "cell_type": "code",
   "execution_count": 268,
   "metadata": {},
   "outputs": [
    {
     "data": {
      "image/png": "[encoded data removed]",
      "text/plain": [
       "<Figure size 1008x720 with 1 Axes>"
      ]
     },
     "metadata": {
      "needs_background": "light"
     },
     "output_type": "display_data"
    }
   ],
   "source": [
    "plot_logodds(result,  month='All', num_words=40)"
   ]
  },
  {
   "cell_type": "code",
   "execution_count": null,
   "metadata": {},
   "outputs": [],
   "source": []
  },
  {
   "cell_type": "code",
   "execution_count": null,
   "metadata": {},
   "outputs": [],
   "source": []
  },
  {
   "cell_type": "code",
   "execution_count": 189,
   "metadata": {},
   "outputs": [],
   "source": []
  },
  {
   "cell_type": "code",
   "execution_count": null,
   "metadata": {},
   "outputs": [],
   "source": []
  }
 ],
 "metadata": {
  "kernelspec": {
   "display_name": "Python 3",
   "language": "python",
   "name": "python3"
  },
  "language_info": {
   "codemirror_mode": {
    "name": "ipython",
    "version": 3
   },
   "file_extension": ".py",
   "mimetype": "text/x-python",
   "name": "python",
   "nbconvert_exporter": "python",
   "pygments_lexer": "ipython3",
   "version": "3.7.7"
  }
 },
 "nbformat": 4,
 "nbformat_minor": 2
}
